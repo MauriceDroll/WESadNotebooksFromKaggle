{
 "cells": [
  {
   "cell_type": "code",
   "execution_count": 1,
   "id": "e0487315",
   "metadata": {
    "_cell_guid": "b1076dfc-b9ad-4769-8c92-a6c4dae69d19",
    "_uuid": "8f2839f25d086af736a60e9eeb907d3b93b6e0e5",
    "execution": {
     "iopub.execute_input": "2025-09-25T13:22:35.425356Z",
     "iopub.status.busy": "2025-09-25T13:22:35.425038Z",
     "iopub.status.idle": "2025-09-25T13:22:37.788329Z",
     "shell.execute_reply": "2025-09-25T13:22:37.787334Z"
    },
    "papermill": {
     "duration": 2.376882,
     "end_time": "2025-09-25T13:22:37.790142",
     "exception": false,
     "start_time": "2025-09-25T13:22:35.413260",
     "status": "completed"
    },
    "tags": []
   },
   "outputs": [
    {
     "name": "stdout",
     "output_type": "stream",
     "text": [
      "/kaggle/input/wesad-wearable-stress-affect-detection-dataset/WESAD/S14/S14.pkl\n",
      "/kaggle/input/wesad-wearable-stress-affect-detection-dataset/WESAD/S11/S11.pkl\n",
      "/kaggle/input/wesad-wearable-stress-affect-detection-dataset/WESAD/S13/S13.pkl\n",
      "/kaggle/input/wesad-wearable-stress-affect-detection-dataset/WESAD/S10/S10.pkl\n",
      "/kaggle/input/wesad-wearable-stress-affect-detection-dataset/WESAD/S8/S8.pkl\n",
      "/kaggle/input/wesad-wearable-stress-affect-detection-dataset/WESAD/S5/S5.pkl\n",
      "/kaggle/input/wesad-wearable-stress-affect-detection-dataset/WESAD/S7/S7.pkl\n",
      "/kaggle/input/wesad-wearable-stress-affect-detection-dataset/WESAD/S9/S9.pkl\n",
      "/kaggle/input/wesad-wearable-stress-affect-detection-dataset/WESAD/S15/S15.pkl\n",
      "/kaggle/input/wesad-wearable-stress-affect-detection-dataset/WESAD/S2/S2.pkl\n",
      "/kaggle/input/wesad-wearable-stress-affect-detection-dataset/WESAD/S6/S6.pkl\n",
      "/kaggle/input/wesad-wearable-stress-affect-detection-dataset/WESAD/S3/S3.pkl\n",
      "/kaggle/input/wesad-wearable-stress-affect-detection-dataset/WESAD/S4/S4.pkl\n",
      "/kaggle/input/wesad-wearable-stress-affect-detection-dataset/WESAD/S16/S16.pkl\n",
      "/kaggle/input/wesad-wearable-stress-affect-detection-dataset/WESAD/S17/S17.pkl\n"
     ]
    }
   ],
   "source": [
    "# This Python 3 environment comes with many helpful analytics libraries installed\n",
    "# It is defined by the kaggle/python Docker image: https://github.com/kaggle/docker-python\n",
    "# For example, here's several helpful packages to load\n",
    "\n",
    "import numpy as np # linear algebra\n",
    "import pandas as pd # data processing, CSV file I/O (e.g. pd.read_csv)\n",
    "\n",
    "# Input data files are available in the read-only \"../input/\" directory\n",
    "# For example, running this (by clicking run or pressing Shift+Enter) will list all files under the input directory\n",
    "\n",
    "import os\n",
    "for dirname, _, filenames in os.walk('/kaggle/input'):\n",
    "    for filename in filenames:\n",
    "        if \".pkl\" in filename:\n",
    "            print(os.path.join(dirname, filename))\n",
    "\n",
    "# You can write up to 20GB to the current directory (/kaggle/working/) that gets preserved as output when you create a version using \"Save & Run All\" \n",
    "# You can also write temporary files to /kaggle/temp/, but they won't be saved outside of the current session"
   ]
  },
  {
   "cell_type": "code",
   "execution_count": 2,
   "id": "17402c0d",
   "metadata": {
    "execution": {
     "iopub.execute_input": "2025-09-25T13:22:37.809773Z",
     "iopub.status.busy": "2025-09-25T13:22:37.809302Z",
     "iopub.status.idle": "2025-09-25T13:22:52.170721Z",
     "shell.execute_reply": "2025-09-25T13:22:52.169042Z"
    },
    "papermill": {
     "duration": 14.372705,
     "end_time": "2025-09-25T13:22:52.172326",
     "exception": false,
     "start_time": "2025-09-25T13:22:37.799621",
     "status": "completed"
    },
    "tags": []
   },
   "outputs": [
    {
     "name": "stdout",
     "output_type": "stream",
     "text": [
      "<class 'dict'>\n",
      "dict_keys(['signal', 'label', 'subject'])\n"
     ]
    }
   ],
   "source": [
    "# /kaggle/input/wesad-wearable-stress-affect-detection-dataset/WESAD/S14/S14.pkl\n",
    "import pandas as pd\n",
    "\n",
    "# Pfad zur Datei\n",
    "file_path = '/kaggle/input/wesad-wearable-stress-affect-detection-dataset/WESAD/S14/S14.pkl'\n",
    "\n",
    "# Einlesen der Pickle-Datei\n",
    "with open(file_path, 'rb') as file:\n",
    "    data = pd.read_pickle(file)\n",
    "\n",
    "# Anzeigen der Struktur (z. B. Keys, falls es ein Dictionary ist)\n",
    "print(type(data))\n",
    "print(data.keys())\n"
   ]
  },
  {
   "cell_type": "code",
   "execution_count": 3,
   "id": "742f0e35",
   "metadata": {
    "execution": {
     "iopub.execute_input": "2025-09-25T13:22:52.194363Z",
     "iopub.status.busy": "2025-09-25T13:22:52.194028Z",
     "iopub.status.idle": "2025-09-25T13:22:52.862430Z",
     "shell.execute_reply": "2025-09-25T13:22:52.861048Z"
    },
    "papermill": {
     "duration": 0.681869,
     "end_time": "2025-09-25T13:22:52.864787",
     "exception": false,
     "start_time": "2025-09-25T13:22:52.182918",
     "status": "completed"
    },
    "tags": []
   },
   "outputs": [
    {
     "name": "stdout",
     "output_type": "stream",
     "text": [
      "dict_keys(['chest', 'wrist'])\n",
      "Label 0: 1648499 Einträge – Keine Annotation / Übergang\n",
      "Label 1: 826000 Einträge – Baseline (Ruhe)\n",
      "Label 2: 472500 Einträge – Stressphase (z. B. Rechenaufgabe)\n",
      "Label 3: 260401 Einträge – Amusement (z. B. lustiges Video)\n",
      "Label 4: 555800 Einträge – Entspannung / Meditation (optional)\n",
      "Label 5: 44100 Einträge – Fragebogen / Pause (optional)\n",
      "Label 6: 38500 Einträge – Vorbereitung / Setup (optional)\n",
      "Label 7: 37800 Einträge – Technischer Übergang / unbekannt (optional)\n",
      "S14\n"
     ]
    }
   ],
   "source": [
    "import numpy as np\n",
    "import collections\n",
    "\n",
    "# Sensorsignale und Labels extrahieren\n",
    "signals = data['signal']  # dict mit 'eda', 'ecg', etc.\n",
    "labels = data['label']    # NumPy-Array (z. B. [1 1 1 2 2 2 ...])\n",
    "\n",
    "print(signals.keys())\n",
    "# Beispiel: EDA-Signal\n",
    "\n",
    "\n",
    "# Filter: nur Zeilen mit label == 2\n",
    "#type(data[labels == 2])\n",
    "#cells_with_stress = data[labels == 2]\n",
    "#type(cells_with_stress)\n",
    "# Sortieren: z. B. nach EDA-Werten (aufsteigend)\n",
    "#cells_with_stress_sorted = np.sort(cells_with_stress, axis=0)\n",
    "\n",
    "#print(\"EDA-Signale mit Label=2, sortiert:\\n\", cells_with_stress_sorted)\n",
    "\n",
    "import collections\n",
    "\n",
    "# Häufigkeiten zählen\n",
    "label_counts = dict(collections.Counter(labels))\n",
    "\n",
    "# Label-Bedeutungen laut WESAD (inkl. erweiterter Interpretation)\n",
    "label_meanings = {\n",
    "    0: \"Keine Annotation / Übergang\",\n",
    "    1: \"Baseline (Ruhe)\",\n",
    "    2: \"Stressphase (z. B. Rechenaufgabe)\",\n",
    "    3: \"Amusement (z. B. lustiges Video)\",\n",
    "    4: \"Entspannung / Meditation (optional)\",\n",
    "    5: \"Fragebogen / Pause (optional)\",\n",
    "    6: \"Vorbereitung / Setup (optional)\",\n",
    "    7: \"Technischer Übergang / unbekannt (optional)\"\n",
    "}\n",
    "\n",
    "# Übersicht ausgeben\n",
    "for label, count in sorted(label_counts.items()):\n",
    "    meaning = label_meanings.get(label, \"Unbekannt\")\n",
    "    print(f\"Label {label}: {count} Einträge – {meaning}\")\n",
    "\n",
    "print(data['subject'])"
   ]
  },
  {
   "cell_type": "code",
   "execution_count": 4,
   "id": "6340f464",
   "metadata": {
    "execution": {
     "iopub.execute_input": "2025-09-25T13:22:52.885822Z",
     "iopub.status.busy": "2025-09-25T13:22:52.885452Z",
     "iopub.status.idle": "2025-09-25T13:22:52.894730Z",
     "shell.execute_reply": "2025-09-25T13:22:52.893753Z"
    },
    "papermill": {
     "duration": 0.021042,
     "end_time": "2025-09-25T13:22:52.896367",
     "exception": false,
     "start_time": "2025-09-25T13:22:52.875325",
     "status": "completed"
    },
    "tags": []
   },
   "outputs": [
    {
     "data": {
      "text/plain": [
       "{'ACC': array([[ -23.,   31.,  127.],\n",
       "        [-128.,  -31.,   62.],\n",
       "        [ -54.,  -58.,   26.],\n",
       "        ...,\n",
       "        [ -47.,  -45.,    6.],\n",
       "        [ -47.,  -44.,    8.],\n",
       "        [ -47.,  -45.,    8.]]),\n",
       " 'BVP': array([[  -8.27],\n",
       "        [  -9.52],\n",
       "        [ -10.68],\n",
       "        ...,\n",
       "        [-123.97],\n",
       "        [-160.08],\n",
       "        [-195.94]]),\n",
       " 'EDA': array([[0.277864],\n",
       "        [0.266351],\n",
       "        [0.195992],\n",
       "        ...,\n",
       "        [0.080859],\n",
       "        [0.060391],\n",
       "        [0.175257]]),\n",
       " 'TEMP': array([[31.97],\n",
       "        [31.97],\n",
       "        [31.97],\n",
       "        ...,\n",
       "        [31.21],\n",
       "        [31.21],\n",
       "        [31.21]])}"
      ]
     },
     "execution_count": 4,
     "metadata": {},
     "output_type": "execute_result"
    }
   ],
   "source": [
    "data['signal']['wrist']"
   ]
  },
  {
   "cell_type": "markdown",
   "id": "3a1769ec",
   "metadata": {
    "papermill": {
     "duration": 0.008598,
     "end_time": "2025-09-25T13:22:52.914167",
     "exception": false,
     "start_time": "2025-09-25T13:22:52.905569",
     "status": "completed"
    },
    "tags": []
   },
   "source": [
    "## Daten sortieren wo nur Stress = 2 ist"
   ]
  },
  {
   "cell_type": "markdown",
   "id": "8e9edcb2",
   "metadata": {
    "papermill": {
     "duration": 0.009084,
     "end_time": "2025-09-25T13:22:52.932044",
     "exception": false,
     "start_time": "2025-09-25T13:22:52.922960",
     "status": "completed"
    },
    "tags": []
   },
   "source": [
    "Es sind viel zu wenige Daten für Stress. Oben sind es nich 470 Tsd unten nur noch 2700?!"
   ]
  },
  {
   "cell_type": "code",
   "execution_count": 5,
   "id": "c38e0505",
   "metadata": {
    "execution": {
     "iopub.execute_input": "2025-09-25T13:22:52.952313Z",
     "iopub.status.busy": "2025-09-25T13:22:52.951982Z",
     "iopub.status.idle": "2025-09-25T13:22:54.877457Z",
     "shell.execute_reply": "2025-09-25T13:22:54.876351Z"
    },
    "papermill": {
     "duration": 1.937769,
     "end_time": "2025-09-25T13:22:54.879282",
     "exception": false,
     "start_time": "2025-09-25T13:22:52.941513",
     "status": "completed"
    },
    "tags": []
   },
   "outputs": [
    {
     "name": "stdout",
     "output_type": "stream",
     "text": [
      "Label length: 3883600 | EDA length: 22192\n",
      "           EDA  Label\n",
      "0     0.339268      2\n",
      "1     0.337989      2\n",
      "2     0.336710      2\n",
      "3     0.337989      2\n",
      "4     0.337989      2\n",
      "...        ...    ...\n",
      "2697  0.336710      2\n",
      "2698  0.335430      2\n",
      "2699  0.316242      2\n",
      "2700  0.314962      2\n",
      "2701  0.286819      2\n",
      "\n",
      "[2702 rows x 2 columns]\n"
     ]
    }
   ],
   "source": [
    "from scipy.signal import resample\n",
    "\n",
    "\n",
    "labels = data['label']  # Länge z. B. 3883600\n",
    "eda = data['signal']['wrist']['EDA']  # Länge z. B. 22192\n",
    "\n",
    "print(f\"Label length: {len(labels)} | EDA length: {len(eda)}\")\n",
    "\n",
    "# Labels auf die Länge der EDA-Daten bringen\n",
    "labels_resampled = resample(labels.astype(float), len(eda))\n",
    "labels_resampled = np.round(labels_resampled).astype(int)\n",
    "\n",
    "# Maske anwenden\n",
    "mask = labels_resampled == 2\n",
    "eda_label2 = eda[mask]\n",
    "\n",
    "# In DataFrame\n",
    "df_eda_label2 = pd.DataFrame({\n",
    "    'EDA': eda_label2[:, 0],\n",
    "    'Label': [2] * len(eda_label2)\n",
    "})\n",
    "\n",
    "print(df_eda_label2)\n"
   ]
  },
  {
   "cell_type": "markdown",
   "id": "81c15a64",
   "metadata": {
    "papermill": {
     "duration": 0.009276,
     "end_time": "2025-09-25T13:22:54.898788",
     "exception": false,
     "start_time": "2025-09-25T13:22:54.889512",
     "status": "completed"
    },
    "tags": []
   },
   "source": [
    "### Baseline"
   ]
  },
  {
   "cell_type": "code",
   "execution_count": 6,
   "id": "7ca5b8b1",
   "metadata": {
    "execution": {
     "iopub.execute_input": "2025-09-25T13:22:54.919483Z",
     "iopub.status.busy": "2025-09-25T13:22:54.918984Z",
     "iopub.status.idle": "2025-09-25T13:22:55.200590Z",
     "shell.execute_reply": "2025-09-25T13:22:55.199511Z"
    },
    "papermill": {
     "duration": 0.293418,
     "end_time": "2025-09-25T13:22:55.202233",
     "exception": false,
     "start_time": "2025-09-25T13:22:54.908815",
     "status": "completed"
    },
    "tags": []
   },
   "outputs": [
    {
     "name": "stdout",
     "output_type": "stream",
     "text": [
      "Label length: 3883600 | EDA length: 22192\n",
      "           EDA  Label\n",
      "0     0.303449      1\n",
      "1     0.295773      1\n",
      "2     0.291936      1\n",
      "3     0.293215      1\n",
      "4     0.285539      1\n",
      "...        ...    ...\n",
      "4721  0.339268      1\n",
      "4722  0.335430      1\n",
      "4723  0.321359      1\n",
      "4724  0.313683      1\n",
      "4725  0.321359      1\n",
      "\n",
      "[4726 rows x 2 columns]\n"
     ]
    }
   ],
   "source": [
    "from scipy.signal import resample\n",
    "\n",
    "\n",
    "labels = data['label']  # Länge z. B. 3883600\n",
    "eda = data['signal']['wrist']['EDA']  # Länge z. B. 22192\n",
    "\n",
    "print(f\"Label length: {len(labels)} | EDA length: {len(eda)}\")\n",
    "\n",
    "# Labels auf die Länge der EDA-Daten bringen\n",
    "labels_resampled = resample(labels.astype(float), len(eda))\n",
    "labels_resampled = np.round(labels_resampled).astype(int)\n",
    "\n",
    "# Maske anwenden\n",
    "mask = labels_resampled == 1\n",
    "eda_label2 = eda[mask]\n",
    "\n",
    "# In DataFrame\n",
    "df_eda_label2 = pd.DataFrame({\n",
    "    'EDA': eda_label2[:, 0],\n",
    "    'Label': [1] * len(eda_label2)\n",
    "})\n",
    "\n",
    "print(df_eda_label2)\n"
   ]
  },
  {
   "cell_type": "markdown",
   "id": "25dac784",
   "metadata": {
    "execution": {
     "iopub.execute_input": "2025-07-31T08:55:46.550112Z",
     "iopub.status.busy": "2025-07-31T08:55:46.549763Z",
     "iopub.status.idle": "2025-07-31T08:55:46.554196Z",
     "shell.execute_reply": "2025-07-31T08:55:46.553293Z",
     "shell.execute_reply.started": "2025-07-31T08:55:46.550085Z"
    },
    "papermill": {
     "duration": 0.009278,
     "end_time": "2025-09-25T13:22:55.221762",
     "exception": false,
     "start_time": "2025-09-25T13:22:55.212484",
     "status": "completed"
    },
    "tags": []
   },
   "source": [
    "### Amusement"
   ]
  },
  {
   "cell_type": "markdown",
   "id": "4657fa21",
   "metadata": {
    "papermill": {
     "duration": 0.008849,
     "end_time": "2025-09-25T13:22:55.239787",
     "exception": false,
     "start_time": "2025-09-25T13:22:55.230938",
     "status": "completed"
    },
    "tags": []
   },
   "source": []
  },
  {
   "cell_type": "code",
   "execution_count": 7,
   "id": "5724cfa3",
   "metadata": {
    "execution": {
     "iopub.execute_input": "2025-09-25T13:22:55.259879Z",
     "iopub.status.busy": "2025-09-25T13:22:55.259562Z",
     "iopub.status.idle": "2025-09-25T13:22:55.537965Z",
     "shell.execute_reply": "2025-09-25T13:22:55.536760Z"
    },
    "papermill": {
     "duration": 0.29083,
     "end_time": "2025-09-25T13:22:55.539641",
     "exception": false,
     "start_time": "2025-09-25T13:22:55.248811",
     "status": "completed"
    },
    "tags": []
   },
   "outputs": [
    {
     "name": "stdout",
     "output_type": "stream",
     "text": [
      "Label length: 3883600 | EDA length: 22192\n",
      "           EDA  Label\n",
      "0     0.303449      3\n",
      "1     0.314962      3\n",
      "2     0.316242      3\n",
      "3     0.317521      3\n",
      "4     0.316242      3\n",
      "...        ...    ...\n",
      "1484  0.313683      3\n",
      "1485  0.313683      3\n",
      "1486  0.312404      3\n",
      "1487  0.307287      3\n",
      "1488  0.306008      3\n",
      "\n",
      "[1489 rows x 2 columns]\n"
     ]
    }
   ],
   "source": [
    "from scipy.signal import resample\n",
    "\n",
    "\n",
    "labels = data['label']  # Länge z. B. 3883600\n",
    "eda = data['signal']['wrist']['EDA']  # Länge z. B. 22192\n",
    "\n",
    "print(f\"Label length: {len(labels)} | EDA length: {len(eda)}\")\n",
    "\n",
    "# Labels auf die Länge der EDA-Daten bringen\n",
    "labels_resampled = resample(labels.astype(float), len(eda))\n",
    "labels_resampled = np.round(labels_resampled).astype(int)\n",
    "\n",
    "# Maske anwenden\n",
    "mask = labels_resampled == 3\n",
    "eda_label2 = eda[mask]\n",
    "\n",
    "# In DataFrame\n",
    "df_eda_label2 = pd.DataFrame({\n",
    "    'EDA': eda_label2[:, 0],\n",
    "    'Label': [3] * len(eda_label2)\n",
    "})\n",
    "\n",
    "print(df_eda_label2)\n"
   ]
  },
  {
   "cell_type": "code",
   "execution_count": null,
   "id": "b6ec4f2d",
   "metadata": {
    "papermill": {
     "duration": 0.00899,
     "end_time": "2025-09-25T13:22:55.558240",
     "exception": false,
     "start_time": "2025-09-25T13:22:55.549250",
     "status": "completed"
    },
    "tags": []
   },
   "outputs": [],
   "source": []
  },
  {
   "cell_type": "markdown",
   "id": "47cbb4b2",
   "metadata": {
    "papermill": {
     "duration": 0.009135,
     "end_time": "2025-09-25T13:22:55.576621",
     "exception": false,
     "start_time": "2025-09-25T13:22:55.567486",
     "status": "completed"
    },
    "tags": []
   },
   "source": [
    "# Random Forest"
   ]
  },
  {
   "cell_type": "code",
   "execution_count": 8,
   "id": "589733e0",
   "metadata": {
    "execution": {
     "iopub.execute_input": "2025-09-25T13:22:55.596829Z",
     "iopub.status.busy": "2025-09-25T13:22:55.596494Z",
     "iopub.status.idle": "2025-09-25T13:26:31.772027Z",
     "shell.execute_reply": "2025-09-25T13:26:31.770703Z"
    },
    "papermill": {
     "duration": 216.322379,
     "end_time": "2025-09-25T13:26:31.908712",
     "exception": false,
     "start_time": "2025-09-25T13:22:55.586333",
     "status": "completed"
    },
    "tags": []
   },
   "outputs": [
    {
     "name": "stdout",
     "output_type": "stream",
     "text": [
      "Datensätze: (227, 10), Klassenverteilung: [  0 149  78]\n"
     ]
    }
   ],
   "source": [
    "import pandas as pd\n",
    "import numpy as np\n",
    "from scipy.signal import resample\n",
    "from sklearn.ensemble import RandomForestClassifier\n",
    "from sklearn.model_selection import train_test_split\n",
    "from sklearn.metrics import classification_report\n",
    "\n",
    "# Pfad zur Datei\n",
    "file_path = ['/kaggle/input/wesad-wearable-stress-affect-detection-dataset/WESAD/S14/S14.pkl',\n",
    "             '/kaggle/input/wesad-wearable-stress-affect-detection-dataset/WESAD/S13/S13.pkl',\n",
    "            '/kaggle/input/wesad-wearable-stress-affect-detection-dataset/WESAD/S10/S10.pkl',\n",
    "            '/kaggle/input/wesad-wearable-stress-affect-detection-dataset/WESAD/S5/S5.pkl',\n",
    "            '/kaggle/input/wesad-wearable-stress-affect-detection-dataset/WESAD/S7/S7.pkl',\n",
    "            '/kaggle/input/wesad-wearable-stress-affect-detection-dataset/WESAD/S9/S9.pkl',\n",
    "            '/kaggle/input/wesad-wearable-stress-affect-detection-dataset/WESAD/S15/S15.pkl',\n",
    "            '/kaggle/input/wesad-wearable-stress-affect-detection-dataset/WESAD/S2/S2.pkl',\n",
    "            '/kaggle/input/wesad-wearable-stress-affect-detection-dataset/WESAD/S6/S6.pkl',\n",
    "            '/kaggle/input/wesad-wearable-stress-affect-detection-dataset/WESAD/S3/S3.pkl',\n",
    "            '/kaggle/input/wesad-wearable-stress-affect-detection-dataset/WESAD/S4/S4.pkl',\n",
    "            '/kaggle/input/wesad-wearable-stress-affect-detection-dataset/WESAD/S16/S16.pkl',\n",
    "            '/kaggle/input/wesad-wearable-stress-affect-detection-dataset/WESAD/S17/S17.pkl'\n",
    "            ]\n",
    "\n",
    "features = []\n",
    "window_labels = []\n",
    "\n",
    "for file in file_path:\n",
    "# Laden\n",
    "    with open(file, 'rb') as f:\n",
    "        data = pd.read_pickle(f)\n",
    "    \n",
    "    # Zugriff auf Wrist-Daten\n",
    "    wrist = data['signal']['wrist']\n",
    "    eda = wrist['EDA']      # shape (n_samples, 1)\n",
    "    temp = wrist['TEMP']    # shape (n_samples, 1)\n",
    "    acc = wrist['ACC']      # shape (n_samples, 3)\n",
    "    \n",
    "    # Label (ursprünglich 700 Hz, z. B. 3.8 Mio lang)\n",
    "    labels = data['label']\n",
    "    \n",
    "    # Resampling der Labels auf Länge von EDA (64 Hz)\n",
    "    labels_resampled = resample(labels.astype(float), len(eda))\n",
    "    labels_resampled = np.round(labels_resampled).astype(int)\n",
    "    \n",
    "    # Features kombinieren (z. B. EDA, TEMP, ACC)\n",
    "    from scipy.signal import resample\n",
    "    \n",
    "    # Resample ACC auf Länge von EDA (z. B. 22192 Zeilen)\n",
    "    acc_resampled = resample(acc, len(eda))\n",
    "    \n",
    "    X_raw = np.hstack([eda, temp, acc_resampled])  # shape: (n_samples, 6)\n",
    "\n",
    "    X_raw\n",
    "    \n",
    "    # Sliding Window-Feature-Bildung (z. B. 60s bei 64 Hz = 384 Samples)\n",
    "    window_size = 384  # 60s Fenster\n",
    "    step_size = 384    # ohne Überschneidung\n",
    "\n",
    "    \n",
    "    for start in range(0, len(X_raw) - window_size, step_size):\n",
    "        end = start + window_size\n",
    "        window = X_raw[start:end]\n",
    "        label_window = labels_resampled[start:end]\n",
    "        \n",
    "        # Nur Fenster mit sinnvollen Labels behalten (z. B. 1 = Ruhe, 2 = Stress)\n",
    "        if np.all(np.isin(label_window, [1, 2])):\n",
    "            # Feature-Vektor: Mittelwert + Std jeder Sensor-Spalte\n",
    "            feature_vector = np.concatenate([window.mean(axis=0), window.std(axis=0)])\n",
    "            features.append(feature_vector)\n",
    "            \n",
    "            # Mehrheits-Label als Klassenlabel\n",
    "            majority_label = np.bincount(label_window).argmax()\n",
    "            window_labels.append(majority_label)\n",
    "\n",
    "# In Arrays umwandeln\n",
    "X = np.array(features)\n",
    "y = np.array(window_labels)\n",
    "\n",
    "print(f\"Datensätze: {X.shape}, Klassenverteilung: {np.bincount(y)}\")\n",
    "\n",
    "\n"
   ]
  },
  {
   "cell_type": "code",
   "execution_count": 9,
   "id": "51de8ab2",
   "metadata": {
    "execution": {
     "iopub.execute_input": "2025-09-25T13:26:31.929768Z",
     "iopub.status.busy": "2025-09-25T13:26:31.929361Z",
     "iopub.status.idle": "2025-09-25T13:26:31.936967Z",
     "shell.execute_reply": "2025-09-25T13:26:31.936056Z"
    },
    "papermill": {
     "duration": 0.019997,
     "end_time": "2025-09-25T13:26:31.938500",
     "exception": false,
     "start_time": "2025-09-25T13:26:31.918503",
     "status": "completed"
    },
    "tags": []
   },
   "outputs": [
    {
     "data": {
      "text/plain": [
       "array([  1.968359  ,  33.34      , -49.9914787 , -38.16717886,\n",
       "         5.37479379])"
      ]
     },
     "execution_count": 9,
     "metadata": {},
     "output_type": "execute_result"
    }
   ],
   "source": [
    "X_raw[8]"
   ]
  },
  {
   "cell_type": "code",
   "execution_count": 10,
   "id": "5f5d7cfe",
   "metadata": {
    "execution": {
     "iopub.execute_input": "2025-09-25T13:26:31.958824Z",
     "iopub.status.busy": "2025-09-25T13:26:31.958459Z",
     "iopub.status.idle": "2025-09-25T13:27:03.682632Z",
     "shell.execute_reply": "2025-09-25T13:27:03.681248Z"
    },
    "papermill": {
     "duration": 31.745968,
     "end_time": "2025-09-25T13:27:03.694043",
     "exception": false,
     "start_time": "2025-09-25T13:26:31.948075",
     "status": "completed"
    },
    "tags": []
   },
   "outputs": [
    {
     "name": "stdout",
     "output_type": "stream",
     "text": [
      "              precision    recall  f1-score   support\n",
      "\n",
      "           1      0.853     1.000     0.921        29\n",
      "           2      1.000     0.706     0.828        17\n",
      "\n",
      "    accuracy                          0.891        46\n",
      "   macro avg      0.926     0.853     0.874        46\n",
      "weighted avg      0.907     0.891     0.886        46\n",
      "\n",
      "\n",
      "➡️ Bestes n_estimators: 15 mit Accuracy=0.913, F1=0.910\n"
     ]
    },
    {
     "data": {
      "text/plain": [
       "['/kaggle/working/random_forest_model.pkl']"
      ]
     },
     "execution_count": 10,
     "metadata": {},
     "output_type": "execute_result"
    }
   ],
   "source": [
    "# Modell trainieren auf 80:20 Split\n",
    "X_train, X_test, y_train, y_test = train_test_split(\n",
    "    X, y, \n",
    "    test_size=0.2,     # 20% Testdaten\n",
    "    random_state=42,   # Reproduzierbarkeit\n",
    ")\n",
    "clf_testdaten = RandomForestClassifier(n_estimators=105, random_state=42)\n",
    "clf_testdaten.fit(X_train, y_train)\n",
    "\n",
    "\n",
    "# Test auf 80:20 Split\n",
    "y_pred_test = clf_testdaten.predict(X_test)\n",
    "print(classification_report(y_test, y_pred_test, digits=3))\n",
    "\n",
    "from sklearn.ensemble import RandomForestClassifier\n",
    "from sklearn.metrics import accuracy_score\n",
    "from sklearn.metrics import accuracy_score, f1_score\n",
    "import numpy as np\n",
    "\n",
    "from sklearn.ensemble import RandomForestClassifier\n",
    "from sklearn.metrics import accuracy_score, f1_score\n",
    "\n",
    "def finde_bestes_n_estimators(X_train, X_test, y_train, y_test, \n",
    "                              n_min=10, n_max=200, step=10, average=\"weighted\"):\n",
    "    ergebnisse = {}\n",
    "    \n",
    "    for n in range(n_min, n_max+1, step):\n",
    "        clf = RandomForestClassifier(n_estimators=n, random_state=42)\n",
    "        clf.fit(X_train, y_train)\n",
    "        y_pred = clf.predict(X_test)\n",
    "        \n",
    "        acc = accuracy_score(y_test, y_pred)\n",
    "        f1  = f1_score(y_test, y_pred, average=average)\n",
    "        \n",
    "        ergebnisse[n] = {\"accuracy\": acc, \"f1_score\": f1}\n",
    "        #print(f\"n_estimators={n}: Accuracy={acc:.3f}, F1={f1:.3f}\")\n",
    "    \n",
    "    # Auswahl nach bestem F1-Score\n",
    "    best_n = max(ergebnisse, key=lambda k: ergebnisse[k][\"f1_score\"])\n",
    "    best_vals = ergebnisse[best_n]\n",
    "    \n",
    "    print(f\"\\n➡️ Bestes n_estimators: {best_n} \"\n",
    "          f\"mit Accuracy={best_vals['accuracy']:.3f}, F1={best_vals['f1_score']:.3f}\")\n",
    "    \n",
    "    return best_n, ergebnisse\n",
    "\n",
    "\n",
    "finde_bestes_n_estimators(X_train, X_test, y_train, y_test, n_min=10, n_max=200, step=1)\n",
    "\n",
    "\n",
    "import joblib  # für Speichern/Laden\n",
    "\n",
    "# Modell trainieren auf kombinierten Trainingsdaten\n",
    "clf = RandomForestClassifier(n_estimators=100, random_state=42)\n",
    "clf.fit(X, y)\n",
    "# ✅ Speichern des gesamten Modells ohne Testdatensplit\n",
    "joblib.dump(clf, \"/kaggle/working/random_forest_model.pkl\")\n"
   ]
  },
  {
   "cell_type": "markdown",
   "id": "904f2927",
   "metadata": {
    "papermill": {
     "duration": 0.010047,
     "end_time": "2025-09-25T13:27:03.713886",
     "exception": false,
     "start_time": "2025-09-25T13:27:03.703839",
     "status": "completed"
    },
    "tags": []
   },
   "source": [
    "## Daten der S8 ziehen und einsetzen!"
   ]
  },
  {
   "cell_type": "code",
   "execution_count": 11,
   "id": "4a526c3e",
   "metadata": {
    "execution": {
     "iopub.execute_input": "2025-09-25T13:27:03.736377Z",
     "iopub.status.busy": "2025-09-25T13:27:03.736037Z",
     "iopub.status.idle": "2025-09-25T13:27:21.594430Z",
     "shell.execute_reply": "2025-09-25T13:27:21.593537Z"
    },
    "papermill": {
     "duration": 17.872283,
     "end_time": "2025-09-25T13:27:21.596205",
     "exception": false,
     "start_time": "2025-09-25T13:27:03.723922",
     "status": "completed"
    },
    "tags": []
   },
   "outputs": [
    {
     "name": "stdout",
     "output_type": "stream",
     "text": [
      "Datensätze: (17, 10), Klassenverteilung: [ 0 11  6]\n"
     ]
    }
   ],
   "source": [
    "import pandas as pd\n",
    "import numpy as np\n",
    "from scipy.signal import resample\n",
    "from sklearn.ensemble import RandomForestClassifier\n",
    "from sklearn.model_selection import train_test_split\n",
    "from sklearn.metrics import classification_report\n",
    "\n",
    "# 📁 Pfad zur Datei (S12)\n",
    "file_path_S12 = '/kaggle/input/wesad-wearable-stress-affect-detection-dataset/WESAD/S8/S8.pkl'\n",
    "\n",
    "# 🔄 Daten laden\n",
    "with open(file_path_S12, 'rb') as f:\n",
    "    data_S12 = pd.read_pickle(f)\n",
    "\n",
    "# 📦 Zugriff auf Wrist-Signale\n",
    "wrist_S12 = data_S12['signal']['wrist']\n",
    "eda_S12 = wrist_S12['EDA']\n",
    "temp_S12 = wrist_S12['TEMP']\n",
    "acc_S12 = wrist_S12['ACC']\n",
    "\n",
    "# 🏷️ Labels (ursprünglich 700 Hz)\n",
    "labels_S12 = data_S12['label']\n",
    "\n",
    "# 🔁 Resampling der Labels auf EDA-Länge (64 Hz)\n",
    "labels_resampled_S12 = resample(labels_S12.astype(float), len(eda_S12))\n",
    "labels_resampled_S12 = np.round(labels_resampled_S12).astype(int)\n",
    "\n",
    "# 🔁 Resample ACC auf EDA-Länge\n",
    "acc_resampled_S12 = resample(acc_S12, len(eda_S12))\n",
    "\n",
    "# 🧩 Features kombinieren: EDA, TEMP, ACC → (n_samples, 6)\n",
    "X_raw_S12 = np.hstack([eda_S12, temp_S12, acc_resampled_S12])\n",
    "\n",
    "# 🪟 Sliding-Window Parameter\n",
    "window_size_S12 = 384  # 60s Fenster\n",
    "step_size_S12 = 384\n",
    "\n",
    "features_S12 = []\n",
    "window_labels_S12 = []\n",
    "\n",
    "# 🚶 Sliding-Window-Verarbeitung\n",
    "for start in range(0, len(X_raw_S12) - window_size_S12, step_size_S12):\n",
    "    end = start + window_size_S12\n",
    "    window_S12 = X_raw_S12[start:end]\n",
    "    label_window_S12 = np.round(labels_resampled_S12[start:end]).astype(int)\n",
    "\n",
    "    unique_labels_S12 = np.unique(label_window_S12)\n",
    "    \n",
    "    # ✅ Nur Fenster mit ausschließlich Label 1 oder 2\n",
    "    if set(unique_labels_S12).issubset({1, 2}):\n",
    "        majority_label_S12 = np.bincount(label_window_S12).argmax()\n",
    "        feature_vector_S12 = np.concatenate([window_S12.mean(axis=0), window_S12.std(axis=0)])\n",
    "        features_S12.append(feature_vector_S12)\n",
    "        window_labels_S12.append(majority_label_S12)\n",
    "\n",
    "# 🎯 Nur Label 1 & 2 verwenden\n",
    "mask_S12 = (np.array(window_labels_S12) == 1) | (np.array(window_labels_S12) == 2)\n",
    "X_S12 = np.array(features_S12)[mask_S12]\n",
    "y_S12 = np.array(window_labels_S12)[mask_S12]\n",
    "\n",
    "# ✅ Sicherheits-Check\n",
    "assert len(X_S12) == len(y_S12), \"Unterschiedliche Anzahl von Features und Labels!\"\n",
    "\n",
    "# ℹ️ Ergebnis anzeigen\n",
    "print(f\"Datensätze: {X_S12.shape}, Klassenverteilung: {np.bincount(y_S12)}\")\n"
   ]
  },
  {
   "cell_type": "code",
   "execution_count": 12,
   "id": "c653e20e",
   "metadata": {
    "execution": {
     "iopub.execute_input": "2025-09-25T13:27:21.617620Z",
     "iopub.status.busy": "2025-09-25T13:27:21.617275Z",
     "iopub.status.idle": "2025-09-25T13:27:21.670790Z",
     "shell.execute_reply": "2025-09-25T13:27:21.669476Z"
    },
    "papermill": {
     "duration": 0.066259,
     "end_time": "2025-09-25T13:27:21.672552",
     "exception": false,
     "start_time": "2025-09-25T13:27:21.606293",
     "status": "completed"
    },
    "tags": []
   },
   "outputs": [
    {
     "name": "stdout",
     "output_type": "stream",
     "text": [
      "(17, 10) (17,)\n",
      "(227, 10) (227,)\n",
      "TEST nach Laden [1 1 1 1 1]\n",
      "              precision    recall  f1-score   support\n",
      "\n",
      "           1      0.733     1.000     0.846        11\n",
      "           2      1.000     0.333     0.500         6\n",
      "\n",
      "    accuracy                          0.765        17\n",
      "   macro avg      0.867     0.667     0.673        17\n",
      "weighted avg      0.827     0.765     0.724        17\n",
      "\n"
     ]
    }
   ],
   "source": [
    "print(X_S12.shape, y_S12.shape)\n",
    "print(X.shape, y.shape)\n",
    "\n",
    "# ⬇️ Laden\n",
    "rf_loaded = joblib.load(\"/kaggle/working/random_forest_model.pkl\")\n",
    "\n",
    "# Testen ob es klappt\n",
    "print(\"TEST nach Laden\", rf_loaded.predict(X_S12[:5]))\n",
    "\n",
    "# Test auf Subject S12\n",
    "y_pred = clf.predict(X_S12)\n",
    "print(classification_report(y_S12, y_pred, digits=3))"
   ]
  },
  {
   "cell_type": "code",
   "execution_count": 13,
   "id": "13eaf45d",
   "metadata": {
    "execution": {
     "iopub.execute_input": "2025-09-25T13:27:21.694221Z",
     "iopub.status.busy": "2025-09-25T13:27:21.693885Z",
     "iopub.status.idle": "2025-09-25T13:27:54.450358Z",
     "shell.execute_reply": "2025-09-25T13:27:54.449250Z"
    },
    "papermill": {
     "duration": 32.779633,
     "end_time": "2025-09-25T13:27:54.462411",
     "exception": false,
     "start_time": "2025-09-25T13:27:21.682778",
     "status": "completed"
    },
    "tags": []
   },
   "outputs": [
    {
     "name": "stdout",
     "output_type": "stream",
     "text": [
      "Übersicht LOSO nur S8 (17, 10) (17,)\n",
      "Übersicht WeSad der Rest(alle) (227, 10) (227,)\n",
      "\n",
      "➡️ Bestes n_estimators: 27 mit Accuracy=0.941, F1=0.940\n"
     ]
    }
   ],
   "source": [
    "from sklearn.ensemble import RandomForestClassifier\n",
    "from sklearn.metrics import accuracy_score, f1_score\n",
    "\n",
    "def finde_bestes_n_estimators(X_train, X_test, y_train, y_test, \n",
    "                              n_min=10, n_max=200, step=10, average=\"weighted\"):\n",
    "    ergebnisse = {}\n",
    "    \n",
    "    for n in range(n_min, n_max+1, step):\n",
    "        clf = RandomForestClassifier(n_estimators=n, random_state=42)\n",
    "        clf.fit(X_train, y_train)\n",
    "        y_pred = clf.predict(X_test)\n",
    "        \n",
    "        acc = accuracy_score(y_test, y_pred)\n",
    "        f1  = f1_score(y_test, y_pred, average=average)\n",
    "        \n",
    "        ergebnisse[n] = {\"accuracy\": acc, \"f1_score\": f1}\n",
    "        #print(f\"n_estimators={n}: Accuracy={acc:.3f}, F1={f1:.3f}\")\n",
    "    \n",
    "    # Auswahl nach bestem F1-Score\n",
    "    best_n = max(ergebnisse, key=lambda k: ergebnisse[k][\"f1_score\"])\n",
    "    best_vals = ergebnisse[best_n]\n",
    "    \n",
    "    print(f\"\\n➡️ Bestes n_estimators: {best_n} \"\n",
    "          f\"mit Accuracy={best_vals['accuracy']:.3f}, F1={best_vals['f1_score']:.3f}\")\n",
    "    \n",
    "    return best_n, ergebnisse\n",
    "\n",
    "print(\"Übersicht LOSO nur S8\", X_S12.shape, y_S12.shape)\n",
    "print(\"Übersicht WeSad der Rest(alle)\",X.shape, y.shape)\n",
    "\n",
    "# Setze X und Y (alle außer S8 ein) und schaue was der beste n_estimator ist\n",
    "best_estimator = finde_bestes_n_estimators(X, X_S12, y, y_S12, n_min=10, n_max=200, step=1,average=\"weighted\")\n",
    "\n",
    "# Bestes n_estimators: 27 mit Accuracy=0.941\n",
    "# Bestes n_estimators: 27 mit Accuracy=0.941, F1=0.940"
   ]
  },
  {
   "cell_type": "markdown",
   "id": "a858a069",
   "metadata": {
    "papermill": {
     "duration": 0.010967,
     "end_time": "2025-09-25T13:27:54.484217",
     "exception": false,
     "start_time": "2025-09-25T13:27:54.473250",
     "status": "completed"
    },
    "tags": []
   },
   "source": [
    "## Alternative zu Random Forest testen\n",
    "\n",
    "## XGBoost"
   ]
  },
  {
   "cell_type": "code",
   "execution_count": 14,
   "id": "f79c8908",
   "metadata": {
    "execution": {
     "iopub.execute_input": "2025-09-25T13:27:54.507425Z",
     "iopub.status.busy": "2025-09-25T13:27:54.507063Z",
     "iopub.status.idle": "2025-09-25T13:28:00.079029Z",
     "shell.execute_reply": "2025-09-25T13:28:00.077664Z"
    },
    "papermill": {
     "duration": 5.587221,
     "end_time": "2025-09-25T13:28:00.081744",
     "exception": false,
     "start_time": "2025-09-25T13:27:54.494523",
     "status": "completed"
    },
    "tags": []
   },
   "outputs": [],
   "source": [
    "!pip install xgboost --quiet\n"
   ]
  },
  {
   "cell_type": "code",
   "execution_count": 15,
   "id": "a4465dbf",
   "metadata": {
    "execution": {
     "iopub.execute_input": "2025-09-25T13:28:00.104376Z",
     "iopub.status.busy": "2025-09-25T13:28:00.104019Z",
     "iopub.status.idle": "2025-09-25T13:28:00.753921Z",
     "shell.execute_reply": "2025-09-25T13:28:00.752131Z"
    },
    "papermill": {
     "duration": 0.663951,
     "end_time": "2025-09-25T13:28:00.755838",
     "exception": false,
     "start_time": "2025-09-25T13:28:00.091887",
     "status": "completed"
    },
    "tags": []
   },
   "outputs": [
    {
     "name": "stdout",
     "output_type": "stream",
     "text": [
      "              precision    recall  f1-score   support\n",
      "\n",
      "           0      0.909     0.909     0.909        11\n",
      "           1      0.833     0.833     0.833         6\n",
      "\n",
      "    accuracy                          0.882        17\n",
      "   macro avg      0.871     0.871     0.871        17\n",
      "weighted avg      0.882     0.882     0.882        17\n",
      "\n"
     ]
    }
   ],
   "source": [
    "import xgboost as xgb\n",
    "from sklearn.metrics import classification_report\n",
    "import xgboost as xgb\n",
    "from sklearn.metrics import classification_report\n",
    "import numpy as np\n",
    "\n",
    "# ✅ Filter: Nur Labels 1 (entspannt) & 2 (gestresst)\n",
    "mask_train = (y == 1) | (y == 2)\n",
    "mask_test = (y_S12 == 1) | (y_S12 == 2)\n",
    "\n",
    "X_train_filtered = X[mask_train]\n",
    "y_train_filtered = y[mask_train]\n",
    "\n",
    "X_test_filtered = X_S12[mask_test]\n",
    "y_test_filtered = y_S12[mask_test]\n",
    "\n",
    "\n",
    "# Optional: Konvertiere in DMatrix (XGBoost-eigenes Format) – ist aber nicht zwingend\n",
    "# dtrain = xgb.DMatrix(X, label=y)\n",
    "# dtest = xgb.DMatrix(X_S12, label=y_S12)\n",
    "\n",
    "# Mapping: 1 → 0 (Entspannt), 2 → 1 (Stress)\n",
    "y_train_remap = (y_train_filtered - 1).astype(int)\n",
    "y_test_remap = (y_test_filtered - 1).astype(int)\n",
    "\n",
    "\n",
    "xgb_clf = xgb.XGBClassifier(\n",
    "    objective='binary:logistic',  # da nur 2 Klassen nach dem Mapping\n",
    "    n_estimators=200,\n",
    "    max_depth=5,\n",
    "    learning_rate=0.27,\n",
    "    subsample=0.8,\n",
    "    colsample_bytree=0.8,\n",
    "    use_label_encoder=False,\n",
    "    eval_metric='auc',\n",
    "    random_state=42\n",
    ")\n",
    "\n",
    "xgb_clf.fit(X_train_filtered, y_train_remap)\n",
    "y_pred = xgb_clf.predict(X_test_filtered)\n",
    "\n",
    "# Evaluation wieder mit Original-Labels:\n",
    "from sklearn.metrics import classification_report\n",
    "print(classification_report(y_test_remap, y_pred, digits=3))\n"
   ]
  },
  {
   "cell_type": "markdown",
   "id": "3a5ed297",
   "metadata": {
    "papermill": {
     "duration": 0.014055,
     "end_time": "2025-09-25T13:28:00.783307",
     "exception": false,
     "start_time": "2025-09-25T13:28:00.769252",
     "status": "completed"
    },
    "tags": []
   },
   "source": [
    "-> Gutes Ergebnis:\n",
    "Alle Personen außer S8; sonst alle drin:\n",
    "\n",
    "              precision    recall  f1-score   support\n",
    "\n",
    "           0      0.909     0.909     0.909        11\n",
    "           1      0.833     0.833     0.833         6\n",
    "\n",
    "    accuracy                          0.882        17\n",
    "   macro avg      0.871     0.871     0.871        17\n",
    "weighted avg      0.882     0.882     0.882        17\n",
    "\n",
    "-> 5/6 Stressfälle erkannt. \n",
    "Lernrate manuell angepasst -> Automatisiert noch besser.\n",
    "\n",
    "-> Interpretation: XGBoost besser als Random Forest, da Gradiant Boosting: Fehler aus vorherigen Bäumen finden + sich verbessern.\n",
    "\n",
    "Es kann auch komplexere Zusammenhänge modellieren, wo Random Forest eher Mittelwerte bildet.\n",
    "\n",
    "Boosting ist oft besser für kleine, saubere Zeitfenster-Daten als vorher.\n",
    "\n",
    "Settings:\n",
    "xgb_clf = xgb.XGBClassifier(\n",
    "    objective='binary:logistic',  # da nur 2 Klassen nach dem Mapping\n",
    "    n_estimators=200,\n",
    "    max_depth=5,\n",
    "    learning_rate=0.27,\n",
    "    subsample=0.8,\n",
    "    colsample_bytree=0.8,\n",
    "    use_label_encoder=False,\n",
    "    eval_metric='logloss',\n",
    "    random_state=42\n",
    ")\n",
    "\n",
    "\n",
    "\n"
   ]
  },
  {
   "cell_type": "markdown",
   "id": "31703f25",
   "metadata": {
    "papermill": {
     "duration": 0.011899,
     "end_time": "2025-09-25T13:28:00.806655",
     "exception": false,
     "start_time": "2025-09-25T13:28:00.794756",
     "status": "completed"
    },
    "tags": []
   },
   "source": [
    "## Modell speichern"
   ]
  },
  {
   "cell_type": "code",
   "execution_count": 16,
   "id": "388fa129",
   "metadata": {
    "execution": {
     "iopub.execute_input": "2025-09-25T13:28:00.829616Z",
     "iopub.status.busy": "2025-09-25T13:28:00.829304Z",
     "iopub.status.idle": "2025-09-25T13:28:00.841231Z",
     "shell.execute_reply": "2025-09-25T13:28:00.839182Z"
    },
    "papermill": {
     "duration": 0.02626,
     "end_time": "2025-09-25T13:28:00.843049",
     "exception": false,
     "start_time": "2025-09-25T13:28:00.816789",
     "status": "completed"
    },
    "tags": []
   },
   "outputs": [
    {
     "data": {
      "text/plain": [
       "['/kaggle/working/xgb_stress_model.pkl']"
      ]
     },
     "execution_count": 16,
     "metadata": {},
     "output_type": "execute_result"
    }
   ],
   "source": [
    "import joblib\n",
    "\n",
    "# Modell speichern\n",
    "joblib.dump(xgb_clf, \"/kaggle/working/xgb_stress_model.pkl\")"
   ]
  },
  {
   "cell_type": "markdown",
   "id": "c2699d54",
   "metadata": {
    "papermill": {
     "duration": 0.010604,
     "end_time": "2025-09-25T13:28:00.863912",
     "exception": false,
     "start_time": "2025-09-25T13:28:00.853308",
     "status": "completed"
    },
    "tags": []
   },
   "source": [
    "## Herausfinden, welche Parameter am besten geeignet sind"
   ]
  },
  {
   "cell_type": "code",
   "execution_count": 17,
   "id": "ba227d56",
   "metadata": {
    "execution": {
     "iopub.execute_input": "2025-09-25T13:28:00.887756Z",
     "iopub.status.busy": "2025-09-25T13:28:00.886362Z",
     "iopub.status.idle": "2025-09-25T13:28:00.895209Z",
     "shell.execute_reply": "2025-09-25T13:28:00.894283Z"
    },
    "papermill": {
     "duration": 0.022564,
     "end_time": "2025-09-25T13:28:00.896733",
     "exception": false,
     "start_time": "2025-09-25T13:28:00.874169",
     "status": "completed"
    },
    "tags": []
   },
   "outputs": [],
   "source": [
    "import xgboost as xgb\n",
    "from sklearn.metrics import accuracy_score, f1_score\n",
    "from sklearn.model_selection import ParameterGrid\n",
    "\n",
    "def finde_beste_xgb_parameter(X_train, X_test, y_train, y_test, param_grid, average=\"weighted\"):\n",
    "    ergebnisse = []\n",
    "    \n",
    "    for params in ParameterGrid(param_grid):\n",
    "        clf = xgb.XGBClassifier(\n",
    "            objective='binary:logistic',\n",
    "            use_label_encoder=False,\n",
    "            eval_metric='auc',\n",
    "            random_state=42,\n",
    "            **params\n",
    "        )\n",
    "        \n",
    "        clf.fit(X_train, y_train)\n",
    "        y_pred = clf.predict(X_test)\n",
    "        \n",
    "        acc = accuracy_score(y_test, y_pred)\n",
    "        f1  = f1_score(y_test, y_pred, average=average)\n",
    "        \n",
    "        ergebnisse.append((params, acc, f1))\n",
    "        #print(f\"Params={params} | Accuracy={acc:.3f}, F1={f1:.3f}\")\n",
    "    \n",
    "    # Sortierung nach F1, dann Accuracy\n",
    "    best_params, best_acc, best_f1 = max(ergebnisse, key=lambda x: (x[2], x[1]))\n",
    "    \n",
    "    print(f\"\\n➡️ Beste Parameter: {best_params}\")\n",
    "    print(f\"   Accuracy={best_acc:.3f}, F1={best_f1:.3f}\")\n",
    "    \n",
    "    return best_params, best_acc, best_f1\n"
   ]
  },
  {
   "cell_type": "code",
   "execution_count": 18,
   "id": "cfd26543",
   "metadata": {
    "execution": {
     "iopub.execute_input": "2025-09-25T13:28:00.920053Z",
     "iopub.status.busy": "2025-09-25T13:28:00.919650Z",
     "iopub.status.idle": "2025-09-25T13:40:52.649743Z",
     "shell.execute_reply": "2025-09-25T13:40:52.648296Z"
    },
    "papermill": {
     "duration": 771.757857,
     "end_time": "2025-09-25T13:40:52.665907",
     "exception": false,
     "start_time": "2025-09-25T13:28:00.908050",
     "status": "completed"
    },
    "tags": []
   },
   "outputs": [
    {
     "name": "stdout",
     "output_type": "stream",
     "text": [
      "Beste Parameter mit 80 20\n",
      "\n",
      "➡️ Beste Parameter: {'colsample_bytree': 0.7, 'learning_rate': 0.25, 'max_depth': 5, 'n_estimators': 150, 'subsample': 0.6}\n",
      "   Accuracy=0.957, F1=0.956\n"
     ]
    }
   ],
   "source": [
    "X_train_filtered = X[mask_train]\n",
    "y_train_filtered = y[mask_train]\n",
    "\n",
    "X_train_filtered = (X_train_filtered - 1).astype(int)\n",
    "y_train_filtered = (y_train_filtered - 1).astype(int)\n",
    "\n",
    "X_train, X_test, y_train, y_test = train_test_split(\n",
    "    X_train_filtered, y_train_filtered, \n",
    "    test_size=0.2,     # 20% Testdaten\n",
    "    random_state=42,   # Reproduzierbarkeit\n",
    ")\n",
    "param_grid = {\n",
    "    \"n_estimators\": [10, 20, 30, 40, 50, 60,70, 80, 100, 150,175, 200,225, 250, 300],\n",
    "    \"max_depth\": [3, 5, 7, 9, 11, 13, 15],\n",
    "    \"learning_rate\": [0.05, 0.1,0.15,0.2, 0.25, 0.30],\n",
    "    \"subsample\": [0.6,0.7,0.8,0.9, 1.0],\n",
    "    \"colsample_bytree\": [0.6, 0.7,0.75, 0.8,0.9,1.0]\n",
    "}\n",
    "\n",
    "print(\"Beste Parameter mit 80 20\")\n",
    "beste_params, beste_acc, beste_f1 = finde_beste_xgb_parameter(\n",
    "    X_train, X_test, y_train, y_test, param_grid\n",
    ")\n"
   ]
  },
  {
   "cell_type": "markdown",
   "id": "e2009fd9",
   "metadata": {
    "papermill": {
     "duration": 0.016822,
     "end_time": "2025-09-25T13:40:52.699530",
     "exception": false,
     "start_time": "2025-09-25T13:40:52.682708",
     "status": "completed"
    },
    "tags": []
   },
   "source": [
    "## Testen mit S8 als LOSO Verfahren"
   ]
  },
  {
   "cell_type": "code",
   "execution_count": 19,
   "id": "58f0adf2",
   "metadata": {
    "execution": {
     "iopub.execute_input": "2025-09-25T13:40:52.726502Z",
     "iopub.status.busy": "2025-09-25T13:40:52.726035Z",
     "iopub.status.idle": "2025-09-25T13:54:04.489239Z",
     "shell.execute_reply": "2025-09-25T13:54:04.488050Z"
    },
    "papermill": {
     "duration": 791.793591,
     "end_time": "2025-09-25T13:54:04.504457",
     "exception": false,
     "start_time": "2025-09-25T13:40:52.710866",
     "status": "completed"
    },
    "tags": []
   },
   "outputs": [
    {
     "name": "stdout",
     "output_type": "stream",
     "text": [
      "Beste Parameter mit LOSO\n",
      "\n",
      "➡️ Beste Parameter: {'colsample_bytree': 0.7, 'learning_rate': 0.25, 'max_depth': 5, 'n_estimators': 150, 'subsample': 0.6}\n",
      "   Accuracy=0.957, F1=0.956\n"
     ]
    }
   ],
   "source": [
    "X_test = X_S12[mask_test]\n",
    "y_test = y_S12[mask_test]\n",
    "\n",
    "X_train, X_test, y_train, y_test = train_test_split(\n",
    "    X_train_filtered, y_train_filtered, \n",
    "    test_size=0.2,     # 20% Testdaten\n",
    "    random_state=42,   # Reproduzierbarkeit\n",
    ")\n",
    "param_grid = {\n",
    "    \"n_estimators\": [10, 20, 30, 40, 50, 60,70, 80, 100, 150,175, 200,225, 250, 300],\n",
    "    \"max_depth\": [3, 5, 7, 9, 11, 13, 15],\n",
    "    \"learning_rate\": [0.05, 0.1,0.15,0.2, 0.25, 0.30],\n",
    "    \"subsample\": [0.6,0.7,0.8,0.9, 1.0],\n",
    "    \"colsample_bytree\": [0.6, 0.7,0.75, 0.8,0.9,1.0]\n",
    "}\n",
    "print(\"Beste Parameter mit LOSO\")\n",
    "\n",
    "beste_params, beste_acc, beste_f1 = finde_beste_xgb_parameter(\n",
    "    X_train, X_test, y_train, y_test, param_grid\n",
    ")\n"
   ]
  },
  {
   "cell_type": "markdown",
   "id": "ed4c93c4",
   "metadata": {
    "papermill": {
     "duration": 0.011148,
     "end_time": "2025-09-25T13:54:04.526493",
     "exception": false,
     "start_time": "2025-09-25T13:54:04.515345",
     "status": "completed"
    },
    "tags": []
   },
   "source": [
    "## SVM (\"Support Vector Maschines\")\n"
   ]
  },
  {
   "cell_type": "code",
   "execution_count": 20,
   "id": "5d4b7e4a",
   "metadata": {
    "execution": {
     "iopub.execute_input": "2025-09-25T13:54:04.549958Z",
     "iopub.status.busy": "2025-09-25T13:54:04.548566Z",
     "iopub.status.idle": "2025-09-25T13:54:08.516687Z",
     "shell.execute_reply": "2025-09-25T13:54:08.515497Z"
    },
    "papermill": {
     "duration": 3.982425,
     "end_time": "2025-09-25T13:54:08.519219",
     "exception": false,
     "start_time": "2025-09-25T13:54:04.536794",
     "status": "completed"
    },
    "tags": []
   },
   "outputs": [
    {
     "name": "stdout",
     "output_type": "stream",
     "text": [
      "Beste Parameter: {'C': 12, 'gamma': 0.05, 'kernel': 'rbf'}\n",
      "\n",
      "              precision    recall  f1-score   support\n",
      "\n",
      "           0      0.400     0.182     0.250        11\n",
      "           1      0.250     0.500     0.333         6\n",
      "\n",
      "    accuracy                          0.294        17\n",
      "   macro avg      0.325     0.341     0.292        17\n",
      "weighted avg      0.347     0.294     0.279        17\n",
      "\n"
     ]
    },
    {
     "name": "stderr",
     "output_type": "stream",
     "text": [
      "/usr/local/lib/python3.11/dist-packages/sklearn/model_selection/_validation.py:378: FitFailedWarning: \n",
      "306 fits failed out of a total of 918.\n",
      "The score on these train-test partitions for these parameters will be set to nan.\n",
      "If these failures are not expected, you can try to debug them by setting error_score='raise'.\n",
      "\n",
      "Below are more details about the failures:\n",
      "--------------------------------------------------------------------------------\n",
      "306 fits failed with the following error:\n",
      "Traceback (most recent call last):\n",
      "  File \"/usr/local/lib/python3.11/dist-packages/sklearn/model_selection/_validation.py\", line 686, in _fit_and_score\n",
      "    estimator.fit(X_train, y_train, **fit_params)\n",
      "  File \"/usr/local/lib/python3.11/dist-packages/sklearn/svm/_base.py\", line 180, in fit\n",
      "    self._validate_params()\n",
      "  File \"/usr/local/lib/python3.11/dist-packages/sklearn/base.py\", line 600, in _validate_params\n",
      "    validate_parameter_constraints(\n",
      "  File \"/usr/local/lib/python3.11/dist-packages/sklearn/utils/_param_validation.py\", line 97, in validate_parameter_constraints\n",
      "    raise InvalidParameterError(\n",
      "sklearn.utils._param_validation.InvalidParameterError: The 'kernel' parameter of SVC must be a str among {'linear', 'poly', 'precomputed', 'rbf', 'sigmoid'} or a callable. Got 'polynomial' instead.\n",
      "\n",
      "  warnings.warn(some_fits_failed_message, FitFailedWarning)\n",
      "/usr/local/lib/python3.11/dist-packages/sklearn/model_selection/_search.py:952: UserWarning: One or more of the test scores are non-finite: [0.60730352 0.4936291         nan 0.65340136 0.4936291         nan\n",
      " 0.69810987 0.4936291         nan 0.695368   0.4936291         nan\n",
      " 0.71498205 0.4936291         nan 0.73125032 0.4936291         nan\n",
      " 0.7299421  0.4936291         nan 0.74771486 0.4936291         nan\n",
      " 0.72092026 0.4936291         nan 0.71027098 0.4936291         nan\n",
      " 0.66505887 0.4936291         nan 0.66880342 0.4936291         nan\n",
      " 0.58662132 0.4936291         nan 0.54586895 0.4936291         nan\n",
      " 0.11576355 0.4936291         nan 0.6872177  0.4936291         nan\n",
      " 0.71027098 0.4936291         nan 0.60730352 0.4936291         nan\n",
      " 0.65340136 0.4936291         nan 0.69810987 0.4936291         nan\n",
      " 0.71040724 0.4936291         nan 0.73735205 0.4936291         nan\n",
      " 0.74702483 0.4936291         nan 0.74102564 0.4936291         nan\n",
      " 0.75118708 0.4936291         nan 0.71562416 0.4936291         nan\n",
      " 0.70693946 0.4936291         nan 0.65470252 0.4936291         nan\n",
      " 0.66614256 0.4936291         nan 0.58662132 0.4936291         nan\n",
      " 0.54393658 0.4936291         nan 0.11576355 0.4936291         nan\n",
      " 0.66535978 0.4936291         nan 0.70693946 0.4936291         nan\n",
      " 0.61397436 0.4936291         nan 0.66926829 0.4936291         nan\n",
      " 0.69810987 0.4936291         nan 0.68287582 0.4936291         nan\n",
      " 0.75761929 0.4936291         nan 0.73968569 0.4936291         nan\n",
      " 0.74786325 0.4936291         nan 0.74152525 0.4936291         nan\n",
      " 0.71269761 0.4936291         nan 0.69698921 0.4936291         nan\n",
      " 0.65236471 0.4936291         nan 0.66614256 0.4936291         nan\n",
      " 0.58662132 0.4936291         nan 0.55627084 0.4936291         nan\n",
      " 0.11576355 0.4936291         nan 0.66535978 0.4936291         nan\n",
      " 0.69698921 0.4936291         nan 0.61055556 0.4936291         nan\n",
      " 0.67485653 0.4936291         nan 0.70735043 0.4936291         nan\n",
      " 0.67672197 0.4936291         nan 0.74888802 0.4936291         nan\n",
      " 0.74580191 0.4936291         nan 0.7445465  0.4936291         nan\n",
      " 0.7305688  0.4936291         nan 0.7098559  0.4936291         nan\n",
      " 0.6896019  0.4936291         nan 0.65236471 0.4936291         nan\n",
      " 0.67857143 0.4936291         nan 0.59777778 0.4936291         nan\n",
      " 0.55627084 0.4936291         nan 0.11576355 0.4936291         nan\n",
      " 0.65996123 0.4936291         nan 0.6896019  0.4936291         nan\n",
      " 0.61397436 0.4936291         nan 0.6622549  0.4936291         nan\n",
      " 0.69901188 0.4936291         nan 0.68824444 0.4936291         nan\n",
      " 0.74888802 0.4936291         nan 0.75263952 0.4936291         nan\n",
      " 0.73820141 0.4936291         nan 0.72761776 0.4936291         nan\n",
      " 0.70842411 0.4936291         nan 0.68011988 0.4936291         nan\n",
      " 0.65236471 0.4936291         nan 0.67857143 0.4936291         nan\n",
      " 0.59777778 0.4936291         nan 0.55627084 0.4936291         nan\n",
      " 0.11576355 0.4936291         nan 0.65996123 0.4936291         nan\n",
      " 0.68011988 0.4936291         nan 0.61397436 0.4936291         nan\n",
      " 0.6741453  0.4936291         nan 0.68965022 0.4936291         nan\n",
      " 0.72478632 0.4936291         nan 0.7521949  0.4936291         nan\n",
      " 0.75263952 0.4936291         nan 0.7305688  0.4936291         nan\n",
      " 0.73109065 0.4936291         nan 0.70842411 0.4936291         nan\n",
      " 0.6782197  0.4936291         nan 0.65236471 0.4936291         nan\n",
      " 0.67857143 0.4936291         nan 0.59777778 0.4936291         nan\n",
      " 0.55627084 0.4936291         nan 0.11576355 0.4936291         nan\n",
      " 0.65996123 0.4936291         nan 0.6782197  0.4936291         nan]\n",
      "  warnings.warn(\n"
     ]
    }
   ],
   "source": [
    "from sklearn.svm import SVC\n",
    "from sklearn.preprocessing import StandardScaler\n",
    "from sklearn.metrics import classification_report\n",
    "import numpy as np\n",
    "\n",
    "# 🔄 Nur Labels 1 und 2 (wie bei XGBoost)\n",
    "mask_train = (y == 1) | (y == 2)\n",
    "mask_test = (y_S12 == 1) | (y_S12 == 2)\n",
    "\n",
    "X_train_filtered = X[mask_train]\n",
    "y_train_filtered = y[mask_train]\n",
    "X_test_filtered = X_S12[mask_test]\n",
    "y_test_filtered = y_S12[mask_test]\n",
    "\n",
    "# 🔄 Labels ummappen: 1 → 0, 2 → 1\n",
    "y_train_remap = (y_train_filtered - 1).astype(int)\n",
    "y_test_remap = (y_test_filtered - 1).astype(int)\n",
    "\n",
    "# 🔄 Features skalieren (wichtig für SVM!)\n",
    "scaler = StandardScaler()\n",
    "X_train_scaled = scaler.fit_transform(X_train_filtered)\n",
    "X_test_scaled = scaler.transform(X_test_filtered)\n",
    "\n",
    "from sklearn.model_selection import GridSearchCV\n",
    "\n",
    "param_grid = {\n",
    "    'C': [10,11,12,13,14,15],\n",
    "    'gamma': [0.01,0.02, 0.03, 0.04, 0.05,0.06, 0.07, 0.08,0.09, 0.1,0.15,0.2,0.3,0.4, 1, 'scale', 'auto'],\n",
    "    'kernel': ['rbf','linear','polynomial']\n",
    "}\n",
    "\n",
    "grid = GridSearchCV(SVC(), param_grid, cv=3, scoring='f1')\n",
    "grid.fit(X_train_scaled, y_train_remap)\n",
    "\n",
    "print(\"Beste Parameter:\", grid.best_params_)\n",
    "print(\"\")\n",
    "\n",
    "# ✅ SVM mit RBF-Kernel\n",
    "svm_clf = SVC(kernel='rbf', C=10, gamma=0.1, random_state=42)\n",
    "svm_clf.fit(X_train_scaled, y_train_remap)\n",
    "\n",
    "# 🧪 Vorhersage & Bewertung\n",
    "y_pred = svm_clf.predict(X_test_scaled)\n",
    "print(classification_report(y_test_remap, y_pred, digits=3))\n"
   ]
  },
  {
   "cell_type": "code",
   "execution_count": 21,
   "id": "f3e04a35",
   "metadata": {
    "execution": {
     "iopub.execute_input": "2025-09-25T13:54:08.542651Z",
     "iopub.status.busy": "2025-09-25T13:54:08.542298Z",
     "iopub.status.idle": "2025-09-25T13:54:08.564301Z",
     "shell.execute_reply": "2025-09-25T13:54:08.563019Z"
    },
    "papermill": {
     "duration": 0.03582,
     "end_time": "2025-09-25T13:54:08.566100",
     "exception": false,
     "start_time": "2025-09-25T13:54:08.530280",
     "status": "completed"
    },
    "tags": []
   },
   "outputs": [],
   "source": [
    "from sklearn.pipeline import Pipeline\n",
    "from sklearn.preprocessing import StandardScaler\n",
    "from sklearn.svm import SVC\n",
    "from sklearn.model_selection import GridSearchCV, StratifiedKFold\n",
    "from sklearn.metrics import f1_score, accuracy_score, make_scorer\n",
    "\n",
    "def optimiere_svm(X_train, y_train, cv_splits=5, class_imbalance=True):\n",
    "    \"\"\"\n",
    "    Sucht SVM-Hyperparameter mit CV, optimiert primär F1 (weighted),\n",
    "    nutzt Accuracy als Tie-Breaker und gibt bestes Modell + Ergebnisse zurück.\n",
    "    \"\"\"\n",
    "    pipe = Pipeline([\n",
    "        (\"scaler\", StandardScaler()),\n",
    "        (\"svc\", SVC(probability=True, class_weight=\"balanced\" if class_imbalance else None))\n",
    "    ])\n",
    "\n",
    "    zwischenwerte = [round(x, 2) for x in np.arange(5, 6.01, 0.01)]\n",
    "    svc_gamma_2 = [round(x, 2) for x in np.arange(0.1, 0.2, 0.001)]\n",
    "    svc_gamma_2.extend([\"scale\", \"auto\"])\n",
    "\n",
    "    \n",
    "    param_grid = [\n",
    "        {\"svc__kernel\": [\"rbf\"],\n",
    "         \"svc__C\" :zwischenwerte,\n",
    "         #\"svc__C\": [0.1, 1, 3,5,5.5, 5.8, 6,6.5, 6.7, 7,7.5, 8, 9, 10,11,13],\n",
    "         # \"svc__gamma\": [\"scale\", \"auto\", 0.01, 0.03,0.04,0.06,0.08,0.09, 0.1, 0.11, 0.12,0.13]},\n",
    "         \"svc__gamma\": svc_gamma_2,\n",
    "        },\n",
    "        {\"svc__kernel\": [\"linear\"],\n",
    "         \"svc__C\": [0.1, 0.01, 0.03,0.04,0.06,0.08,0.09, 0.1, 0.11, 0.12,0.13, 1, 3, 10]},                 # gamma wird ignoriert\n",
    "        {\"svc__kernel\": [\"poly\"],\n",
    "         \"svc__degree\": [2, 3],\n",
    "         \"svc__coef0\": [0.0, 0.5, 1.0],\n",
    "         \"svc__C\": [0.1, 1, 3, 10],\n",
    "         \"svc__gamma\": [\"scale\", \"auto\", 0.01, 0.03,0.04,0.06,0.08,0.09, 0.1, 0.11, 0.12,0.13]},\n",
    "    ]\n",
    "\n",
    "    # Mehrere Metriken loggen; refit = F1 (weighted)\n",
    "    scorers = {\n",
    "        \"f1\": \"f1_weighted\",\n",
    "        \"accuracy\": \"accuracy\"\n",
    "    }\n",
    "\n",
    "    cv = StratifiedKFold(n_splits=cv_splits, shuffle=True, random_state=42)\n",
    "    grid = GridSearchCV(pipe, param_grid, scoring=scorers, refit=\"f1\",\n",
    "                        cv=cv, n_jobs=-1, verbose=0, return_train_score=False)\n",
    "    grid.fit(X_train, y_train)\n",
    "\n",
    "    # Zusätzlich: Bei gleichem F1 bestes Accuracy-Modell wählen (Tie-Breaker)\n",
    "    results = grid.cv_results_\n",
    "    mean_f1 = results[\"mean_test_f1\"]\n",
    "    mean_acc = results[\"mean_test_accuracy\"]\n",
    "    best_f1 = mean_f1.max()\n",
    "    # alle Kandidaten mit maximalem F1 (numerische Toleranz)\n",
    "    idxs = [i for i, v in enumerate(mean_f1) if abs(v - best_f1) < 1e-9]\n",
    "    # wähle unter diesen die höchste Accuracy\n",
    "    best_idx = max(idxs, key=lambda i: mean_acc[i])\n",
    "\n",
    "    best_params = results[\"params\"][best_idx]\n",
    "    best_model = grid.best_estimator_ if grid.best_index_ == best_idx else Pipeline([\n",
    "        (\"scaler\", StandardScaler())\n",
    "    ])\n",
    "    # falls Tie-Breaker anderes Set wählte, neu fitten:\n",
    "    if grid.best_index_ != best_idx:\n",
    "        best_model = Pipeline([\n",
    "            (\"scaler\", StandardScaler()),\n",
    "            (\"svc\", SVC(probability=True,\n",
    "                       class_weight=\"balanced\" if class_imbalance else None))\n",
    "        ])\n",
    "        best_model.set_params(**{k: v for k, v in best_params.items()})\n",
    "        best_model.fit(X_train, y_train)\n",
    "\n",
    "    summary = {\n",
    "        \"best_params\": best_params,\n",
    "        \"cv_mean_f1\": mean_f1[best_idx],\n",
    "        \"cv_mean_accuracy\": mean_acc[best_idx]\n",
    "    }\n",
    "    return best_model, summary, grid\n"
   ]
  },
  {
   "cell_type": "code",
   "execution_count": 22,
   "id": "b277b016",
   "metadata": {
    "execution": {
     "iopub.execute_input": "2025-09-25T13:54:08.589450Z",
     "iopub.status.busy": "2025-09-25T13:54:08.589054Z",
     "iopub.status.idle": "2025-09-25T13:58:14.288564Z",
     "shell.execute_reply": "2025-09-25T13:58:14.287514Z"
    },
    "papermill": {
     "duration": 245.724037,
     "end_time": "2025-09-25T13:58:14.301045",
     "exception": false,
     "start_time": "2025-09-25T13:54:08.577008",
     "status": "completed"
    },
    "tags": []
   },
   "outputs": [
    {
     "name": "stdout",
     "output_type": "stream",
     "text": [
      "{'svc__C': 5.19, 'svc__gamma': 0.12, 'svc__kernel': 'rbf'}\n",
      "CV F1=0.964, CV Acc=0.965\n"
     ]
    }
   ],
   "source": [
    "X_train_filtered = X[mask_train]\n",
    "y_train_filtered = y[mask_train]\n",
    "X_test_filtered = X_S12[mask_test]\n",
    "y_test_filtered = y_S12[mask_test]\n",
    "\n",
    "\n",
    "\n",
    "best_model, summary, grid = optimiere_svm(X_train_filtered, y_train_filtered, cv_splits=5, class_imbalance=True)\n",
    "print(summary[\"best_params\"])\n",
    "print(f\"CV F1={summary['cv_mean_f1']:.3f}, CV Acc={summary['cv_mean_accuracy']:.3f}\")\n"
   ]
  },
  {
   "cell_type": "code",
   "execution_count": 23,
   "id": "2d1a40a7",
   "metadata": {
    "execution": {
     "iopub.execute_input": "2025-09-25T13:58:14.324327Z",
     "iopub.status.busy": "2025-09-25T13:58:14.323549Z",
     "iopub.status.idle": "2025-09-25T13:58:14.332140Z",
     "shell.execute_reply": "2025-09-25T13:58:14.331101Z"
    },
    "papermill": {
     "duration": 0.022056,
     "end_time": "2025-09-25T13:58:14.333787",
     "exception": false,
     "start_time": "2025-09-25T13:58:14.311731",
     "status": "completed"
    },
    "tags": []
   },
   "outputs": [
    {
     "data": {
      "text/plain": [
       "['/kaggle/working/svm_clf_stress_model.pkl']"
      ]
     },
     "execution_count": 23,
     "metadata": {},
     "output_type": "execute_result"
    }
   ],
   "source": [
    "# Modell speichern\n",
    "import joblib\n",
    "\n",
    "# Modell speichern\n",
    "joblib.dump(svm_clf, \"/kaggle/working/svm_clf_stress_model.pkl\")"
   ]
  },
  {
   "cell_type": "markdown",
   "id": "ce8e1919",
   "metadata": {
    "execution": {
     "iopub.execute_input": "2025-08-06T21:05:11.086668Z",
     "iopub.status.busy": "2025-08-06T21:05:11.086295Z",
     "iopub.status.idle": "2025-08-06T21:05:11.091091Z",
     "shell.execute_reply": "2025-08-06T21:05:11.090108Z",
     "shell.execute_reply.started": "2025-08-06T21:05:11.086644Z"
    },
    "papermill": {
     "duration": 0.010123,
     "end_time": "2025-09-25T13:58:14.354616",
     "exception": false,
     "start_time": "2025-09-25T13:58:14.344493",
     "status": "completed"
    },
    "tags": []
   },
   "source": [
    "## CNN "
   ]
  },
  {
   "cell_type": "code",
   "execution_count": 24,
   "id": "c559ac7b",
   "metadata": {
    "execution": {
     "iopub.execute_input": "2025-09-25T13:58:14.377237Z",
     "iopub.status.busy": "2025-09-25T13:58:14.376560Z",
     "iopub.status.idle": "2025-09-25T13:58:14.383916Z",
     "shell.execute_reply": "2025-09-25T13:58:14.382918Z"
    },
    "papermill": {
     "duration": 0.020477,
     "end_time": "2025-09-25T13:58:14.385610",
     "exception": false,
     "start_time": "2025-09-25T13:58:14.365133",
     "status": "completed"
    },
    "tags": []
   },
   "outputs": [],
   "source": [
    "import numpy as np\n",
    "\n",
    "def discrete_resample_by_index(labels: np.ndarray, target_len: int) -> np.ndarray:\n",
    "    \"\"\"\n",
    "    Mappt diskrete Labels (z.B. [0,1,2]) ohne Interpolation auf eine neue Länge.\n",
    "    Verwendet nearest/forward index mapping statt Fourier-Resampling.\n",
    "    \"\"\"\n",
    "    src_len = len(labels)\n",
    "    if src_len == target_len:\n",
    "        return labels.astype(int)\n",
    "\n",
    "    # Indizes im Quellsignal, die jeweils dem EDA-Sample am nächsten sind\n",
    "    idx = np.floor(np.linspace(0, src_len - 1, target_len)).astype(int)\n",
    "    return labels[idx].astype(int)\n",
    "\n",
    "def majority_label_in_window(win_labels: np.ndarray, valid_classes=(1,2), min_valid_ratio=0.8):\n",
    "    \"\"\"\n",
    "    Gibt das Mehrheitslabel im Fenster zurück, wenn genug gültige Labels vorhanden sind,\n",
    "    sonst None (Fenster verwerfen).\n",
    "    \"\"\"\n",
    "    valid_mask = np.isin(win_labels, valid_classes)\n",
    "    if valid_mask.mean() < min_valid_ratio:\n",
    "        return None\n",
    "    # Nur über gültige Labels die Mehrheit bilden\n",
    "    counts = np.bincount(win_labels[valid_mask])\n",
    "    return np.argmax(counts)\n"
   ]
  },
  {
   "cell_type": "code",
   "execution_count": 25,
   "id": "d5db443f",
   "metadata": {
    "execution": {
     "iopub.execute_input": "2025-09-25T13:58:14.408945Z",
     "iopub.status.busy": "2025-09-25T13:58:14.408571Z",
     "iopub.status.idle": "2025-09-25T14:01:39.783523Z",
     "shell.execute_reply": "2025-09-25T14:01:39.782187Z"
    },
    "papermill": {
     "duration": 205.401865,
     "end_time": "2025-09-25T14:01:39.798079",
     "exception": false,
     "start_time": "2025-09-25T13:58:14.396214",
     "status": "completed"
    },
    "tags": []
   },
   "outputs": [
    {
     "name": "stdout",
     "output_type": "stream",
     "text": [
      "Datensätze: (236, 384, 5), Klassenverteilung: [154  82]\n"
     ]
    }
   ],
   "source": [
    "import pandas as pd\n",
    "import numpy as np\n",
    "from scipy.signal import resample\n",
    "from sklearn.model_selection import train_test_split\n",
    "from sklearn.metrics import classification_report\n",
    "\n",
    "file_paths = [\n",
    "    '/kaggle/input/wesad-wearable-stress-affect-detection-dataset/WESAD/S14/S14.pkl',\n",
    "    '/kaggle/input/wesad-wearable-stress-affect-detection-dataset/WESAD/S13/S13.pkl',\n",
    "    '/kaggle/input/wesad-wearable-stress-affect-detection-dataset/WESAD/S10/S10.pkl',\n",
    "    '/kaggle/input/wesad-wearable-stress-affect-detection-dataset/WESAD/S5/S5.pkl',\n",
    "    '/kaggle/input/wesad-wearable-stress-affect-detection-dataset/WESAD/S7/S7.pkl',\n",
    "    '/kaggle/input/wesad-wearable-stress-affect-detection-dataset/WESAD/S9/S9.pkl',\n",
    "    '/kaggle/input/wesad-wearable-stress-affect-detection-dataset/WESAD/S15/S15.pkl',\n",
    "    '/kaggle/input/wesad-wearable-stress-affect-detection-dataset/WESAD/S2/S2.pkl',\n",
    "    '/kaggle/input/wesad-wearable-stress-affect-detection-dataset/WESAD/S6/S6.pkl',\n",
    "    '/kaggle/input/wesad-wearable-stress-affect-detection-dataset/WESAD/S3/S3.pkl',\n",
    "    '/kaggle/input/wesad-wearable-stress-affect-detection-dataset/WESAD/S4/S4.pkl',\n",
    "    '/kaggle/input/wesad-wearable-stress-affect-detection-dataset/WESAD/S16/S16.pkl',\n",
    "    '/kaggle/input/wesad-wearable-stress-affect-detection-dataset/WESAD/S17/S17.pkl'\n",
    "]\n",
    "\n",
    "# ChatGPT\n",
    "X_all_list = []\n",
    "y_all_list = []\n",
    "\n",
    "def zscore_subject(X):\n",
    "    mu = X.mean(axis=(0,1), keepdims=True)\n",
    "    sd = X.std(axis=(0,1), keepdims=True) + 1e-6\n",
    "    return (X - mu) / sd\n",
    "\n",
    "for file in file_paths:\n",
    "    with open(file, 'rb') as f:\n",
    "        data = pd.read_pickle(f)\n",
    "\n",
    "    wrist = data['signal']['wrist']\n",
    "    eda = wrist['EDA']\n",
    "    temp = wrist['TEMP']\n",
    "    acc = wrist['ACC']\n",
    "    labels = data['label']\n",
    "\n",
    "    # Resample Labels auf EDA-Länge\n",
    "    #labels_resampled = resample(labels.astype(float), len(eda))\n",
    "    #labels_resampled = np.round(labels_resampled).astype(int)\n",
    "    \n",
    "    # (Optional) Nicht verwendbare Labelcodes auf 0 setzen\n",
    "    labels_clean = np.array(labels).astype(int)\n",
    "    valid_classes = {1, 2}\n",
    "    labels_clean = np.where(np.isin(labels_clean, list(valid_classes)), labels_clean, 0)\n",
    "    \n",
    "    # Diskretes Resampling ohne Mischen\n",
    "    labels_resampled = discrete_resample_by_index(labels_clean, len(eda))\n",
    "    \n",
    "    # ACC resamplen und alle Kanäle kombinieren\n",
    "    acc_resampled = resample(acc, len(eda))\n",
    "    X_raw = np.hstack([eda, temp, acc_resampled])  # shape: (n_samples, 5)\n",
    "\n",
    "    # Sliding Window\n",
    "    #window_size = 384\n",
    "    #step_size = 384\n",
    "\n",
    "    #for start in range(0, len(X_raw) - window_size, step_size):\n",
    "        #end = start + window_size\n",
    "        #window = X_raw[start:end]\n",
    "        #label_window = labels_resampled[start:end]\n",
    "\n",
    "        #if set(np.unique(label_window)).issubset({1, 2}):\n",
    "            #X_all_list.append(window)\n",
    "           # majority_label = np.bincount(label_window).argmax()\n",
    "            #y_all_list.append(majority_label)\n",
    "\n",
    "    window_size = 384\n",
    "    step_size = 384\n",
    "    \n",
    "    for start in range(0, len(X_raw) - window_size, step_size):\n",
    "        end = start + window_size\n",
    "        window = X_raw[start:end]\n",
    "        label_window = labels_resampled[start:end]\n",
    "    \n",
    "        maj = majority_label_in_window(label_window, valid_classes=(1,2), min_valid_ratio=0.8)\n",
    "        if maj is None:\n",
    "            continue  # Fenster verwerfen, zu wenig gültige Labels\n",
    "        X_all_list.append(window)\n",
    "        y_all_list.append(maj)\n",
    "\n",
    "\n",
    "X_all = [zscore_subject(X) for X in X_all_list]  # Liste aller Subjekt-Daten\n",
    "\n",
    "# In Arrays umwandeln\n",
    "X_all = np.array(X_all_list, dtype=np.float32)          # shape: (n_windows_total, 384, 5)\n",
    "y_all = (np.array(y_all_list, dtype=np.int64) - 1)      # [1,2] -> [0,1]\n",
    "\n",
    "\n",
    "print(f\"Datensätze: {X_all.shape}, Klassenverteilung: {np.bincount(y_all)}\")\n"
   ]
  },
  {
   "cell_type": "code",
   "execution_count": 26,
   "id": "4e9bae56",
   "metadata": {
    "execution": {
     "iopub.execute_input": "2025-09-25T14:01:39.823034Z",
     "iopub.status.busy": "2025-09-25T14:01:39.822639Z",
     "iopub.status.idle": "2025-09-25T14:01:39.868465Z",
     "shell.execute_reply": "2025-09-25T14:01:39.867284Z"
    },
    "papermill": {
     "duration": 0.059859,
     "end_time": "2025-09-25T14:01:39.870501",
     "exception": false,
     "start_time": "2025-09-25T14:01:39.810642",
     "status": "completed"
    },
    "tags": []
   },
   "outputs": [],
   "source": [
    "#y_cnn = (y_all - 1).astype(int)  # [1, 2] → [0, 1]\n",
    "X_train, X_test, y_train, y_test = train_test_split(\n",
    "    X_all, y_all, test_size=0.2, stratify=y_all, random_state=42\n",
    ")\n",
    "#X_train"
   ]
  },
  {
   "cell_type": "code",
   "execution_count": 27,
   "id": "2c79ef65",
   "metadata": {
    "execution": {
     "iopub.execute_input": "2025-09-25T14:01:39.894833Z",
     "iopub.status.busy": "2025-09-25T14:01:39.894469Z",
     "iopub.status.idle": "2025-09-25T14:01:59.832403Z",
     "shell.execute_reply": "2025-09-25T14:01:59.831280Z"
    },
    "papermill": {
     "duration": 19.95187,
     "end_time": "2025-09-25T14:01:59.834328",
     "exception": false,
     "start_time": "2025-09-25T14:01:39.882458",
     "status": "completed"
    },
    "tags": []
   },
   "outputs": [
    {
     "name": "stderr",
     "output_type": "stream",
     "text": [
      "2025-09-25 14:01:42.100727: E external/local_xla/xla/stream_executor/cuda/cuda_fft.cc:477] Unable to register cuFFT factory: Attempting to register factory for plugin cuFFT when one has already been registered\n",
      "WARNING: All log messages before absl::InitializeLog() is called are written to STDERR\n",
      "E0000 00:00:1758808902.352621      13 cuda_dnn.cc:8310] Unable to register cuDNN factory: Attempting to register factory for plugin cuDNN when one has already been registered\n",
      "E0000 00:00:1758808902.420961      13 cuda_blas.cc:1418] Unable to register cuBLAS factory: Attempting to register factory for plugin cuBLAS when one has already been registered\n",
      "/usr/local/lib/python3.11/dist-packages/keras/src/layers/convolutional/base_conv.py:107: UserWarning: Do not pass an `input_shape`/`input_dim` argument to a layer. When using Sequential models, prefer using an `Input(shape)` object as the first layer in the model instead.\n",
      "  super().__init__(activity_regularizer=activity_regularizer, **kwargs)\n",
      "2025-09-25 14:01:59.685925: E external/local_xla/xla/stream_executor/cuda/cuda_driver.cc:152] failed call to cuInit: INTERNAL: CUDA error: Failed call to cuInit: UNKNOWN ERROR (303)\n"
     ]
    },
    {
     "data": {
      "text/html": [
       "<pre style=\"white-space:pre;overflow-x:auto;line-height:normal;font-family:Menlo,'DejaVu Sans Mono',consolas,'Courier New',monospace\"><span style=\"font-weight: bold\">Model: \"sequential\"</span>\n",
       "</pre>\n"
      ],
      "text/plain": [
       "\u001b[1mModel: \"sequential\"\u001b[0m\n"
      ]
     },
     "metadata": {},
     "output_type": "display_data"
    },
    {
     "data": {
      "text/html": [
       "<pre style=\"white-space:pre;overflow-x:auto;line-height:normal;font-family:Menlo,'DejaVu Sans Mono',consolas,'Courier New',monospace\">┏━━━━━━━━━━━━━━━━━━━━━━━━━━━━━━━━━┳━━━━━━━━━━━━━━━━━━━━━━━━┳━━━━━━━━━━━━━━━┓\n",
       "┃<span style=\"font-weight: bold\"> Layer (type)                    </span>┃<span style=\"font-weight: bold\"> Output Shape           </span>┃<span style=\"font-weight: bold\">       Param # </span>┃\n",
       "┡━━━━━━━━━━━━━━━━━━━━━━━━━━━━━━━━━╇━━━━━━━━━━━━━━━━━━━━━━━━╇━━━━━━━━━━━━━━━┩\n",
       "│ conv1d (<span style=\"color: #0087ff; text-decoration-color: #0087ff\">Conv1D</span>)                 │ (<span style=\"color: #00d7ff; text-decoration-color: #00d7ff\">None</span>, <span style=\"color: #00af00; text-decoration-color: #00af00\">379</span>, <span style=\"color: #00af00; text-decoration-color: #00af00\">32</span>)        │           <span style=\"color: #00af00; text-decoration-color: #00af00\">992</span> │\n",
       "├─────────────────────────────────┼────────────────────────┼───────────────┤\n",
       "│ max_pooling1d (<span style=\"color: #0087ff; text-decoration-color: #0087ff\">MaxPooling1D</span>)    │ (<span style=\"color: #00d7ff; text-decoration-color: #00d7ff\">None</span>, <span style=\"color: #00af00; text-decoration-color: #00af00\">189</span>, <span style=\"color: #00af00; text-decoration-color: #00af00\">32</span>)        │             <span style=\"color: #00af00; text-decoration-color: #00af00\">0</span> │\n",
       "├─────────────────────────────────┼────────────────────────┼───────────────┤\n",
       "│ conv1d_1 (<span style=\"color: #0087ff; text-decoration-color: #0087ff\">Conv1D</span>)               │ (<span style=\"color: #00d7ff; text-decoration-color: #00d7ff\">None</span>, <span style=\"color: #00af00; text-decoration-color: #00af00\">187</span>, <span style=\"color: #00af00; text-decoration-color: #00af00\">64</span>)        │         <span style=\"color: #00af00; text-decoration-color: #00af00\">6,208</span> │\n",
       "├─────────────────────────────────┼────────────────────────┼───────────────┤\n",
       "│ max_pooling1d_1 (<span style=\"color: #0087ff; text-decoration-color: #0087ff\">MaxPooling1D</span>)  │ (<span style=\"color: #00d7ff; text-decoration-color: #00d7ff\">None</span>, <span style=\"color: #00af00; text-decoration-color: #00af00\">93</span>, <span style=\"color: #00af00; text-decoration-color: #00af00\">64</span>)         │             <span style=\"color: #00af00; text-decoration-color: #00af00\">0</span> │\n",
       "├─────────────────────────────────┼────────────────────────┼───────────────┤\n",
       "│ global_average_pooling1d        │ (<span style=\"color: #00d7ff; text-decoration-color: #00d7ff\">None</span>, <span style=\"color: #00af00; text-decoration-color: #00af00\">64</span>)             │             <span style=\"color: #00af00; text-decoration-color: #00af00\">0</span> │\n",
       "│ (<span style=\"color: #0087ff; text-decoration-color: #0087ff\">GlobalAveragePooling1D</span>)        │                        │               │\n",
       "├─────────────────────────────────┼────────────────────────┼───────────────┤\n",
       "│ dense (<span style=\"color: #0087ff; text-decoration-color: #0087ff\">Dense</span>)                   │ (<span style=\"color: #00d7ff; text-decoration-color: #00d7ff\">None</span>, <span style=\"color: #00af00; text-decoration-color: #00af00\">64</span>)             │         <span style=\"color: #00af00; text-decoration-color: #00af00\">4,160</span> │\n",
       "├─────────────────────────────────┼────────────────────────┼───────────────┤\n",
       "│ dropout (<span style=\"color: #0087ff; text-decoration-color: #0087ff\">Dropout</span>)               │ (<span style=\"color: #00d7ff; text-decoration-color: #00d7ff\">None</span>, <span style=\"color: #00af00; text-decoration-color: #00af00\">64</span>)             │             <span style=\"color: #00af00; text-decoration-color: #00af00\">0</span> │\n",
       "├─────────────────────────────────┼────────────────────────┼───────────────┤\n",
       "│ dense_1 (<span style=\"color: #0087ff; text-decoration-color: #0087ff\">Dense</span>)                 │ (<span style=\"color: #00d7ff; text-decoration-color: #00d7ff\">None</span>, <span style=\"color: #00af00; text-decoration-color: #00af00\">1</span>)              │            <span style=\"color: #00af00; text-decoration-color: #00af00\">65</span> │\n",
       "└─────────────────────────────────┴────────────────────────┴───────────────┘\n",
       "</pre>\n"
      ],
      "text/plain": [
       "┏━━━━━━━━━━━━━━━━━━━━━━━━━━━━━━━━━┳━━━━━━━━━━━━━━━━━━━━━━━━┳━━━━━━━━━━━━━━━┓\n",
       "┃\u001b[1m \u001b[0m\u001b[1mLayer (type)                   \u001b[0m\u001b[1m \u001b[0m┃\u001b[1m \u001b[0m\u001b[1mOutput Shape          \u001b[0m\u001b[1m \u001b[0m┃\u001b[1m \u001b[0m\u001b[1m      Param #\u001b[0m\u001b[1m \u001b[0m┃\n",
       "┡━━━━━━━━━━━━━━━━━━━━━━━━━━━━━━━━━╇━━━━━━━━━━━━━━━━━━━━━━━━╇━━━━━━━━━━━━━━━┩\n",
       "│ conv1d (\u001b[38;5;33mConv1D\u001b[0m)                 │ (\u001b[38;5;45mNone\u001b[0m, \u001b[38;5;34m379\u001b[0m, \u001b[38;5;34m32\u001b[0m)        │           \u001b[38;5;34m992\u001b[0m │\n",
       "├─────────────────────────────────┼────────────────────────┼───────────────┤\n",
       "│ max_pooling1d (\u001b[38;5;33mMaxPooling1D\u001b[0m)    │ (\u001b[38;5;45mNone\u001b[0m, \u001b[38;5;34m189\u001b[0m, \u001b[38;5;34m32\u001b[0m)        │             \u001b[38;5;34m0\u001b[0m │\n",
       "├─────────────────────────────────┼────────────────────────┼───────────────┤\n",
       "│ conv1d_1 (\u001b[38;5;33mConv1D\u001b[0m)               │ (\u001b[38;5;45mNone\u001b[0m, \u001b[38;5;34m187\u001b[0m, \u001b[38;5;34m64\u001b[0m)        │         \u001b[38;5;34m6,208\u001b[0m │\n",
       "├─────────────────────────────────┼────────────────────────┼───────────────┤\n",
       "│ max_pooling1d_1 (\u001b[38;5;33mMaxPooling1D\u001b[0m)  │ (\u001b[38;5;45mNone\u001b[0m, \u001b[38;5;34m93\u001b[0m, \u001b[38;5;34m64\u001b[0m)         │             \u001b[38;5;34m0\u001b[0m │\n",
       "├─────────────────────────────────┼────────────────────────┼───────────────┤\n",
       "│ global_average_pooling1d        │ (\u001b[38;5;45mNone\u001b[0m, \u001b[38;5;34m64\u001b[0m)             │             \u001b[38;5;34m0\u001b[0m │\n",
       "│ (\u001b[38;5;33mGlobalAveragePooling1D\u001b[0m)        │                        │               │\n",
       "├─────────────────────────────────┼────────────────────────┼───────────────┤\n",
       "│ dense (\u001b[38;5;33mDense\u001b[0m)                   │ (\u001b[38;5;45mNone\u001b[0m, \u001b[38;5;34m64\u001b[0m)             │         \u001b[38;5;34m4,160\u001b[0m │\n",
       "├─────────────────────────────────┼────────────────────────┼───────────────┤\n",
       "│ dropout (\u001b[38;5;33mDropout\u001b[0m)               │ (\u001b[38;5;45mNone\u001b[0m, \u001b[38;5;34m64\u001b[0m)             │             \u001b[38;5;34m0\u001b[0m │\n",
       "├─────────────────────────────────┼────────────────────────┼───────────────┤\n",
       "│ dense_1 (\u001b[38;5;33mDense\u001b[0m)                 │ (\u001b[38;5;45mNone\u001b[0m, \u001b[38;5;34m1\u001b[0m)              │            \u001b[38;5;34m65\u001b[0m │\n",
       "└─────────────────────────────────┴────────────────────────┴───────────────┘\n"
      ]
     },
     "metadata": {},
     "output_type": "display_data"
    },
    {
     "data": {
      "text/html": [
       "<pre style=\"white-space:pre;overflow-x:auto;line-height:normal;font-family:Menlo,'DejaVu Sans Mono',consolas,'Courier New',monospace\"><span style=\"font-weight: bold\"> Total params: </span><span style=\"color: #00af00; text-decoration-color: #00af00\">11,425</span> (44.63 KB)\n",
       "</pre>\n"
      ],
      "text/plain": [
       "\u001b[1m Total params: \u001b[0m\u001b[38;5;34m11,425\u001b[0m (44.63 KB)\n"
      ]
     },
     "metadata": {},
     "output_type": "display_data"
    },
    {
     "data": {
      "text/html": [
       "<pre style=\"white-space:pre;overflow-x:auto;line-height:normal;font-family:Menlo,'DejaVu Sans Mono',consolas,'Courier New',monospace\"><span style=\"font-weight: bold\"> Trainable params: </span><span style=\"color: #00af00; text-decoration-color: #00af00\">11,425</span> (44.63 KB)\n",
       "</pre>\n"
      ],
      "text/plain": [
       "\u001b[1m Trainable params: \u001b[0m\u001b[38;5;34m11,425\u001b[0m (44.63 KB)\n"
      ]
     },
     "metadata": {},
     "output_type": "display_data"
    },
    {
     "data": {
      "text/html": [
       "<pre style=\"white-space:pre;overflow-x:auto;line-height:normal;font-family:Menlo,'DejaVu Sans Mono',consolas,'Courier New',monospace\"><span style=\"font-weight: bold\"> Non-trainable params: </span><span style=\"color: #00af00; text-decoration-color: #00af00\">0</span> (0.00 B)\n",
       "</pre>\n"
      ],
      "text/plain": [
       "\u001b[1m Non-trainable params: \u001b[0m\u001b[38;5;34m0\u001b[0m (0.00 B)\n"
      ]
     },
     "metadata": {},
     "output_type": "display_data"
    }
   ],
   "source": [
    "import tensorflow as tf\n",
    "from tensorflow.keras import layers, models\n",
    "\n",
    "model = models.Sequential([\n",
    "    layers.Conv1D(32, kernel_size=6, activation='relu', input_shape=(384, 5)),\n",
    "    #layers.Conv1D(32, kernel_size=2, activation='relu', input_shape=(384, 5)),\n",
    "    layers.MaxPooling1D(pool_size=2),\n",
    "    layers.Conv1D(64, kernel_size=3, activation='relu'),\n",
    "    layers.MaxPooling1D(pool_size=2),\n",
    "    #layers.Flatten(),\n",
    "    layers.GlobalAveragePooling1D(),\n",
    "    layers.Dense(64, activation='relu'),\n",
    "    layers.Dropout(0.3),\n",
    "    layers.Dense(1, activation='sigmoid')  # binary classification\n",
    "])\n",
    "\n",
    "model.compile(optimizer='adam', loss='binary_crossentropy',\n",
    "              metrics=[tf.keras.metrics.BinaryAccuracy(name='accuracy'),\n",
    "                       tf.keras.metrics.Precision(name='precision'),\n",
    "                       tf.keras.metrics.Recall(name='recall')])\n",
    "model.summary()\n"
   ]
  },
  {
   "cell_type": "code",
   "execution_count": 28,
   "id": "4b4e37b0",
   "metadata": {
    "execution": {
     "iopub.execute_input": "2025-09-25T14:01:59.864643Z",
     "iopub.status.busy": "2025-09-25T14:01:59.863906Z",
     "iopub.status.idle": "2025-09-25T14:02:09.348662Z",
     "shell.execute_reply": "2025-09-25T14:02:09.347393Z"
    },
    "papermill": {
     "duration": 9.502224,
     "end_time": "2025-09-25T14:02:09.351094",
     "exception": false,
     "start_time": "2025-09-25T14:01:59.848870",
     "status": "completed"
    },
    "tags": []
   },
   "outputs": [
    {
     "name": "stdout",
     "output_type": "stream",
     "text": [
      "Epoch 1/50\n",
      "\u001b[1m5/5\u001b[0m \u001b[32m━━━━━━━━━━━━━━━━━━━━\u001b[0m\u001b[37m\u001b[0m \u001b[1m6s\u001b[0m 322ms/step - accuracy: 0.4466 - auc: 0.4541 - loss: 2.2202 - precision: 0.2755 - recall: 0.4184 - val_accuracy: 0.5263 - val_auc: 0.4875 - val_loss: 1.1206 - val_precision: 0.5294 - val_recall: 0.4737 - learning_rate: 3.0000e-04\n",
      "Epoch 2/50\n",
      "\u001b[1m5/5\u001b[0m \u001b[32m━━━━━━━━━━━━━━━━━━━━\u001b[0m\u001b[37m\u001b[0m \u001b[1m0s\u001b[0m 57ms/step - accuracy: 0.4800 - auc: 0.4782 - loss: 1.8697 - precision: 0.3286 - recall: 0.4042 - val_accuracy: 0.6053 - val_auc: 0.6177 - val_loss: 0.7039 - val_precision: 0.7000 - val_recall: 0.3684 - learning_rate: 3.0000e-04\n",
      "Epoch 3/50\n",
      "\u001b[1m5/5\u001b[0m \u001b[32m━━━━━━━━━━━━━━━━━━━━\u001b[0m\u001b[37m\u001b[0m \u001b[1m0s\u001b[0m 50ms/step - accuracy: 0.5406 - auc: 0.5429 - loss: 1.2760 - precision: 0.3133 - recall: 0.4216 - val_accuracy: 0.7895 - val_auc: 0.8227 - val_loss: 0.5308 - val_precision: 0.7895 - val_recall: 0.7895 - learning_rate: 3.0000e-04\n",
      "Epoch 4/50\n",
      "\u001b[1m5/5\u001b[0m \u001b[32m━━━━━━━━━━━━━━━━━━━━\u001b[0m\u001b[37m\u001b[0m \u001b[1m0s\u001b[0m 50ms/step - accuracy: 0.6137 - auc: 0.6431 - loss: 1.0907 - precision: 0.3773 - recall: 0.4606 - val_accuracy: 0.8158 - val_auc: 0.9003 - val_loss: 0.4258 - val_precision: 0.7727 - val_recall: 0.8947 - learning_rate: 3.0000e-04\n",
      "Epoch 5/50\n",
      "\u001b[1m5/5\u001b[0m \u001b[32m━━━━━━━━━━━━━━━━━━━━\u001b[0m\u001b[37m\u001b[0m \u001b[1m0s\u001b[0m 49ms/step - accuracy: 0.6619 - auc: 0.7125 - loss: 0.8584 - precision: 0.4330 - recall: 0.5342 - val_accuracy: 0.7368 - val_auc: 0.9488 - val_loss: 0.3598 - val_precision: 0.6667 - val_recall: 0.9474 - learning_rate: 3.0000e-04\n",
      "Epoch 6/50\n",
      "\u001b[1m5/5\u001b[0m \u001b[32m━━━━━━━━━━━━━━━━━━━━\u001b[0m\u001b[37m\u001b[0m \u001b[1m0s\u001b[0m 48ms/step - accuracy: 0.7178 - auc: 0.8559 - loss: 0.5328 - precision: 0.5078 - recall: 0.7455 - val_accuracy: 0.8421 - val_auc: 0.9820 - val_loss: 0.3180 - val_precision: 0.7600 - val_recall: 1.0000 - learning_rate: 3.0000e-04\n",
      "Epoch 7/50\n",
      "\u001b[1m5/5\u001b[0m \u001b[32m━━━━━━━━━━━━━━━━━━━━\u001b[0m\u001b[37m\u001b[0m \u001b[1m0s\u001b[0m 44ms/step - accuracy: 0.6437 - auc: 0.7620 - loss: 0.7728 - precision: 0.4433 - recall: 0.6708 - val_accuracy: 0.8947 - val_auc: 0.9889 - val_loss: 0.2749 - val_precision: 0.8261 - val_recall: 1.0000 - learning_rate: 3.0000e-04\n",
      "Epoch 8/50\n",
      "\u001b[1m5/5\u001b[0m \u001b[32m━━━━━━━━━━━━━━━━━━━━\u001b[0m\u001b[37m\u001b[0m \u001b[1m0s\u001b[0m 38ms/step - accuracy: 0.7713 - auc: 0.8459 - loss: 0.5762 - precision: 0.5591 - recall: 0.8281 - val_accuracy: 0.9211 - val_auc: 0.9889 - val_loss: 0.2207 - val_precision: 0.9000 - val_recall: 0.9474 - learning_rate: 3.0000e-04\n",
      "Epoch 9/50\n",
      "\u001b[1m5/5\u001b[0m \u001b[32m━━━━━━━━━━━━━━━━━━━━\u001b[0m\u001b[37m\u001b[0m \u001b[1m0s\u001b[0m 49ms/step - accuracy: 0.8294 - auc: 0.8712 - loss: 0.4961 - precision: 0.6791 - recall: 0.8120 - val_accuracy: 0.9211 - val_auc: 0.9917 - val_loss: 0.1976 - val_precision: 0.9000 - val_recall: 0.9474 - learning_rate: 3.0000e-04\n",
      "Epoch 10/50\n",
      "\u001b[1m5/5\u001b[0m \u001b[32m━━━━━━━━━━━━━━━━━━━━\u001b[0m\u001b[37m\u001b[0m \u001b[1m0s\u001b[0m 38ms/step - accuracy: 0.8380 - auc: 0.8531 - loss: 0.5961 - precision: 0.7204 - recall: 0.7954 - val_accuracy: 0.9211 - val_auc: 0.9889 - val_loss: 0.1966 - val_precision: 0.9000 - val_recall: 0.9474 - learning_rate: 3.0000e-04\n",
      "Epoch 11/50\n",
      "\u001b[1m5/5\u001b[0m \u001b[32m━━━━━━━━━━━━━━━━━━━━\u001b[0m\u001b[37m\u001b[0m \u001b[1m0s\u001b[0m 38ms/step - accuracy: 0.7630 - auc: 0.8460 - loss: 0.5351 - precision: 0.5825 - recall: 0.6560 - val_accuracy: 0.9211 - val_auc: 0.9889 - val_loss: 0.2156 - val_precision: 0.9000 - val_recall: 0.9474 - learning_rate: 3.0000e-04\n",
      "Epoch 12/50\n",
      "\u001b[1m5/5\u001b[0m \u001b[32m━━━━━━━━━━━━━━━━━━━━\u001b[0m\u001b[37m\u001b[0m \u001b[1m0s\u001b[0m 38ms/step - accuracy: 0.7948 - auc: 0.8739 - loss: 0.5478 - precision: 0.5890 - recall: 0.8324 - val_accuracy: 0.9211 - val_auc: 0.9889 - val_loss: 0.2190 - val_precision: 0.9000 - val_recall: 0.9474 - learning_rate: 3.0000e-04\n",
      "Epoch 13/50\n",
      "\u001b[1m1/5\u001b[0m \u001b[32m━━━━\u001b[0m\u001b[37m━━━━━━━━━━━━━━━━\u001b[0m \u001b[1m0s\u001b[0m 36ms/step - accuracy: 0.8750 - auc: 0.8795 - loss: 0.5093 - precision: 0.8000 - recall: 0.8000\n",
      "Epoch 13: ReduceLROnPlateau reducing learning rate to 0.0001500000071246177.\n",
      "\u001b[1m5/5\u001b[0m \u001b[32m━━━━━━━━━━━━━━━━━━━━\u001b[0m\u001b[37m\u001b[0m \u001b[1m0s\u001b[0m 37ms/step - accuracy: 0.8775 - auc: 0.9171 - loss: 0.3873 - precision: 0.7762 - recall: 0.8754 - val_accuracy: 0.9211 - val_auc: 0.9889 - val_loss: 0.2062 - val_precision: 0.9000 - val_recall: 0.9474 - learning_rate: 3.0000e-04\n",
      "Epoch 14/50\n",
      "\u001b[1m5/5\u001b[0m \u001b[32m━━━━━━━━━━━━━━━━━━━━\u001b[0m\u001b[37m\u001b[0m \u001b[1m0s\u001b[0m 35ms/step - accuracy: 0.8462 - auc: 0.9160 - loss: 0.3846 - precision: 0.7292 - recall: 0.8352 - val_accuracy: 0.9211 - val_auc: 0.9889 - val_loss: 0.1982 - val_precision: 0.9000 - val_recall: 0.9474 - learning_rate: 1.5000e-04\n",
      "Epoch 15/50\n",
      "\u001b[1m5/5\u001b[0m \u001b[32m━━━━━━━━━━━━━━━━━━━━\u001b[0m\u001b[37m\u001b[0m \u001b[1m0s\u001b[0m 37ms/step - accuracy: 0.8190 - auc: 0.9022 - loss: 0.4425 - precision: 0.6681 - recall: 0.8294 - val_accuracy: 0.9211 - val_auc: 0.9889 - val_loss: 0.1946 - val_precision: 0.9000 - val_recall: 0.9474 - learning_rate: 1.5000e-04\n",
      "Epoch 16/50\n",
      "\u001b[1m5/5\u001b[0m \u001b[32m━━━━━━━━━━━━━━━━━━━━\u001b[0m\u001b[37m\u001b[0m \u001b[1m0s\u001b[0m 37ms/step - accuracy: 0.8566 - auc: 0.9212 - loss: 0.3521 - precision: 0.7589 - recall: 0.7892 - val_accuracy: 0.9211 - val_auc: 0.9889 - val_loss: 0.1939 - val_precision: 0.9000 - val_recall: 0.9474 - learning_rate: 1.5000e-04\n",
      "Epoch 17/50\n",
      "\u001b[1m5/5\u001b[0m \u001b[32m━━━━━━━━━━━━━━━━━━━━\u001b[0m\u001b[37m\u001b[0m \u001b[1m0s\u001b[0m 35ms/step - accuracy: 0.8276 - auc: 0.9038 - loss: 0.4295 - precision: 0.6776 - recall: 0.8416 - val_accuracy: 0.9211 - val_auc: 0.9889 - val_loss: 0.1947 - val_precision: 0.9000 - val_recall: 0.9474 - learning_rate: 1.5000e-04\n",
      "Beste Epoche nach F1:  8  | val_f1=0.9231\n",
      "Beste Epoche nach Acc: 8 | val_accuracy=0.9211\n",
      "Beste Epoche nach AUC: 9 | val_auc=0.9917\n"
     ]
    }
   ],
   "source": [
    "import numpy as np\n",
    "import tensorflow as tf\n",
    "from tensorflow.keras.callbacks import EarlyStopping, ModelCheckpoint, ReduceLROnPlateau\n",
    "\n",
    "# WICHTIG: AUC/Precision/Recall als Metriken loggen (für Callbacks + F1)\n",
    "model.compile(\n",
    "    optimizer=tf.keras.optimizers.Adam(3e-4),\n",
    "    loss='binary_crossentropy',\n",
    "    metrics=[\n",
    "        tf.keras.metrics.BinaryAccuracy(name='accuracy'),\n",
    "        tf.keras.metrics.Precision(name='precision'),\n",
    "        tf.keras.metrics.Recall(name='recall'),\n",
    "        tf.keras.metrics.AUC(name='auc')\n",
    "    ]\n",
    ")\n",
    "\n",
    "callbacks = [\n",
    "    ModelCheckpoint(\"best.keras\", monitor=\"val_auc\", mode=\"max\", save_best_only=True),\n",
    "    EarlyStopping(monitor=\"val_auc\", mode=\"max\", patience=8, restore_best_weights=True),\n",
    "    ReduceLROnPlateau(monitor=\"val_loss\", factor=0.5, patience=3, verbose=1, min_lr=1e-6)\n",
    "]\n",
    "\n",
    "# Chat GPT Input\n",
    "from sklearn.utils.class_weight import compute_class_weight\n",
    "\n",
    "classes = np.unique(y_train)\n",
    "weights = compute_class_weight('balanced', classes=classes, y=y_train)\n",
    "class_weights = dict(zip(classes, weights))\n",
    "\n",
    "history = model.fit(\n",
    "    X_train, y_train,\n",
    "    class_weight=class_weights, \n",
    "    epochs=50,\n",
    "    batch_size=32,\n",
    "    validation_split=0.2,\n",
    "    callbacks=callbacks,\n",
    "    verbose=1\n",
    ")\n",
    "\n",
    "\n",
    "\n",
    "\n",
    "\n",
    "# --- Beste Epochen ermitteln (aus der EINEN History) ---\n",
    "hist = history.history\n",
    "val_acc = np.array(hist[\"val_accuracy\"])\n",
    "val_prec = np.array(hist[\"val_precision\"])\n",
    "val_rec  = np.array(hist[\"val_recall\"])\n",
    "val_auc  = np.array(hist[\"val_auc\"])\n",
    "\n",
    "# F1 aus Precision/Recall\n",
    "val_f1 = 2 * val_prec * val_rec / (val_prec + val_rec + 1e-7)\n",
    "\n",
    "best_epoch_f1  = int(np.argmax(val_f1)) + 1\n",
    "best_epoch_acc = int(np.argmax(val_acc)) + 1\n",
    "best_epoch_auc = int(np.argmax(val_auc)) + 1\n",
    "\n",
    "print(f\"Beste Epoche nach F1:  {best_epoch_f1}  | val_f1={val_f1[best_epoch_f1-1]:.4f}\")\n",
    "print(f\"Beste Epoche nach Acc: {best_epoch_acc} | val_accuracy={val_acc[best_epoch_acc-1]:.4f}\")\n",
    "print(f\"Beste Epoche nach AUC: {best_epoch_auc} | val_auc={val_auc[best_epoch_auc-1]:.4f}\")\n"
   ]
  },
  {
   "cell_type": "code",
   "execution_count": 29,
   "id": "01727c6c",
   "metadata": {
    "execution": {
     "iopub.execute_input": "2025-09-25T14:02:09.387351Z",
     "iopub.status.busy": "2025-09-25T14:02:09.386937Z",
     "iopub.status.idle": "2025-09-25T14:02:09.435926Z",
     "shell.execute_reply": "2025-09-25T14:02:09.434687Z"
    },
    "papermill": {
     "duration": 0.069692,
     "end_time": "2025-09-25T14:02:09.437970",
     "exception": false,
     "start_time": "2025-09-25T14:02:09.368278",
     "status": "completed"
    },
    "tags": []
   },
   "outputs": [],
   "source": [
    "model.save(\"/kaggle/working/cnn_model.keras\")\n"
   ]
  },
  {
   "cell_type": "code",
   "execution_count": 30,
   "id": "3aabc60f",
   "metadata": {
    "execution": {
     "iopub.execute_input": "2025-09-25T14:02:09.472055Z",
     "iopub.status.busy": "2025-09-25T14:02:09.471650Z",
     "iopub.status.idle": "2025-09-25T14:02:09.862255Z",
     "shell.execute_reply": "2025-09-25T14:02:09.861136Z"
    },
    "papermill": {
     "duration": 0.40981,
     "end_time": "2025-09-25T14:02:09.863899",
     "exception": false,
     "start_time": "2025-09-25T14:02:09.454089",
     "status": "completed"
    },
    "tags": []
   },
   "outputs": [
    {
     "name": "stdout",
     "output_type": "stream",
     "text": [
      "\u001b[1m1/1\u001b[0m \u001b[32m━━━━━━━━━━━━━━━━━━━━\u001b[0m\u001b[37m\u001b[0m \u001b[1m0s\u001b[0m 144ms/step\n",
      "[[0.03224935]\n",
      " [0.9776412 ]\n",
      " [0.61260754]\n",
      " [0.13980828]\n",
      " [0.97947955]]\n"
     ]
    }
   ],
   "source": [
    "from tensorflow.keras.models import load_model\n",
    "\n",
    "# Laden (egal ob .keras oder .h5)\n",
    "cnn_loaded = load_model(\"/kaggle/working/cnn_model.keras\")\n",
    "\n",
    "# Test\n",
    "print(cnn_loaded.predict(X_test[:5]))\n"
   ]
  },
  {
   "cell_type": "code",
   "execution_count": 31,
   "id": "16f9bc69",
   "metadata": {
    "execution": {
     "iopub.execute_input": "2025-09-25T14:02:09.897549Z",
     "iopub.status.busy": "2025-09-25T14:02:09.896786Z",
     "iopub.status.idle": "2025-09-25T14:02:09.903380Z",
     "shell.execute_reply": "2025-09-25T14:02:09.902514Z"
    },
    "papermill": {
     "duration": 0.024819,
     "end_time": "2025-09-25T14:02:09.904877",
     "exception": false,
     "start_time": "2025-09-25T14:02:09.880058",
     "status": "completed"
    },
    "tags": []
   },
   "outputs": [
    {
     "data": {
      "text/html": [
       "<a href='/kaggle/working/svm_clf_stress_model.pkl' target='_blank'>/kaggle/working/svm_clf_stress_model.pkl</a><br>"
      ],
      "text/plain": [
       "/kaggle/working/svm_clf_stress_model.pkl"
      ]
     },
     "execution_count": 31,
     "metadata": {},
     "output_type": "execute_result"
    }
   ],
   "source": [
    "## Download der Daten\n",
    "from IPython.display import FileLink\n",
    "\n",
    "FileLink('/kaggle/working/cnn_model.keras')\n",
    "FileLink('/kaggle/working/svm_clf_stress_model.pkl')\n"
   ]
  },
  {
   "cell_type": "code",
   "execution_count": 32,
   "id": "f85d6b8a",
   "metadata": {
    "execution": {
     "iopub.execute_input": "2025-09-25T14:02:09.938465Z",
     "iopub.status.busy": "2025-09-25T14:02:09.938088Z",
     "iopub.status.idle": "2025-09-25T14:02:09.955472Z",
     "shell.execute_reply": "2025-09-25T14:02:09.954360Z"
    },
    "papermill": {
     "duration": 0.034986,
     "end_time": "2025-09-25T14:02:09.956968",
     "exception": false,
     "start_time": "2025-09-25T14:02:09.921982",
     "status": "completed"
    },
    "tags": []
   },
   "outputs": [
    {
     "name": "stdout",
     "output_type": "stream",
     "text": [
      "Alle Dateien vorhanden.\n",
      "svm_clf_stress_model.pkl: 9.8 KB\n",
      "xgb_stress_model.pkl: 167.1 KB\n",
      "best.keras: 173.2 KB\n",
      "models.zip: 499.5 KB\n",
      "cnn_model.keras: 173.2 KB\n",
      "random_forest_model.pkl: 316.2 KB\n",
      "__notebook__.ipynb: 133.9 KB\n",
      "\n",
      "FERTIG: models.zip liegt in /kaggle/working und erscheint im Output-Tab.\n"
     ]
    }
   ],
   "source": [
    "import os, zipfile, shutil\n",
    "\n",
    "# 1) Sicherstellen, dass die Modelle da sind\n",
    "files_to_zip = [\n",
    "    \"/kaggle/working/cnn_model.keras\",\n",
    "    \"/kaggle/working/random_forest_model.pkl\",\n",
    "    \"/kaggle/working/svm_clf_stress_model.pkl\",\n",
    "]\n",
    "\n",
    "missing = [p for p in files_to_zip if not os.path.exists(p)]\n",
    "if missing:\n",
    "    print(\"Fehlende Dateien:\", missing)\n",
    "else:\n",
    "    print(\"Alle Dateien vorhanden.\")\n",
    "\n",
    "# 2) Sauberen Export-Ordner anlegen\n",
    "export_dir = \"/kaggle/working/export\"\n",
    "os.makedirs(export_dir, exist_ok=True)\n",
    "\n",
    "# 3) Dateien in den Export-Ordner kopieren (optional, hält’s übersichtlich)\n",
    "for p in files_to_zip:\n",
    "    if os.path.exists(p):\n",
    "        shutil.copy(p, os.path.join(export_dir, os.path.basename(p)))\n",
    "\n",
    "# 4) Zip nur mit diesen Dateien bauen\n",
    "zip_path = \"/kaggle/working/models.zip\"\n",
    "with zipfile.ZipFile(zip_path, \"w\") as zf:\n",
    "    for name in os.listdir(export_dir):\n",
    "        zf.write(os.path.join(export_dir, name), arcname=name)\n",
    "\n",
    "# 5) Kontrolle: auflisten und Größen anzeigen\n",
    "for name in os.listdir(\"/kaggle/working\"):\n",
    "    full = os.path.join(\"/kaggle/working\", name)\n",
    "    if os.path.isfile(full):\n",
    "        print(f\"{name}: {os.path.getsize(full)/1024:.1f} KB\")\n",
    "\n",
    "print(\"\\nFERTIG: models.zip liegt in /kaggle/working und erscheint im Output-Tab.\")\n"
   ]
  },
  {
   "cell_type": "markdown",
   "id": "804f4435",
   "metadata": {
    "papermill": {
     "duration": 0.014761,
     "end_time": "2025-09-25T14:02:09.987223",
     "exception": false,
     "start_time": "2025-09-25T14:02:09.972462",
     "status": "completed"
    },
    "tags": []
   },
   "source": [
    "## Ausprobieren CNN für \"gelernte Daten\" "
   ]
  },
  {
   "cell_type": "code",
   "execution_count": 33,
   "id": "7bea3935",
   "metadata": {
    "execution": {
     "iopub.execute_input": "2025-09-25T14:02:10.019956Z",
     "iopub.status.busy": "2025-09-25T14:02:10.019584Z",
     "iopub.status.idle": "2025-09-25T14:02:10.491641Z",
     "shell.execute_reply": "2025-09-25T14:02:10.490495Z"
    },
    "papermill": {
     "duration": 0.490386,
     "end_time": "2025-09-25T14:02:10.493280",
     "exception": false,
     "start_time": "2025-09-25T14:02:10.002894",
     "status": "completed"
    },
    "tags": []
   },
   "outputs": [
    {
     "name": "stdout",
     "output_type": "stream",
     "text": [
      "\u001b[1m2/2\u001b[0m \u001b[32m━━━━━━━━━━━━━━━━━━━━\u001b[0m\u001b[37m\u001b[0m \u001b[1m0s\u001b[0m 124ms/step\n",
      "              precision    recall  f1-score   support\n",
      "\n",
      "           0      0.862     0.806     0.833        31\n",
      "           1      0.684     0.765     0.722        17\n",
      "\n",
      "    accuracy                          0.792        48\n",
      "   macro avg      0.773     0.786     0.778        48\n",
      "weighted avg      0.799     0.792     0.794        48\n",
      "\n"
     ]
    }
   ],
   "source": [
    "from sklearn.metrics import classification_report\n",
    "\n",
    "\n",
    "from tensorflow.keras.models import load_model\n",
    "\n",
    "# Laden (egal ob .keras oder .h5)\n",
    "cnn_loaded = load_model(\"/kaggle/working/cnn_model.keras\")\n",
    "\n",
    "\n",
    "y_pred_prob = cnn_loaded.predict(X_test).flatten()\n",
    "y_pred = (y_pred_prob > 0.5).astype(int)\n",
    "\n",
    "print(classification_report(y_test, y_pred, digits=3))\n"
   ]
  },
  {
   "cell_type": "markdown",
   "id": "556c486c",
   "metadata": {
    "papermill": {
     "duration": 0.015319,
     "end_time": "2025-09-25T14:02:10.524228",
     "exception": false,
     "start_time": "2025-09-25T14:02:10.508909",
     "status": "completed"
    },
    "tags": []
   },
   "source": [
    "## Ausprobieren CNN für \"NEUE Daten\" -> 8\n",
    "\n",
    "-> Variablen ändern für S12 bzw. S8 \n",
    "-> Ausführen\n",
    "-> "
   ]
  },
  {
   "cell_type": "code",
   "execution_count": 34,
   "id": "ed40bada",
   "metadata": {
    "execution": {
     "iopub.execute_input": "2025-09-25T14:02:10.556402Z",
     "iopub.status.busy": "2025-09-25T14:02:10.556086Z",
     "iopub.status.idle": "2025-09-25T14:02:22.568436Z",
     "shell.execute_reply": "2025-09-25T14:02:22.567220Z"
    },
    "papermill": {
     "duration": 12.030461,
     "end_time": "2025-09-25T14:02:22.570252",
     "exception": false,
     "start_time": "2025-09-25T14:02:10.539791",
     "status": "completed"
    },
    "tags": []
   },
   "outputs": [
    {
     "name": "stdout",
     "output_type": "stream",
     "text": [
      "S8: Fenster gesamt=56, behalten=19\n",
      "Datensätze: (19, 384, 5), Klassenverteilung: [12  7]\n"
     ]
    }
   ],
   "source": [
    "import pandas as pd\n",
    "import numpy as np\n",
    "from scipy.signal import resample\n",
    "\n",
    "# ---------- Hilfsfunktionen ----------\n",
    "def discrete_resample_by_index(labels: np.ndarray, target_len: int) -> np.ndarray:\n",
    "    \"\"\"Diskretes 'Resampling' per Index-Mapping (keine Interpolation).\"\"\"\n",
    "    labels = np.asarray(labels).astype(np.int64)\n",
    "    src_len = len(labels)\n",
    "    if src_len == target_len:\n",
    "        return labels\n",
    "    idx = np.floor(np.linspace(0, src_len - 1, target_len)).astype(int)\n",
    "    return labels[idx]\n",
    "\n",
    "def majority_label_in_window(win_labels: np.ndarray, valid_classes=(1,2), min_valid_ratio=0.7):\n",
    "    \"\"\"Mehrheitslabel im Fenster, nur über gültige Klassen; sonst None.\"\"\"\n",
    "    vl = np.asarray(win_labels).astype(np.int64)\n",
    "    valid_mask = np.isin(vl, valid_classes)\n",
    "    if valid_mask.mean() < min_valid_ratio:\n",
    "        return None\n",
    "    counts = np.bincount(vl[valid_mask])\n",
    "    return int(np.argmax(counts))\n",
    "\n",
    "# ---------- Daten laden ----------\n",
    "file_paths = [\n",
    "    '/kaggle/input/wesad-wearable-stress-affect-detection-dataset/WESAD/S8/S8.pkl'\n",
    "]\n",
    "\n",
    "X_all_list_S8, y_all_list_S8 = [], []\n",
    "\n",
    "window_size = 384\n",
    "step_size   = 384\n",
    "valid_classes = (1, 2)\n",
    "\n",
    "for file in file_paths:\n",
    "    with open(file, 'rb') as f:\n",
    "        data = pd.read_pickle(f)\n",
    "\n",
    "    wrist = data['signal']['wrist']\n",
    "    eda   = np.asarray(wrist['EDA']).reshape(-1, 1)   # (N,1)\n",
    "    temp  = np.asarray(wrist['TEMP']).reshape(-1, 1)  # (N,1)\n",
    "    acc   = np.asarray(wrist['ACC'])                  # (N,3)\n",
    "\n",
    "    labels = np.asarray(data['label']).astype(np.int64)\n",
    "\n",
    "    # 1) Labels reinigen: nur 1/2 behalten, Rest = 0 (ungültig)\n",
    "    labels_clean = np.where(np.isin(labels, valid_classes), labels, 0)\n",
    "\n",
    "    # 2) Labels diskret auf EDA-Länge mappen (kein Fourier)\n",
    "    labels_resampled = discrete_resample_by_index(labels_clean, len(eda))\n",
    "\n",
    "    # 3) ACC auf EDA-Länge bringen (hier linear/Fourier ok, da kontinuierlich)\n",
    "    acc_resampled = resample(acc, len(eda))\n",
    "\n",
    "    # 4) Feature-Matrix bauen\n",
    "    X_raw = np.hstack([eda, temp, acc_resampled])  # (N,5)\n",
    "\n",
    "    # 5) Sliding Windows + Majority Voting\n",
    "    total_windows, kept = 0, 0\n",
    "    for start in range(0, len(X_raw) - window_size, step_size):\n",
    "        end = start + window_size\n",
    "        total_windows += 1\n",
    "\n",
    "        window = X_raw[start:end]\n",
    "        label_window = labels_resampled[start:end]\n",
    "\n",
    "        maj = majority_label_in_window(label_window, valid_classes=valid_classes, min_valid_ratio=0.7)\n",
    "        if maj is None:\n",
    "            continue\n",
    "\n",
    "        X_all_list_S8.append(window)\n",
    "        y_all_list_S8.append(maj)\n",
    "        kept += 1\n",
    "\n",
    "    print(f\"S8: Fenster gesamt={total_windows}, behalten={kept}\")\n",
    "\n",
    "# 6) In Arrays umwandeln, Label-Mapping {1,2}->{0,1} genau einmal\n",
    "X_S8 = np.array(X_all_list_S8, dtype=np.float32)                 # (n_windows, 384, 5)\n",
    "y_S8 = (np.array(y_all_list_S8, dtype=np.int64) - 1).astype(int) # (n_windows,)\n",
    "\n",
    "X_S8 = zscore_subject(X_S8)\n",
    "\n",
    "print(f\"Datensätze: {X_S8.shape}, Klassenverteilung: {np.bincount(y_S8) if len(y_S8)>0 else []}\")\n"
   ]
  },
  {
   "cell_type": "code",
   "execution_count": 35,
   "id": "14c9207e",
   "metadata": {
    "execution": {
     "iopub.execute_input": "2025-09-25T14:02:22.605246Z",
     "iopub.status.busy": "2025-09-25T14:02:22.604923Z",
     "iopub.status.idle": "2025-09-25T14:02:23.087416Z",
     "shell.execute_reply": "2025-09-25T14:02:23.086258Z"
    },
    "papermill": {
     "duration": 0.501439,
     "end_time": "2025-09-25T14:02:23.089026",
     "exception": false,
     "start_time": "2025-09-25T14:02:22.587587",
     "status": "completed"
    },
    "tags": []
   },
   "outputs": [
    {
     "name": "stdout",
     "output_type": "stream",
     "text": [
      "\u001b[1m1/1\u001b[0m \u001b[32m━━━━━━━━━━━━━━━━━━━━\u001b[0m\u001b[37m\u001b[0m \u001b[1m0s\u001b[0m 140ms/step\n",
      "              precision    recall  f1-score   support\n",
      "\n",
      "           0      0.750     1.000     0.857        12\n",
      "           1      1.000     0.429     0.600         7\n",
      "\n",
      "    accuracy                          0.789        19\n",
      "   macro avg      0.875     0.714     0.729        19\n",
      "weighted avg      0.842     0.789     0.762        19\n",
      "\n"
     ]
    }
   ],
   "source": [
    "#y_cnn = (y_S8 - 1).astype(int)  # [1, 2] → [0, 1]\n",
    "\n",
    "#model.fit(X_train, y_train, epochs=20, batch_size=32, validation_split=0.2)\n",
    "\n",
    "\n",
    "from sklearn.metrics import classification_report\n",
    "\n",
    "from tensorflow.keras.models import load_model\n",
    "\n",
    "# Laden (egal ob .keras oder .h5)\n",
    "cnn_loaded = load_model(\"/kaggle/working/cnn_model.keras\")\n",
    "\n",
    "y_pred_prob = cnn_loaded.predict(X_S8).flatten()\n",
    "y_pred = (y_pred_prob > 0.5).astype(int)\n",
    "\n",
    "print(classification_report(y_S8, y_pred, digits=3))\n",
    "X_raw[8]\n",
    "\n",
    "import scipy.ndimage as nd\n",
    "p_test = cnn_loaded.predict(X_S8, verbose=0).ravel()\n",
    "p_test = nd.uniform_filter1d(p_test, size=5)   # leichte Glättung\n",
    "\n"
   ]
  },
  {
   "cell_type": "code",
   "execution_count": null,
   "id": "7615c044",
   "metadata": {
    "papermill": {
     "duration": 0.015229,
     "end_time": "2025-09-25T14:02:23.120030",
     "exception": false,
     "start_time": "2025-09-25T14:02:23.104801",
     "status": "completed"
    },
    "tags": []
   },
   "outputs": [],
   "source": []
  }
 ],
 "metadata": {
  "kaggle": {
   "accelerator": "none",
   "dataSources": [
    {
     "datasetId": 7192727,
     "sourceId": 11476463,
     "sourceType": "datasetVersion"
    },
    {
     "datasetId": 8067774,
     "sourceId": 12762224,
     "sourceType": "datasetVersion"
    },
    {
     "datasetId": 8068181,
     "sourceId": 12762826,
     "sourceType": "datasetVersion"
    }
   ],
   "dockerImageVersionId": 31089,
   "isGpuEnabled": false,
   "isInternetEnabled": false,
   "language": "python",
   "sourceType": "notebook"
  },
  "kernelspec": {
   "display_name": "Python 3",
   "language": "python",
   "name": "python3"
  },
  "language_info": {
   "codemirror_mode": {
    "name": "ipython",
    "version": 3
   },
   "file_extension": ".py",
   "mimetype": "text/x-python",
   "name": "python",
   "nbconvert_exporter": "python",
   "pygments_lexer": "ipython3",
   "version": "3.11.13"
  },
  "papermill": {
   "default_parameters": {},
   "duration": 2396.30126,
   "end_time": "2025-09-25T14:02:25.862782",
   "environment_variables": {},
   "exception": null,
   "input_path": "__notebook__.ipynb",
   "output_path": "__notebook__.ipynb",
   "parameters": {},
   "start_time": "2025-09-25T13:22:29.561522",
   "version": "2.6.0"
  }
 },
 "nbformat": 4,
 "nbformat_minor": 5
}
