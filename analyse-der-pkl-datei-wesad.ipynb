{
 "cells": [
  {
   "cell_type": "code",
   "execution_count": 1,
   "id": "406b2eea",
   "metadata": {
    "_cell_guid": "b1076dfc-b9ad-4769-8c92-a6c4dae69d19",
    "_uuid": "8f2839f25d086af736a60e9eeb907d3b93b6e0e5",
    "execution": {
     "iopub.execute_input": "2025-09-18T13:22:05.145790Z",
     "iopub.status.busy": "2025-09-18T13:22:05.145483Z",
     "iopub.status.idle": "2025-09-18T13:22:07.402626Z",
     "shell.execute_reply": "2025-09-18T13:22:07.401532Z"
    },
    "papermill": {
     "duration": 2.268781,
     "end_time": "2025-09-18T13:22:07.404407",
     "exception": false,
     "start_time": "2025-09-18T13:22:05.135626",
     "status": "completed"
    },
    "tags": []
   },
   "outputs": [
    {
     "name": "stdout",
     "output_type": "stream",
     "text": [
      "/kaggle/input/wesad-wearable-stress-affect-detection-dataset/WESAD/S14/S14.pkl\n",
      "/kaggle/input/wesad-wearable-stress-affect-detection-dataset/WESAD/S11/S11.pkl\n",
      "/kaggle/input/wesad-wearable-stress-affect-detection-dataset/WESAD/S13/S13.pkl\n",
      "/kaggle/input/wesad-wearable-stress-affect-detection-dataset/WESAD/S10/S10.pkl\n",
      "/kaggle/input/wesad-wearable-stress-affect-detection-dataset/WESAD/S8/S8.pkl\n",
      "/kaggle/input/wesad-wearable-stress-affect-detection-dataset/WESAD/S5/S5.pkl\n",
      "/kaggle/input/wesad-wearable-stress-affect-detection-dataset/WESAD/S7/S7.pkl\n",
      "/kaggle/input/wesad-wearable-stress-affect-detection-dataset/WESAD/S9/S9.pkl\n",
      "/kaggle/input/wesad-wearable-stress-affect-detection-dataset/WESAD/S15/S15.pkl\n",
      "/kaggle/input/wesad-wearable-stress-affect-detection-dataset/WESAD/S2/S2.pkl\n",
      "/kaggle/input/wesad-wearable-stress-affect-detection-dataset/WESAD/S6/S6.pkl\n",
      "/kaggle/input/wesad-wearable-stress-affect-detection-dataset/WESAD/S3/S3.pkl\n",
      "/kaggle/input/wesad-wearable-stress-affect-detection-dataset/WESAD/S4/S4.pkl\n",
      "/kaggle/input/wesad-wearable-stress-affect-detection-dataset/WESAD/S16/S16.pkl\n",
      "/kaggle/input/wesad-wearable-stress-affect-detection-dataset/WESAD/S17/S17.pkl\n"
     ]
    }
   ],
   "source": [
    "# This Python 3 environment comes with many helpful analytics libraries installed\n",
    "# It is defined by the kaggle/python Docker image: https://github.com/kaggle/docker-python\n",
    "# For example, here's several helpful packages to load\n",
    "\n",
    "import numpy as np # linear algebra\n",
    "import pandas as pd # data processing, CSV file I/O (e.g. pd.read_csv)\n",
    "\n",
    "# Input data files are available in the read-only \"../input/\" directory\n",
    "# For example, running this (by clicking run or pressing Shift+Enter) will list all files under the input directory\n",
    "\n",
    "import os\n",
    "for dirname, _, filenames in os.walk('/kaggle/input'):\n",
    "    for filename in filenames:\n",
    "        if \".pkl\" in filename:\n",
    "            print(os.path.join(dirname, filename))\n",
    "\n",
    "# You can write up to 20GB to the current directory (/kaggle/working/) that gets preserved as output when you create a version using \"Save & Run All\" \n",
    "# You can also write temporary files to /kaggle/temp/, but they won't be saved outside of the current session"
   ]
  },
  {
   "cell_type": "code",
   "execution_count": 2,
   "id": "c567bb10",
   "metadata": {
    "execution": {
     "iopub.execute_input": "2025-09-18T13:22:07.421317Z",
     "iopub.status.busy": "2025-09-18T13:22:07.420889Z",
     "iopub.status.idle": "2025-09-18T13:22:20.085812Z",
     "shell.execute_reply": "2025-09-18T13:22:20.084729Z"
    },
    "papermill": {
     "duration": 12.674999,
     "end_time": "2025-09-18T13:22:20.087366",
     "exception": false,
     "start_time": "2025-09-18T13:22:07.412367",
     "status": "completed"
    },
    "tags": []
   },
   "outputs": [
    {
     "name": "stdout",
     "output_type": "stream",
     "text": [
      "<class 'dict'>\n",
      "dict_keys(['signal', 'label', 'subject'])\n"
     ]
    }
   ],
   "source": [
    "# /kaggle/input/wesad-wearable-stress-affect-detection-dataset/WESAD/S14/S14.pkl\n",
    "import pandas as pd\n",
    "\n",
    "# Pfad zur Datei\n",
    "file_path = '/kaggle/input/wesad-wearable-stress-affect-detection-dataset/WESAD/S14/S14.pkl'\n",
    "\n",
    "# Einlesen der Pickle-Datei\n",
    "with open(file_path, 'rb') as file:\n",
    "    data = pd.read_pickle(file)\n",
    "\n",
    "# Anzeigen der Struktur (z. B. Keys, falls es ein Dictionary ist)\n",
    "print(type(data))\n",
    "print(data.keys())\n"
   ]
  },
  {
   "cell_type": "code",
   "execution_count": 3,
   "id": "99abe096",
   "metadata": {
    "execution": {
     "iopub.execute_input": "2025-09-18T13:22:20.107250Z",
     "iopub.status.busy": "2025-09-18T13:22:20.106928Z",
     "iopub.status.idle": "2025-09-18T13:22:20.711416Z",
     "shell.execute_reply": "2025-09-18T13:22:20.710271Z"
    },
    "papermill": {
     "duration": 0.616886,
     "end_time": "2025-09-18T13:22:20.712916",
     "exception": false,
     "start_time": "2025-09-18T13:22:20.096030",
     "status": "completed"
    },
    "tags": []
   },
   "outputs": [
    {
     "name": "stdout",
     "output_type": "stream",
     "text": [
      "dict_keys(['chest', 'wrist'])\n",
      "Label 0: 1648499 Einträge – Keine Annotation / Übergang\n",
      "Label 1: 826000 Einträge – Baseline (Ruhe)\n",
      "Label 2: 472500 Einträge – Stressphase (z. B. Rechenaufgabe)\n",
      "Label 3: 260401 Einträge – Amusement (z. B. lustiges Video)\n",
      "Label 4: 555800 Einträge – Entspannung / Meditation (optional)\n",
      "Label 5: 44100 Einträge – Fragebogen / Pause (optional)\n",
      "Label 6: 38500 Einträge – Vorbereitung / Setup (optional)\n",
      "Label 7: 37800 Einträge – Technischer Übergang / unbekannt (optional)\n",
      "S14\n"
     ]
    }
   ],
   "source": [
    "import numpy as np\n",
    "import collections\n",
    "\n",
    "# Sensorsignale und Labels extrahieren\n",
    "signals = data['signal']  # dict mit 'eda', 'ecg', etc.\n",
    "labels = data['label']    # NumPy-Array (z. B. [1 1 1 2 2 2 ...])\n",
    "\n",
    "print(signals.keys())\n",
    "# Beispiel: EDA-Signal\n",
    "\n",
    "\n",
    "# Filter: nur Zeilen mit label == 2\n",
    "#type(data[labels == 2])\n",
    "#cells_with_stress = data[labels == 2]\n",
    "#type(cells_with_stress)\n",
    "# Sortieren: z. B. nach EDA-Werten (aufsteigend)\n",
    "#cells_with_stress_sorted = np.sort(cells_with_stress, axis=0)\n",
    "\n",
    "#print(\"EDA-Signale mit Label=2, sortiert:\\n\", cells_with_stress_sorted)\n",
    "\n",
    "import collections\n",
    "\n",
    "# Häufigkeiten zählen\n",
    "label_counts = dict(collections.Counter(labels))\n",
    "\n",
    "# Label-Bedeutungen laut WESAD (inkl. erweiterter Interpretation)\n",
    "label_meanings = {\n",
    "    0: \"Keine Annotation / Übergang\",\n",
    "    1: \"Baseline (Ruhe)\",\n",
    "    2: \"Stressphase (z. B. Rechenaufgabe)\",\n",
    "    3: \"Amusement (z. B. lustiges Video)\",\n",
    "    4: \"Entspannung / Meditation (optional)\",\n",
    "    5: \"Fragebogen / Pause (optional)\",\n",
    "    6: \"Vorbereitung / Setup (optional)\",\n",
    "    7: \"Technischer Übergang / unbekannt (optional)\"\n",
    "}\n",
    "\n",
    "# Übersicht ausgeben\n",
    "for label, count in sorted(label_counts.items()):\n",
    "    meaning = label_meanings.get(label, \"Unbekannt\")\n",
    "    print(f\"Label {label}: {count} Einträge – {meaning}\")\n",
    "\n",
    "print(data['subject'])"
   ]
  },
  {
   "cell_type": "code",
   "execution_count": 4,
   "id": "5ddf04df",
   "metadata": {
    "execution": {
     "iopub.execute_input": "2025-09-18T13:22:20.730715Z",
     "iopub.status.busy": "2025-09-18T13:22:20.730376Z",
     "iopub.status.idle": "2025-09-18T13:22:20.739991Z",
     "shell.execute_reply": "2025-09-18T13:22:20.738834Z"
    },
    "papermill": {
     "duration": 0.020067,
     "end_time": "2025-09-18T13:22:20.741824",
     "exception": false,
     "start_time": "2025-09-18T13:22:20.721757",
     "status": "completed"
    },
    "tags": []
   },
   "outputs": [
    {
     "data": {
      "text/plain": [
       "{'ACC': array([[ -23.,   31.,  127.],\n",
       "        [-128.,  -31.,   62.],\n",
       "        [ -54.,  -58.,   26.],\n",
       "        ...,\n",
       "        [ -47.,  -45.,    6.],\n",
       "        [ -47.,  -44.,    8.],\n",
       "        [ -47.,  -45.,    8.]]),\n",
       " 'BVP': array([[  -8.27],\n",
       "        [  -9.52],\n",
       "        [ -10.68],\n",
       "        ...,\n",
       "        [-123.97],\n",
       "        [-160.08],\n",
       "        [-195.94]]),\n",
       " 'EDA': array([[0.277864],\n",
       "        [0.266351],\n",
       "        [0.195992],\n",
       "        ...,\n",
       "        [0.080859],\n",
       "        [0.060391],\n",
       "        [0.175257]]),\n",
       " 'TEMP': array([[31.97],\n",
       "        [31.97],\n",
       "        [31.97],\n",
       "        ...,\n",
       "        [31.21],\n",
       "        [31.21],\n",
       "        [31.21]])}"
      ]
     },
     "execution_count": 4,
     "metadata": {},
     "output_type": "execute_result"
    }
   ],
   "source": [
    "data['signal']['wrist']"
   ]
  },
  {
   "cell_type": "markdown",
   "id": "8183c798",
   "metadata": {
    "papermill": {
     "duration": 0.007672,
     "end_time": "2025-09-18T13:22:20.757383",
     "exception": false,
     "start_time": "2025-09-18T13:22:20.749711",
     "status": "completed"
    },
    "tags": []
   },
   "source": [
    "## Daten sortieren wo nur Stress = 2 ist"
   ]
  },
  {
   "cell_type": "markdown",
   "id": "f335546d",
   "metadata": {
    "papermill": {
     "duration": 0.007253,
     "end_time": "2025-09-18T13:22:20.772245",
     "exception": false,
     "start_time": "2025-09-18T13:22:20.764992",
     "status": "completed"
    },
    "tags": []
   },
   "source": [
    "Es sind viel zu wenige Daten für Stress. Oben sind es nich 470 Tsd unten nur noch 2700?!"
   ]
  },
  {
   "cell_type": "code",
   "execution_count": 5,
   "id": "f10b4afd",
   "metadata": {
    "execution": {
     "iopub.execute_input": "2025-09-18T13:22:20.788721Z",
     "iopub.status.busy": "2025-09-18T13:22:20.788442Z",
     "iopub.status.idle": "2025-09-18T13:22:22.898642Z",
     "shell.execute_reply": "2025-09-18T13:22:22.897684Z"
    },
    "papermill": {
     "duration": 2.120479,
     "end_time": "2025-09-18T13:22:22.900216",
     "exception": false,
     "start_time": "2025-09-18T13:22:20.779737",
     "status": "completed"
    },
    "tags": []
   },
   "outputs": [
    {
     "name": "stdout",
     "output_type": "stream",
     "text": [
      "Label length: 3883600 | EDA length: 22192\n",
      "           EDA  Label\n",
      "0     0.339268      2\n",
      "1     0.337989      2\n",
      "2     0.336710      2\n",
      "3     0.337989      2\n",
      "4     0.337989      2\n",
      "...        ...    ...\n",
      "2697  0.336710      2\n",
      "2698  0.335430      2\n",
      "2699  0.316242      2\n",
      "2700  0.314962      2\n",
      "2701  0.286819      2\n",
      "\n",
      "[2702 rows x 2 columns]\n"
     ]
    }
   ],
   "source": [
    "from scipy.signal import resample\n",
    "\n",
    "\n",
    "labels = data['label']  # Länge z. B. 3883600\n",
    "eda = data['signal']['wrist']['EDA']  # Länge z. B. 22192\n",
    "\n",
    "print(f\"Label length: {len(labels)} | EDA length: {len(eda)}\")\n",
    "\n",
    "# Labels auf die Länge der EDA-Daten bringen\n",
    "labels_resampled = resample(labels.astype(float), len(eda))\n",
    "labels_resampled = np.round(labels_resampled).astype(int)\n",
    "\n",
    "# Maske anwenden\n",
    "mask = labels_resampled == 2\n",
    "eda_label2 = eda[mask]\n",
    "\n",
    "# In DataFrame\n",
    "df_eda_label2 = pd.DataFrame({\n",
    "    'EDA': eda_label2[:, 0],\n",
    "    'Label': [2] * len(eda_label2)\n",
    "})\n",
    "\n",
    "print(df_eda_label2)\n"
   ]
  },
  {
   "cell_type": "markdown",
   "id": "90eb60fc",
   "metadata": {
    "papermill": {
     "duration": 0.007433,
     "end_time": "2025-09-18T13:22:22.915827",
     "exception": false,
     "start_time": "2025-09-18T13:22:22.908394",
     "status": "completed"
    },
    "tags": []
   },
   "source": [
    "### Baseline"
   ]
  },
  {
   "cell_type": "code",
   "execution_count": 6,
   "id": "48d32e5c",
   "metadata": {
    "execution": {
     "iopub.execute_input": "2025-09-18T13:22:22.932976Z",
     "iopub.status.busy": "2025-09-18T13:22:22.932366Z",
     "iopub.status.idle": "2025-09-18T13:22:23.196802Z",
     "shell.execute_reply": "2025-09-18T13:22:23.195798Z"
    },
    "papermill": {
     "duration": 0.274716,
     "end_time": "2025-09-18T13:22:23.198265",
     "exception": false,
     "start_time": "2025-09-18T13:22:22.923549",
     "status": "completed"
    },
    "tags": []
   },
   "outputs": [
    {
     "name": "stdout",
     "output_type": "stream",
     "text": [
      "Label length: 3883600 | EDA length: 22192\n",
      "           EDA  Label\n",
      "0     0.303449      1\n",
      "1     0.295773      1\n",
      "2     0.291936      1\n",
      "3     0.293215      1\n",
      "4     0.285539      1\n",
      "...        ...    ...\n",
      "4721  0.339268      1\n",
      "4722  0.335430      1\n",
      "4723  0.321359      1\n",
      "4724  0.313683      1\n",
      "4725  0.321359      1\n",
      "\n",
      "[4726 rows x 2 columns]\n"
     ]
    }
   ],
   "source": [
    "from scipy.signal import resample\n",
    "\n",
    "\n",
    "labels = data['label']  # Länge z. B. 3883600\n",
    "eda = data['signal']['wrist']['EDA']  # Länge z. B. 22192\n",
    "\n",
    "print(f\"Label length: {len(labels)} | EDA length: {len(eda)}\")\n",
    "\n",
    "# Labels auf die Länge der EDA-Daten bringen\n",
    "labels_resampled = resample(labels.astype(float), len(eda))\n",
    "labels_resampled = np.round(labels_resampled).astype(int)\n",
    "\n",
    "# Maske anwenden\n",
    "mask = labels_resampled == 1\n",
    "eda_label2 = eda[mask]\n",
    "\n",
    "# In DataFrame\n",
    "df_eda_label2 = pd.DataFrame({\n",
    "    'EDA': eda_label2[:, 0],\n",
    "    'Label': [1] * len(eda_label2)\n",
    "})\n",
    "\n",
    "print(df_eda_label2)\n"
   ]
  },
  {
   "cell_type": "markdown",
   "id": "7860d475",
   "metadata": {
    "execution": {
     "iopub.execute_input": "2025-07-31T08:55:46.550112Z",
     "iopub.status.busy": "2025-07-31T08:55:46.549763Z",
     "iopub.status.idle": "2025-07-31T08:55:46.554196Z",
     "shell.execute_reply": "2025-07-31T08:55:46.553293Z",
     "shell.execute_reply.started": "2025-07-31T08:55:46.550085Z"
    },
    "papermill": {
     "duration": 0.007797,
     "end_time": "2025-09-18T13:22:23.214047",
     "exception": false,
     "start_time": "2025-09-18T13:22:23.206250",
     "status": "completed"
    },
    "tags": []
   },
   "source": [
    "### Amusement"
   ]
  },
  {
   "cell_type": "markdown",
   "id": "010b3091",
   "metadata": {
    "papermill": {
     "duration": 0.007632,
     "end_time": "2025-09-18T13:22:23.229810",
     "exception": false,
     "start_time": "2025-09-18T13:22:23.222178",
     "status": "completed"
    },
    "tags": []
   },
   "source": []
  },
  {
   "cell_type": "code",
   "execution_count": 7,
   "id": "31e60c3d",
   "metadata": {
    "execution": {
     "iopub.execute_input": "2025-09-18T13:22:23.246779Z",
     "iopub.status.busy": "2025-09-18T13:22:23.246046Z",
     "iopub.status.idle": "2025-09-18T13:22:23.516518Z",
     "shell.execute_reply": "2025-09-18T13:22:23.515357Z"
    },
    "papermill": {
     "duration": 0.280534,
     "end_time": "2025-09-18T13:22:23.517994",
     "exception": false,
     "start_time": "2025-09-18T13:22:23.237460",
     "status": "completed"
    },
    "tags": []
   },
   "outputs": [
    {
     "name": "stdout",
     "output_type": "stream",
     "text": [
      "Label length: 3883600 | EDA length: 22192\n",
      "           EDA  Label\n",
      "0     0.303449      3\n",
      "1     0.314962      3\n",
      "2     0.316242      3\n",
      "3     0.317521      3\n",
      "4     0.316242      3\n",
      "...        ...    ...\n",
      "1484  0.313683      3\n",
      "1485  0.313683      3\n",
      "1486  0.312404      3\n",
      "1487  0.307287      3\n",
      "1488  0.306008      3\n",
      "\n",
      "[1489 rows x 2 columns]\n"
     ]
    }
   ],
   "source": [
    "from scipy.signal import resample\n",
    "\n",
    "\n",
    "labels = data['label']  # Länge z. B. 3883600\n",
    "eda = data['signal']['wrist']['EDA']  # Länge z. B. 22192\n",
    "\n",
    "print(f\"Label length: {len(labels)} | EDA length: {len(eda)}\")\n",
    "\n",
    "# Labels auf die Länge der EDA-Daten bringen\n",
    "labels_resampled = resample(labels.astype(float), len(eda))\n",
    "labels_resampled = np.round(labels_resampled).astype(int)\n",
    "\n",
    "# Maske anwenden\n",
    "mask = labels_resampled == 3\n",
    "eda_label2 = eda[mask]\n",
    "\n",
    "# In DataFrame\n",
    "df_eda_label2 = pd.DataFrame({\n",
    "    'EDA': eda_label2[:, 0],\n",
    "    'Label': [3] * len(eda_label2)\n",
    "})\n",
    "\n",
    "print(df_eda_label2)\n"
   ]
  },
  {
   "cell_type": "code",
   "execution_count": null,
   "id": "0d242113",
   "metadata": {
    "papermill": {
     "duration": 0.009474,
     "end_time": "2025-09-18T13:22:23.535875",
     "exception": false,
     "start_time": "2025-09-18T13:22:23.526401",
     "status": "completed"
    },
    "tags": []
   },
   "outputs": [],
   "source": []
  },
  {
   "cell_type": "markdown",
   "id": "8c1e5fae",
   "metadata": {
    "papermill": {
     "duration": 0.008458,
     "end_time": "2025-09-18T13:22:23.552368",
     "exception": false,
     "start_time": "2025-09-18T13:22:23.543910",
     "status": "completed"
    },
    "tags": []
   },
   "source": [
    "# Random Forest"
   ]
  },
  {
   "cell_type": "code",
   "execution_count": 8,
   "id": "1ccbc3fb",
   "metadata": {
    "execution": {
     "iopub.execute_input": "2025-09-18T13:22:23.571048Z",
     "iopub.status.busy": "2025-09-18T13:22:23.570728Z",
     "iopub.status.idle": "2025-09-18T13:25:27.468070Z",
     "shell.execute_reply": "2025-09-18T13:25:27.466608Z"
    },
    "papermill": {
     "duration": 183.923309,
     "end_time": "2025-09-18T13:25:27.483739",
     "exception": false,
     "start_time": "2025-09-18T13:22:23.560430",
     "status": "completed"
    },
    "tags": []
   },
   "outputs": [
    {
     "name": "stdout",
     "output_type": "stream",
     "text": [
      "Datensätze: (227, 10), Klassenverteilung: [  0 149  78]\n"
     ]
    }
   ],
   "source": [
    "import pandas as pd\n",
    "import numpy as np\n",
    "from scipy.signal import resample\n",
    "from sklearn.ensemble import RandomForestClassifier\n",
    "from sklearn.model_selection import train_test_split\n",
    "from sklearn.metrics import classification_report\n",
    "\n",
    "# Pfad zur Datei\n",
    "file_path = ['/kaggle/input/wesad-wearable-stress-affect-detection-dataset/WESAD/S14/S14.pkl',\n",
    "             '/kaggle/input/wesad-wearable-stress-affect-detection-dataset/WESAD/S13/S13.pkl',\n",
    "            '/kaggle/input/wesad-wearable-stress-affect-detection-dataset/WESAD/S10/S10.pkl',\n",
    "            '/kaggle/input/wesad-wearable-stress-affect-detection-dataset/WESAD/S5/S5.pkl',\n",
    "            '/kaggle/input/wesad-wearable-stress-affect-detection-dataset/WESAD/S7/S7.pkl',\n",
    "            '/kaggle/input/wesad-wearable-stress-affect-detection-dataset/WESAD/S9/S9.pkl',\n",
    "            '/kaggle/input/wesad-wearable-stress-affect-detection-dataset/WESAD/S15/S15.pkl',\n",
    "            '/kaggle/input/wesad-wearable-stress-affect-detection-dataset/WESAD/S2/S2.pkl',\n",
    "            '/kaggle/input/wesad-wearable-stress-affect-detection-dataset/WESAD/S6/S6.pkl',\n",
    "            '/kaggle/input/wesad-wearable-stress-affect-detection-dataset/WESAD/S3/S3.pkl',\n",
    "            '/kaggle/input/wesad-wearable-stress-affect-detection-dataset/WESAD/S4/S4.pkl',\n",
    "            '/kaggle/input/wesad-wearable-stress-affect-detection-dataset/WESAD/S16/S16.pkl',\n",
    "            '/kaggle/input/wesad-wearable-stress-affect-detection-dataset/WESAD/S17/S17.pkl'\n",
    "            ]\n",
    "\n",
    "features = []\n",
    "window_labels = []\n",
    "\n",
    "for file in file_path:\n",
    "# Laden\n",
    "    with open(file, 'rb') as f:\n",
    "        data = pd.read_pickle(f)\n",
    "    \n",
    "    # Zugriff auf Wrist-Daten\n",
    "    wrist = data['signal']['wrist']\n",
    "    eda = wrist['EDA']      # shape (n_samples, 1)\n",
    "    temp = wrist['TEMP']    # shape (n_samples, 1)\n",
    "    acc = wrist['ACC']      # shape (n_samples, 3)\n",
    "    \n",
    "    # Label (ursprünglich 700 Hz, z. B. 3.8 Mio lang)\n",
    "    labels = data['label']\n",
    "    \n",
    "    # Resampling der Labels auf Länge von EDA (64 Hz)\n",
    "    labels_resampled = resample(labels.astype(float), len(eda))\n",
    "    labels_resampled = np.round(labels_resampled).astype(int)\n",
    "    \n",
    "    # Features kombinieren (z. B. EDA, TEMP, ACC)\n",
    "    from scipy.signal import resample\n",
    "    \n",
    "    # Resample ACC auf Länge von EDA (z. B. 22192 Zeilen)\n",
    "    acc_resampled = resample(acc, len(eda))\n",
    "    \n",
    "    X_raw = np.hstack([eda, temp, acc_resampled])  # shape: (n_samples, 6)\n",
    "\n",
    "    X_raw\n",
    "    \n",
    "    # Sliding Window-Feature-Bildung (z. B. 60s bei 64 Hz = 384 Samples)\n",
    "    window_size = 384  # 60s Fenster\n",
    "    step_size = 384    # ohne Überschneidung\n",
    "\n",
    "    \n",
    "    for start in range(0, len(X_raw) - window_size, step_size):\n",
    "        end = start + window_size\n",
    "        window = X_raw[start:end]\n",
    "        label_window = labels_resampled[start:end]\n",
    "        \n",
    "        # Nur Fenster mit sinnvollen Labels behalten (z. B. 1 = Ruhe, 2 = Stress)\n",
    "        if np.all(np.isin(label_window, [1, 2])):\n",
    "            # Feature-Vektor: Mittelwert + Std jeder Sensor-Spalte\n",
    "            feature_vector = np.concatenate([window.mean(axis=0), window.std(axis=0)])\n",
    "            features.append(feature_vector)\n",
    "            \n",
    "            # Mehrheits-Label als Klassenlabel\n",
    "            majority_label = np.bincount(label_window).argmax()\n",
    "            window_labels.append(majority_label)\n",
    "\n",
    "# In Arrays umwandeln\n",
    "X = np.array(features)\n",
    "y = np.array(window_labels)\n",
    "\n",
    "print(f\"Datensätze: {X.shape}, Klassenverteilung: {np.bincount(y)}\")\n",
    "\n",
    "\n"
   ]
  },
  {
   "cell_type": "code",
   "execution_count": 9,
   "id": "c7399b6e",
   "metadata": {
    "execution": {
     "iopub.execute_input": "2025-09-18T13:25:27.503197Z",
     "iopub.status.busy": "2025-09-18T13:25:27.502810Z",
     "iopub.status.idle": "2025-09-18T13:25:27.510303Z",
     "shell.execute_reply": "2025-09-18T13:25:27.509380Z"
    },
    "papermill": {
     "duration": 0.019125,
     "end_time": "2025-09-18T13:25:27.511805",
     "exception": false,
     "start_time": "2025-09-18T13:25:27.492680",
     "status": "completed"
    },
    "tags": []
   },
   "outputs": [
    {
     "data": {
      "text/plain": [
       "array([  1.968359  ,  33.34      , -49.9914787 , -38.16717886,\n",
       "         5.37479379])"
      ]
     },
     "execution_count": 9,
     "metadata": {},
     "output_type": "execute_result"
    }
   ],
   "source": [
    "X_raw[8]"
   ]
  },
  {
   "cell_type": "markdown",
   "id": "5d39a588",
   "metadata": {
    "papermill": {
     "duration": 0.00791,
     "end_time": "2025-09-18T13:25:27.641062",
     "exception": false,
     "start_time": "2025-09-18T13:25:27.633152",
     "status": "completed"
    },
    "tags": []
   },
   "source": [
    "## Daten der S8 ziehen und einsetzen!"
   ]
  },
  {
   "cell_type": "code",
   "execution_count": 10,
   "id": "e263cc41",
   "metadata": {
    "execution": {
     "iopub.execute_input": "2025-09-18T13:25:27.658526Z",
     "iopub.status.busy": "2025-09-18T13:25:27.658189Z",
     "iopub.status.idle": "2025-09-18T13:25:41.168992Z",
     "shell.execute_reply": "2025-09-18T13:25:41.167907Z"
    },
    "papermill": {
     "duration": 13.521833,
     "end_time": "2025-09-18T13:25:41.170818",
     "exception": false,
     "start_time": "2025-09-18T13:25:27.648985",
     "status": "completed"
    },
    "tags": []
   },
   "outputs": [
    {
     "name": "stdout",
     "output_type": "stream",
     "text": [
      "Datensätze: (17, 10), Klassenverteilung: [ 0 11  6]\n"
     ]
    }
   ],
   "source": [
    "import pandas as pd\n",
    "import numpy as np\n",
    "from scipy.signal import resample\n",
    "from sklearn.ensemble import RandomForestClassifier\n",
    "from sklearn.model_selection import train_test_split\n",
    "from sklearn.metrics import classification_report\n",
    "\n",
    "# 📁 Pfad zur Datei (S12)\n",
    "file_path_S12 = '/kaggle/input/wesad-wearable-stress-affect-detection-dataset/WESAD/S8/S8.pkl'\n",
    "\n",
    "# 🔄 Daten laden\n",
    "with open(file_path_S12, 'rb') as f:\n",
    "    data_S12 = pd.read_pickle(f)\n",
    "\n",
    "# 📦 Zugriff auf Wrist-Signale\n",
    "wrist_S12 = data_S12['signal']['wrist']\n",
    "eda_S12 = wrist_S12['EDA']\n",
    "temp_S12 = wrist_S12['TEMP']\n",
    "acc_S12 = wrist_S12['ACC']\n",
    "\n",
    "# 🏷️ Labels (ursprünglich 700 Hz)\n",
    "labels_S12 = data_S12['label']\n",
    "\n",
    "# 🔁 Resampling der Labels auf EDA-Länge (64 Hz)\n",
    "labels_resampled_S12 = resample(labels_S12.astype(float), len(eda_S12))\n",
    "labels_resampled_S12 = np.round(labels_resampled_S12).astype(int)\n",
    "\n",
    "# 🔁 Resample ACC auf EDA-Länge\n",
    "acc_resampled_S12 = resample(acc_S12, len(eda_S12))\n",
    "\n",
    "# 🧩 Features kombinieren: EDA, TEMP, ACC → (n_samples, 6)\n",
    "X_raw_S12 = np.hstack([eda_S12, temp_S12, acc_resampled_S12])\n",
    "\n",
    "# 🪟 Sliding-Window Parameter\n",
    "window_size_S12 = 384  # 60s Fenster\n",
    "step_size_S12 = 384\n",
    "\n",
    "features_S12 = []\n",
    "window_labels_S12 = []\n",
    "\n",
    "# 🚶 Sliding-Window-Verarbeitung\n",
    "for start in range(0, len(X_raw_S12) - window_size_S12, step_size_S12):\n",
    "    end = start + window_size_S12\n",
    "    window_S12 = X_raw_S12[start:end]\n",
    "    label_window_S12 = np.round(labels_resampled_S12[start:end]).astype(int)\n",
    "\n",
    "    unique_labels_S12 = np.unique(label_window_S12)\n",
    "    \n",
    "    # ✅ Nur Fenster mit ausschließlich Label 1 oder 2\n",
    "    if set(unique_labels_S12).issubset({1, 2}):\n",
    "        majority_label_S12 = np.bincount(label_window_S12).argmax()\n",
    "        feature_vector_S12 = np.concatenate([window_S12.mean(axis=0), window_S12.std(axis=0)])\n",
    "        features_S12.append(feature_vector_S12)\n",
    "        window_labels_S12.append(majority_label_S12)\n",
    "\n",
    "# 🎯 Nur Label 1 & 2 verwenden\n",
    "mask_S12 = (np.array(window_labels_S12) == 1) | (np.array(window_labels_S12) == 2)\n",
    "X_S12 = np.array(features_S12)[mask_S12]\n",
    "y_S12 = np.array(window_labels_S12)[mask_S12]\n",
    "\n",
    "# ✅ Sicherheits-Check\n",
    "assert len(X_S12) == len(y_S12), \"Unterschiedliche Anzahl von Features und Labels!\"\n",
    "\n",
    "# ℹ️ Ergebnis anzeigen\n",
    "print(f\"Datensätze: {X_S12.shape}, Klassenverteilung: {np.bincount(y_S12)}\")\n"
   ]
  },
  {
   "cell_type": "code",
   "execution_count": 11,
   "id": "13172b14",
   "metadata": {
    "execution": {
     "iopub.execute_input": "2025-09-18T13:25:41.189967Z",
     "iopub.status.busy": "2025-09-18T13:25:41.189210Z",
     "iopub.status.idle": "2025-09-18T13:25:41.443022Z",
     "shell.execute_reply": "2025-09-18T13:25:41.441963Z"
    },
    "papermill": {
     "duration": 0.265028,
     "end_time": "2025-09-18T13:25:41.444510",
     "exception": false,
     "start_time": "2025-09-18T13:25:41.179482",
     "status": "completed"
    },
    "tags": []
   },
   "outputs": [
    {
     "name": "stdout",
     "output_type": "stream",
     "text": [
      "TEST nach Laden [1 1 1 1 1]\n",
      "              precision    recall  f1-score   support\n",
      "\n",
      "           1      0.733     1.000     0.846        11\n",
      "           2      1.000     0.333     0.500         6\n",
      "\n",
      "    accuracy                          0.765        17\n",
      "   macro avg      0.867     0.667     0.673        17\n",
      "weighted avg      0.827     0.765     0.724        17\n",
      "\n"
     ]
    }
   ],
   "source": [
    "# Modell trainieren auf kombinierten Trainingsdaten\n",
    "clf = RandomForestClassifier(n_estimators=100, random_state=42)\n",
    "clf.fit(X, y)\n",
    "\n",
    "import joblib  # für Speichern/Laden\n",
    "\n",
    "# ✅ Speichern\n",
    "joblib.dump(clf, \"/kaggle/working/random_forest_model.pkl\")\n",
    "\n",
    "# ⬇️ Laden\n",
    "rf_loaded = joblib.load(\"/kaggle/working/random_forest_model.pkl\")\n",
    "\n",
    "# Testen ob es klappt\n",
    "print(\"TEST nach Laden\", rf_loaded.predict(X_S12[:5]))\n",
    "\n",
    "# Test auf Subject S12\n",
    "y_pred = clf.predict(X_S12)\n",
    "print(classification_report(y_S12, y_pred, digits=3))\n",
    "\n"
   ]
  },
  {
   "cell_type": "code",
   "execution_count": 12,
   "id": "749debe5",
   "metadata": {
    "execution": {
     "iopub.execute_input": "2025-09-18T13:25:41.462450Z",
     "iopub.status.busy": "2025-09-18T13:25:41.462099Z",
     "iopub.status.idle": "2025-09-18T13:25:41.467081Z",
     "shell.execute_reply": "2025-09-18T13:25:41.466149Z"
    },
    "papermill": {
     "duration": 0.015615,
     "end_time": "2025-09-18T13:25:41.468607",
     "exception": false,
     "start_time": "2025-09-18T13:25:41.452992",
     "status": "completed"
    },
    "tags": []
   },
   "outputs": [
    {
     "name": "stdout",
     "output_type": "stream",
     "text": [
      "(17, 10) (17,)\n",
      "(227, 10) (227,)\n"
     ]
    }
   ],
   "source": [
    "print(X_S12.shape, y_S12.shape)\n",
    "print(X.shape, y.shape)\n"
   ]
  },
  {
   "cell_type": "markdown",
   "id": "988bf29c",
   "metadata": {
    "papermill": {
     "duration": 0.008319,
     "end_time": "2025-09-18T13:25:41.485534",
     "exception": false,
     "start_time": "2025-09-18T13:25:41.477215",
     "status": "completed"
    },
    "tags": []
   },
   "source": [
    "## Alternative zu Random Forest testen\n",
    "\n",
    "## XGBoost"
   ]
  },
  {
   "cell_type": "code",
   "execution_count": 13,
   "id": "186859ef",
   "metadata": {
    "execution": {
     "iopub.execute_input": "2025-09-18T13:25:41.504141Z",
     "iopub.status.busy": "2025-09-18T13:25:41.503296Z",
     "iopub.status.idle": "2025-09-18T13:25:46.732359Z",
     "shell.execute_reply": "2025-09-18T13:25:46.731044Z"
    },
    "papermill": {
     "duration": 5.240963,
     "end_time": "2025-09-18T13:25:46.734838",
     "exception": false,
     "start_time": "2025-09-18T13:25:41.493875",
     "status": "completed"
    },
    "tags": []
   },
   "outputs": [],
   "source": [
    "!pip install xgboost --quiet\n"
   ]
  },
  {
   "cell_type": "code",
   "execution_count": 14,
   "id": "978180e0",
   "metadata": {
    "execution": {
     "iopub.execute_input": "2025-09-18T13:25:46.753921Z",
     "iopub.status.busy": "2025-09-18T13:25:46.753591Z",
     "iopub.status.idle": "2025-09-18T13:25:47.303922Z",
     "shell.execute_reply": "2025-09-18T13:25:47.302976Z"
    },
    "papermill": {
     "duration": 0.562366,
     "end_time": "2025-09-18T13:25:47.305614",
     "exception": false,
     "start_time": "2025-09-18T13:25:46.743248",
     "status": "completed"
    },
    "tags": []
   },
   "outputs": [
    {
     "name": "stdout",
     "output_type": "stream",
     "text": [
      "              precision    recall  f1-score   support\n",
      "\n",
      "           0      0.909     0.909     0.909        11\n",
      "           1      0.833     0.833     0.833         6\n",
      "\n",
      "    accuracy                          0.882        17\n",
      "   macro avg      0.871     0.871     0.871        17\n",
      "weighted avg      0.882     0.882     0.882        17\n",
      "\n"
     ]
    }
   ],
   "source": [
    "import xgboost as xgb\n",
    "from sklearn.metrics import classification_report\n",
    "import xgboost as xgb\n",
    "from sklearn.metrics import classification_report\n",
    "import numpy as np\n",
    "\n",
    "# ✅ Filter: Nur Labels 1 (entspannt) & 2 (gestresst)\n",
    "mask_train = (y == 1) | (y == 2)\n",
    "mask_test = (y_S12 == 1) | (y_S12 == 2)\n",
    "\n",
    "X_train_filtered = X[mask_train]\n",
    "y_train_filtered = y[mask_train]\n",
    "\n",
    "X_test_filtered = X_S12[mask_test]\n",
    "y_test_filtered = y_S12[mask_test]\n",
    "\n",
    "\n",
    "# Optional: Konvertiere in DMatrix (XGBoost-eigenes Format) – ist aber nicht zwingend\n",
    "# dtrain = xgb.DMatrix(X, label=y)\n",
    "# dtest = xgb.DMatrix(X_S12, label=y_S12)\n",
    "\n",
    "# Mapping: 1 → 0 (Entspannt), 2 → 1 (Stress)\n",
    "y_train_remap = (y_train_filtered - 1).astype(int)\n",
    "y_test_remap = (y_test_filtered - 1).astype(int)\n",
    "\n",
    "\n",
    "xgb_clf = xgb.XGBClassifier(\n",
    "    objective='binary:logistic',  # da nur 2 Klassen nach dem Mapping\n",
    "    n_estimators=200,\n",
    "    max_depth=5,\n",
    "    learning_rate=0.27,\n",
    "    subsample=0.8,\n",
    "    colsample_bytree=0.8,\n",
    "    use_label_encoder=False,\n",
    "    eval_metric='logloss',\n",
    "    random_state=42\n",
    ")\n",
    "\n",
    "xgb_clf.fit(X_train_filtered, y_train_remap)\n",
    "y_pred = xgb_clf.predict(X_test_filtered)\n",
    "\n",
    "# Evaluation wieder mit Original-Labels:\n",
    "from sklearn.metrics import classification_report\n",
    "print(classification_report(y_test_remap, y_pred, digits=3))\n"
   ]
  },
  {
   "cell_type": "markdown",
   "id": "795b07d6",
   "metadata": {
    "papermill": {
     "duration": 0.008271,
     "end_time": "2025-09-18T13:25:47.322571",
     "exception": false,
     "start_time": "2025-09-18T13:25:47.314300",
     "status": "completed"
    },
    "tags": []
   },
   "source": [
    "-> Gutes Ergebnis:\n",
    "Alle Personen außer S8; sonst alle drin:\n",
    "\n",
    "              precision    recall  f1-score   support\n",
    "\n",
    "           0      0.909     0.909     0.909        11\n",
    "           1      0.833     0.833     0.833         6\n",
    "\n",
    "    accuracy                          0.882        17\n",
    "   macro avg      0.871     0.871     0.871        17\n",
    "weighted avg      0.882     0.882     0.882        17\n",
    "\n",
    "-> 5/6 Stressfälle erkannt. \n",
    "Lernrate manuell angepasst -> Automatisiert noch besser.\n",
    "\n",
    "-> Interpretation: XGBoost besser als Random Forest, da Gradiant Boosting: Fehler aus vorherigen Bäumen finden + sich verbessern.\n",
    "\n",
    "Es kann auch komplexere Zusammenhänge modellieren, wo Random Forest eher Mittelwerte bildet.\n",
    "\n",
    "Boosting ist oft besser für kleine, saubere Zeitfenster-Daten als vorher.\n",
    "\n",
    "Settings:\n",
    "xgb_clf = xgb.XGBClassifier(\n",
    "    objective='binary:logistic',  # da nur 2 Klassen nach dem Mapping\n",
    "    n_estimators=200,\n",
    "    max_depth=5,\n",
    "    learning_rate=0.27,\n",
    "    subsample=0.8,\n",
    "    colsample_bytree=0.8,\n",
    "    use_label_encoder=False,\n",
    "    eval_metric='logloss',\n",
    "    random_state=42\n",
    ")\n",
    "\n",
    "\n",
    "\n"
   ]
  },
  {
   "cell_type": "markdown",
   "id": "354ff379",
   "metadata": {
    "papermill": {
     "duration": 0.008215,
     "end_time": "2025-09-18T13:25:47.339076",
     "exception": false,
     "start_time": "2025-09-18T13:25:47.330861",
     "status": "completed"
    },
    "tags": []
   },
   "source": [
    "## Modell speichern"
   ]
  },
  {
   "cell_type": "code",
   "execution_count": 15,
   "id": "ca08acf2",
   "metadata": {
    "execution": {
     "iopub.execute_input": "2025-09-18T13:25:47.357730Z",
     "iopub.status.busy": "2025-09-18T13:25:47.357396Z",
     "iopub.status.idle": "2025-09-18T13:25:47.367880Z",
     "shell.execute_reply": "2025-09-18T13:25:47.366744Z"
    },
    "papermill": {
     "duration": 0.021972,
     "end_time": "2025-09-18T13:25:47.369482",
     "exception": false,
     "start_time": "2025-09-18T13:25:47.347510",
     "status": "completed"
    },
    "tags": []
   },
   "outputs": [
    {
     "data": {
      "text/plain": [
       "['/kaggle/working/xgb_stress_model.pkl']"
      ]
     },
     "execution_count": 15,
     "metadata": {},
     "output_type": "execute_result"
    }
   ],
   "source": [
    "import joblib\n",
    "\n",
    "# Modell speichern\n",
    "joblib.dump(xgb_clf, \"/kaggle/working/xgb_stress_model.pkl\")"
   ]
  },
  {
   "cell_type": "markdown",
   "id": "579034d6",
   "metadata": {
    "papermill": {
     "duration": 0.010292,
     "end_time": "2025-09-18T13:25:47.388541",
     "exception": false,
     "start_time": "2025-09-18T13:25:47.378249",
     "status": "completed"
    },
    "tags": []
   },
   "source": [
    "## SVM (\"Support Vector Maschines\")\n"
   ]
  },
  {
   "cell_type": "code",
   "execution_count": 16,
   "id": "532f65b2",
   "metadata": {
    "execution": {
     "iopub.execute_input": "2025-09-18T13:25:47.407433Z",
     "iopub.status.busy": "2025-09-18T13:25:47.407088Z",
     "iopub.status.idle": "2025-09-18T13:25:47.610833Z",
     "shell.execute_reply": "2025-09-18T13:25:47.609750Z"
    },
    "papermill": {
     "duration": 0.215186,
     "end_time": "2025-09-18T13:25:47.612588",
     "exception": false,
     "start_time": "2025-09-18T13:25:47.397402",
     "status": "completed"
    },
    "tags": []
   },
   "outputs": [
    {
     "name": "stdout",
     "output_type": "stream",
     "text": [
      "Beste Parameter: {'C': 10, 'gamma': 0.1, 'kernel': 'rbf'}\n",
      "\n",
      "              precision    recall  f1-score   support\n",
      "\n",
      "           0      0.400     0.182     0.250        11\n",
      "           1      0.250     0.500     0.333         6\n",
      "\n",
      "    accuracy                          0.294        17\n",
      "   macro avg      0.325     0.341     0.292        17\n",
      "weighted avg      0.347     0.294     0.279        17\n",
      "\n"
     ]
    }
   ],
   "source": [
    "from sklearn.svm import SVC\n",
    "from sklearn.preprocessing import StandardScaler\n",
    "from sklearn.metrics import classification_report\n",
    "import numpy as np\n",
    "\n",
    "# 🔄 Nur Labels 1 und 2 (wie bei XGBoost)\n",
    "mask_train = (y == 1) | (y == 2)\n",
    "mask_test = (y_S12 == 1) | (y_S12 == 2)\n",
    "\n",
    "X_train_filtered = X[mask_train]\n",
    "y_train_filtered = y[mask_train]\n",
    "X_test_filtered = X_S12[mask_test]\n",
    "y_test_filtered = y_S12[mask_test]\n",
    "\n",
    "# 🔄 Labels ummappen: 1 → 0, 2 → 1\n",
    "y_train_remap = (y_train_filtered - 1).astype(int)\n",
    "y_test_remap = (y_test_filtered - 1).astype(int)\n",
    "\n",
    "# 🔄 Features skalieren (wichtig für SVM!)\n",
    "scaler = StandardScaler()\n",
    "X_train_scaled = scaler.fit_transform(X_train_filtered)\n",
    "X_test_scaled = scaler.transform(X_test_filtered)\n",
    "\n",
    "from sklearn.model_selection import GridSearchCV\n",
    "\n",
    "param_grid = {\n",
    "    'C': [0.1, 1, 10],\n",
    "    'gamma': [0.01, 0.1, 1, 'scale', 'auto'],\n",
    "    'kernel': ['rbf']\n",
    "}\n",
    "\n",
    "grid = GridSearchCV(SVC(), param_grid, cv=3, scoring='f1')\n",
    "grid.fit(X_train_scaled, y_train_remap)\n",
    "\n",
    "print(\"Beste Parameter:\", grid.best_params_)\n",
    "print(\"\")\n",
    "\n",
    "# ✅ SVM mit RBF-Kernel\n",
    "svm_clf = SVC(kernel='rbf', C=10, gamma=0.1, random_state=42)\n",
    "svm_clf.fit(X_train_scaled, y_train_remap)\n",
    "\n",
    "# 🧪 Vorhersage & Bewertung\n",
    "y_pred = svm_clf.predict(X_test_scaled)\n",
    "print(classification_report(y_test_remap, y_pred, digits=3))\n"
   ]
  },
  {
   "cell_type": "code",
   "execution_count": 17,
   "id": "e50315cd",
   "metadata": {
    "execution": {
     "iopub.execute_input": "2025-09-18T13:25:47.631950Z",
     "iopub.status.busy": "2025-09-18T13:25:47.631650Z",
     "iopub.status.idle": "2025-09-18T13:25:47.639241Z",
     "shell.execute_reply": "2025-09-18T13:25:47.638401Z"
    },
    "papermill": {
     "duration": 0.018782,
     "end_time": "2025-09-18T13:25:47.640759",
     "exception": false,
     "start_time": "2025-09-18T13:25:47.621977",
     "status": "completed"
    },
    "tags": []
   },
   "outputs": [
    {
     "data": {
      "text/plain": [
       "['/kaggle/working/svm_clf_stress_model.pkl']"
      ]
     },
     "execution_count": 17,
     "metadata": {},
     "output_type": "execute_result"
    }
   ],
   "source": [
    "# Modell speichern\n",
    "import joblib\n",
    "\n",
    "# Modell speichern\n",
    "joblib.dump(svm_clf, \"/kaggle/working/svm_clf_stress_model.pkl\")"
   ]
  },
  {
   "cell_type": "markdown",
   "id": "89a8ab34",
   "metadata": {
    "execution": {
     "iopub.execute_input": "2025-08-06T21:05:11.086668Z",
     "iopub.status.busy": "2025-08-06T21:05:11.086295Z",
     "iopub.status.idle": "2025-08-06T21:05:11.091091Z",
     "shell.execute_reply": "2025-08-06T21:05:11.090108Z",
     "shell.execute_reply.started": "2025-08-06T21:05:11.086644Z"
    },
    "papermill": {
     "duration": 0.008525,
     "end_time": "2025-09-18T13:25:47.658191",
     "exception": false,
     "start_time": "2025-09-18T13:25:47.649666",
     "status": "completed"
    },
    "tags": []
   },
   "source": [
    "## CNN "
   ]
  },
  {
   "cell_type": "code",
   "execution_count": 18,
   "id": "61225c29",
   "metadata": {
    "execution": {
     "iopub.execute_input": "2025-09-18T13:25:47.677166Z",
     "iopub.status.busy": "2025-09-18T13:25:47.676222Z",
     "iopub.status.idle": "2025-09-18T13:27:50.939381Z",
     "shell.execute_reply": "2025-09-18T13:27:50.938303Z"
    },
    "papermill": {
     "duration": 123.283314,
     "end_time": "2025-09-18T13:27:50.949963",
     "exception": false,
     "start_time": "2025-09-18T13:25:47.666649",
     "status": "completed"
    },
    "tags": []
   },
   "outputs": [
    {
     "name": "stdout",
     "output_type": "stream",
     "text": [
      "Datensätze: (227, 384, 5), Klassenverteilung: [149  78]\n"
     ]
    }
   ],
   "source": [
    "import pandas as pd\n",
    "import numpy as np\n",
    "from scipy.signal import resample\n",
    "from sklearn.model_selection import train_test_split\n",
    "from sklearn.metrics import classification_report\n",
    "\n",
    "file_paths = [\n",
    "    '/kaggle/input/wesad-wearable-stress-affect-detection-dataset/WESAD/S14/S14.pkl',\n",
    "    '/kaggle/input/wesad-wearable-stress-affect-detection-dataset/WESAD/S13/S13.pkl',\n",
    "    '/kaggle/input/wesad-wearable-stress-affect-detection-dataset/WESAD/S10/S10.pkl',\n",
    "    '/kaggle/input/wesad-wearable-stress-affect-detection-dataset/WESAD/S5/S5.pkl',\n",
    "    '/kaggle/input/wesad-wearable-stress-affect-detection-dataset/WESAD/S7/S7.pkl',\n",
    "    '/kaggle/input/wesad-wearable-stress-affect-detection-dataset/WESAD/S9/S9.pkl',\n",
    "    '/kaggle/input/wesad-wearable-stress-affect-detection-dataset/WESAD/S15/S15.pkl',\n",
    "    '/kaggle/input/wesad-wearable-stress-affect-detection-dataset/WESAD/S2/S2.pkl',\n",
    "    '/kaggle/input/wesad-wearable-stress-affect-detection-dataset/WESAD/S6/S6.pkl',\n",
    "    '/kaggle/input/wesad-wearable-stress-affect-detection-dataset/WESAD/S3/S3.pkl',\n",
    "    '/kaggle/input/wesad-wearable-stress-affect-detection-dataset/WESAD/S4/S4.pkl',\n",
    "    '/kaggle/input/wesad-wearable-stress-affect-detection-dataset/WESAD/S16/S16.pkl',\n",
    "    '/kaggle/input/wesad-wearable-stress-affect-detection-dataset/WESAD/S17/S17.pkl'\n",
    "]\n",
    "\n",
    "X_all_list = []\n",
    "y_all_list = []\n",
    "\n",
    "for file in file_paths:\n",
    "    with open(file, 'rb') as f:\n",
    "        data = pd.read_pickle(f)\n",
    "\n",
    "    wrist = data['signal']['wrist']\n",
    "    eda = wrist['EDA']\n",
    "    temp = wrist['TEMP']\n",
    "    acc = wrist['ACC']\n",
    "    labels = data['label']\n",
    "\n",
    "    # Resample Labels auf EDA-Länge\n",
    "    labels_resampled = resample(labels.astype(float), len(eda))\n",
    "    labels_resampled = np.round(labels_resampled).astype(int)\n",
    "\n",
    "    # ACC resamplen und alle Kanäle kombinieren\n",
    "    acc_resampled = resample(acc, len(eda))\n",
    "    X_raw = np.hstack([eda, temp, acc_resampled])  # shape: (n_samples, 5)\n",
    "\n",
    "    # Sliding Window\n",
    "    window_size = 384\n",
    "    step_size = 384\n",
    "\n",
    "    for start in range(0, len(X_raw) - window_size, step_size):\n",
    "        end = start + window_size\n",
    "        window = X_raw[start:end]\n",
    "        label_window = labels_resampled[start:end]\n",
    "\n",
    "        if set(np.unique(label_window)).issubset({1, 2}):\n",
    "            X_all_list.append(window)\n",
    "            majority_label = np.bincount(label_window).argmax()\n",
    "            y_all_list.append(majority_label)\n",
    "\n",
    "# In Arrays umwandeln\n",
    "X_all = np.array(X_all_list)                   # shape: (n_windows_total, 384, 5)\n",
    "y_all = (np.array(y_all_list) - 1).astype(int) # [1,2] → [0,1]\n",
    "\n",
    "print(f\"Datensätze: {X_all.shape}, Klassenverteilung: {np.bincount(y_all)}\")\n"
   ]
  },
  {
   "cell_type": "code",
   "execution_count": 19,
   "id": "aa7d6a5c",
   "metadata": {
    "execution": {
     "iopub.execute_input": "2025-09-18T13:27:50.971592Z",
     "iopub.status.busy": "2025-09-18T13:27:50.970882Z",
     "iopub.status.idle": "2025-09-18T13:27:51.036706Z",
     "shell.execute_reply": "2025-09-18T13:27:51.035816Z"
    },
    "papermill": {
     "duration": 0.078593,
     "end_time": "2025-09-18T13:27:51.038475",
     "exception": false,
     "start_time": "2025-09-18T13:27:50.959882",
     "status": "completed"
    },
    "tags": []
   },
   "outputs": [
    {
     "data": {
      "text/plain": [
       "array([[[ 9.22620000e-01,  3.35900000e+01,  5.57359754e+01,\n",
       "         -1.16405106e+01, -2.36790809e+01],\n",
       "        [ 9.02153000e-01,  3.35900000e+01,  5.90941376e+01,\n",
       "         -1.22361185e+01, -2.86766943e+01],\n",
       "        [ 8.98316000e-01,  3.35700000e+01,  5.96143522e+01,\n",
       "         -1.19007638e+01,  1.51951757e+00],\n",
       "        ...,\n",
       "        [ 1.00192900e+00,  3.33400000e+01,  6.20531689e+01,\n",
       "         -1.09214411e+01, -4.47238530e+00],\n",
       "        [ 1.00320800e+00,  3.33400000e+01,  6.21427682e+01,\n",
       "         -1.10735819e+01, -4.67169647e+00],\n",
       "        [ 1.00832500e+00,  3.33400000e+01,  6.18994900e+01,\n",
       "         -1.09335418e+01, -5.03437713e+00]],\n",
       "\n",
       "       [[ 8.87166600e+00,  3.47900000e+01,  2.00651808e+01,\n",
       "          5.46417869e+00,  6.02469766e+01],\n",
       "        [ 8.83968400e+00,  3.47900000e+01,  1.97015015e+01,\n",
       "          4.49243741e+00,  5.91979346e+01],\n",
       "        [ 8.81793800e+00,  3.47900000e+01,  2.02628546e+01,\n",
       "          5.03709956e+00,  5.94010583e+01],\n",
       "        ...,\n",
       "        [ 8.11995000e+00,  3.47100000e+01,  2.34782764e+01,\n",
       "         -3.29924238e+01,  4.52260419e+01],\n",
       "        [ 8.13785900e+00,  3.47300000e+01,  2.58948585e+01,\n",
       "         -3.33220260e+01,  4.77184515e+01],\n",
       "        [ 8.16856100e+00,  3.47300000e+01,  2.38215170e+01,\n",
       "         -3.32984940e+01,  4.59217465e+01]],\n",
       "\n",
       "       [[ 4.88425000e-01,  3.31800000e+01, -5.20746863e+01,\n",
       "         -8.85291751e-02,  3.77203938e+01],\n",
       "        [ 4.88425000e-01,  3.31800000e+01, -5.21544979e+01,\n",
       "         -8.23773835e-04,  3.77102109e+01],\n",
       "        [ 4.88425000e-01,  3.31800000e+01, -5.19777800e+01,\n",
       "          1.51160398e-02,  3.76703291e+01],\n",
       "        ...,\n",
       "        [ 4.06424000e-01,  3.31300000e+01, -4.24991397e+01,\n",
       "         -1.67216609e+00,  4.78970420e+01],\n",
       "        [ 4.05143000e-01,  3.31300000e+01, -4.20388852e+01,\n",
       "         -1.90983512e+00,  4.76983921e+01],\n",
       "        [ 4.06424000e-01,  3.31300000e+01, -4.24396938e+01,\n",
       "         -1.79943419e+00,  4.79169449e+01]],\n",
       "\n",
       "       ...,\n",
       "\n",
       "       [[ 7.50370000e+00,  3.46800000e+01,  3.19955080e+01,\n",
       "         -1.04174056e+01,  5.04844697e+01],\n",
       "        [ 7.51265500e+00,  3.46800000e+01,  4.58986760e+01,\n",
       "         -1.02169331e+01,  3.83837209e+01],\n",
       "        [ 7.53184400e+00,  3.46800000e+01,  6.49761849e+01,\n",
       "         -1.43533795e+01, -8.33806552e+00],\n",
       "        ...,\n",
       "        [ 6.73215000e+00,  3.47500000e+01,  1.95814878e+01,\n",
       "         -3.72249865e+01,  4.63176327e+01],\n",
       "        [ 6.72831200e+00,  3.47700000e+01,  2.24206649e+01,\n",
       "         -3.74960204e+01,  4.34288643e+01],\n",
       "        [ 6.74110500e+00,  3.47700000e+01,  2.83296832e+01,\n",
       "         -3.97592339e+01,  3.99955513e+01]],\n",
       "\n",
       "       [[ 1.14008000e+00,  3.29700000e+01,  5.99493307e+01,\n",
       "         -8.95378576e+00,  1.70198936e+01],\n",
       "        [ 1.13240500e+00,  3.29700000e+01,  6.00507629e+01,\n",
       "         -9.04582865e+00,  1.67373527e+01],\n",
       "        [ 1.13496300e+00,  3.29300000e+01,  5.99491086e+01,\n",
       "         -8.95458455e+00,  1.68190425e+01],\n",
       "        ...,\n",
       "        [ 1.16054700e+00,  3.29300000e+01,  6.00164615e+01,\n",
       "         -1.00236127e+01,  1.59194787e+01],\n",
       "        [ 1.16822200e+00,  3.29500000e+01,  5.99830590e+01,\n",
       "         -1.00399240e+01,  1.60765814e+01],\n",
       "        [ 1.17078000e+00,  3.29500000e+01,  6.00172963e+01,\n",
       "         -1.01389164e+01,  1.59416382e+01]],\n",
       "\n",
       "       [[ 2.04256400e+00,  3.11100000e+01,  5.58061276e+01,\n",
       "         -2.18247102e+01,  1.92503371e+01],\n",
       "        [ 2.08094600e+00,  3.11100000e+01,  5.42594343e+01,\n",
       "         -2.34593531e+01,  1.72933455e+01],\n",
       "        [ 2.10653400e+00,  3.11100000e+01,  5.61058994e+01,\n",
       "         -2.18419882e+01,  1.81915491e+01],\n",
       "        ...,\n",
       "        [ 2.32403300e+00,  3.10700000e+01,  4.02012843e+01,\n",
       "         -4.59164229e+01,  1.28266936e+01],\n",
       "        [ 2.31763600e+00,  3.10700000e+01,  4.03951186e+01,\n",
       "         -4.57506256e+01,  1.45642682e+01],\n",
       "        [ 2.30996000e+00,  3.10700000e+01,  4.00121548e+01,\n",
       "         -4.54984746e+01,  1.47620719e+01]]])"
      ]
     },
     "execution_count": 19,
     "metadata": {},
     "output_type": "execute_result"
    }
   ],
   "source": [
    "y_cnn = (y_all - 1).astype(int)  # [1, 2] → [0, 1]\n",
    "X_train, X_test, y_train, y_test = train_test_split(\n",
    "    X_all, y_all, test_size=0.2, stratify=y_cnn, random_state=42\n",
    ")\n",
    "X_train"
   ]
  },
  {
   "cell_type": "code",
   "execution_count": 20,
   "id": "82b48948",
   "metadata": {
    "execution": {
     "iopub.execute_input": "2025-09-18T13:27:51.058597Z",
     "iopub.status.busy": "2025-09-18T13:27:51.058259Z",
     "iopub.status.idle": "2025-09-18T13:28:09.710877Z",
     "shell.execute_reply": "2025-09-18T13:28:09.709967Z"
    },
    "papermill": {
     "duration": 18.664529,
     "end_time": "2025-09-18T13:28:09.712554",
     "exception": false,
     "start_time": "2025-09-18T13:27:51.048025",
     "status": "completed"
    },
    "tags": []
   },
   "outputs": [
    {
     "name": "stderr",
     "output_type": "stream",
     "text": [
      "2025-09-18 13:27:53.335786: E external/local_xla/xla/stream_executor/cuda/cuda_fft.cc:477] Unable to register cuFFT factory: Attempting to register factory for plugin cuFFT when one has already been registered\n",
      "WARNING: All log messages before absl::InitializeLog() is called are written to STDERR\n",
      "E0000 00:00:1758202073.610503      13 cuda_dnn.cc:8310] Unable to register cuDNN factory: Attempting to register factory for plugin cuDNN when one has already been registered\n",
      "E0000 00:00:1758202073.685361      13 cuda_blas.cc:1418] Unable to register cuBLAS factory: Attempting to register factory for plugin cuBLAS when one has already been registered\n",
      "/usr/local/lib/python3.11/dist-packages/keras/src/layers/convolutional/base_conv.py:107: UserWarning: Do not pass an `input_shape`/`input_dim` argument to a layer. When using Sequential models, prefer using an `Input(shape)` object as the first layer in the model instead.\n",
      "  super().__init__(activity_regularizer=activity_regularizer, **kwargs)\n",
      "2025-09-18 13:28:09.577535: E external/local_xla/xla/stream_executor/cuda/cuda_driver.cc:152] failed call to cuInit: INTERNAL: CUDA error: Failed call to cuInit: UNKNOWN ERROR (303)\n"
     ]
    },
    {
     "data": {
      "text/html": [
       "<pre style=\"white-space:pre;overflow-x:auto;line-height:normal;font-family:Menlo,'DejaVu Sans Mono',consolas,'Courier New',monospace\"><span style=\"font-weight: bold\">Model: \"sequential\"</span>\n",
       "</pre>\n"
      ],
      "text/plain": [
       "\u001b[1mModel: \"sequential\"\u001b[0m\n"
      ]
     },
     "metadata": {},
     "output_type": "display_data"
    },
    {
     "data": {
      "text/html": [
       "<pre style=\"white-space:pre;overflow-x:auto;line-height:normal;font-family:Menlo,'DejaVu Sans Mono',consolas,'Courier New',monospace\">┏━━━━━━━━━━━━━━━━━━━━━━━━━━━━━━━━━┳━━━━━━━━━━━━━━━━━━━━━━━━┳━━━━━━━━━━━━━━━┓\n",
       "┃<span style=\"font-weight: bold\"> Layer (type)                    </span>┃<span style=\"font-weight: bold\"> Output Shape           </span>┃<span style=\"font-weight: bold\">       Param # </span>┃\n",
       "┡━━━━━━━━━━━━━━━━━━━━━━━━━━━━━━━━━╇━━━━━━━━━━━━━━━━━━━━━━━━╇━━━━━━━━━━━━━━━┩\n",
       "│ conv1d (<span style=\"color: #0087ff; text-decoration-color: #0087ff\">Conv1D</span>)                 │ (<span style=\"color: #00d7ff; text-decoration-color: #00d7ff\">None</span>, <span style=\"color: #00af00; text-decoration-color: #00af00\">380</span>, <span style=\"color: #00af00; text-decoration-color: #00af00\">32</span>)        │           <span style=\"color: #00af00; text-decoration-color: #00af00\">832</span> │\n",
       "├─────────────────────────────────┼────────────────────────┼───────────────┤\n",
       "│ max_pooling1d (<span style=\"color: #0087ff; text-decoration-color: #0087ff\">MaxPooling1D</span>)    │ (<span style=\"color: #00d7ff; text-decoration-color: #00d7ff\">None</span>, <span style=\"color: #00af00; text-decoration-color: #00af00\">190</span>, <span style=\"color: #00af00; text-decoration-color: #00af00\">32</span>)        │             <span style=\"color: #00af00; text-decoration-color: #00af00\">0</span> │\n",
       "├─────────────────────────────────┼────────────────────────┼───────────────┤\n",
       "│ conv1d_1 (<span style=\"color: #0087ff; text-decoration-color: #0087ff\">Conv1D</span>)               │ (<span style=\"color: #00d7ff; text-decoration-color: #00d7ff\">None</span>, <span style=\"color: #00af00; text-decoration-color: #00af00\">188</span>, <span style=\"color: #00af00; text-decoration-color: #00af00\">64</span>)        │         <span style=\"color: #00af00; text-decoration-color: #00af00\">6,208</span> │\n",
       "├─────────────────────────────────┼────────────────────────┼───────────────┤\n",
       "│ max_pooling1d_1 (<span style=\"color: #0087ff; text-decoration-color: #0087ff\">MaxPooling1D</span>)  │ (<span style=\"color: #00d7ff; text-decoration-color: #00d7ff\">None</span>, <span style=\"color: #00af00; text-decoration-color: #00af00\">94</span>, <span style=\"color: #00af00; text-decoration-color: #00af00\">64</span>)         │             <span style=\"color: #00af00; text-decoration-color: #00af00\">0</span> │\n",
       "├─────────────────────────────────┼────────────────────────┼───────────────┤\n",
       "│ flatten (<span style=\"color: #0087ff; text-decoration-color: #0087ff\">Flatten</span>)               │ (<span style=\"color: #00d7ff; text-decoration-color: #00d7ff\">None</span>, <span style=\"color: #00af00; text-decoration-color: #00af00\">6016</span>)           │             <span style=\"color: #00af00; text-decoration-color: #00af00\">0</span> │\n",
       "├─────────────────────────────────┼────────────────────────┼───────────────┤\n",
       "│ dense (<span style=\"color: #0087ff; text-decoration-color: #0087ff\">Dense</span>)                   │ (<span style=\"color: #00d7ff; text-decoration-color: #00d7ff\">None</span>, <span style=\"color: #00af00; text-decoration-color: #00af00\">64</span>)             │       <span style=\"color: #00af00; text-decoration-color: #00af00\">385,088</span> │\n",
       "├─────────────────────────────────┼────────────────────────┼───────────────┤\n",
       "│ dropout (<span style=\"color: #0087ff; text-decoration-color: #0087ff\">Dropout</span>)               │ (<span style=\"color: #00d7ff; text-decoration-color: #00d7ff\">None</span>, <span style=\"color: #00af00; text-decoration-color: #00af00\">64</span>)             │             <span style=\"color: #00af00; text-decoration-color: #00af00\">0</span> │\n",
       "├─────────────────────────────────┼────────────────────────┼───────────────┤\n",
       "│ dense_1 (<span style=\"color: #0087ff; text-decoration-color: #0087ff\">Dense</span>)                 │ (<span style=\"color: #00d7ff; text-decoration-color: #00d7ff\">None</span>, <span style=\"color: #00af00; text-decoration-color: #00af00\">1</span>)              │            <span style=\"color: #00af00; text-decoration-color: #00af00\">65</span> │\n",
       "└─────────────────────────────────┴────────────────────────┴───────────────┘\n",
       "</pre>\n"
      ],
      "text/plain": [
       "┏━━━━━━━━━━━━━━━━━━━━━━━━━━━━━━━━━┳━━━━━━━━━━━━━━━━━━━━━━━━┳━━━━━━━━━━━━━━━┓\n",
       "┃\u001b[1m \u001b[0m\u001b[1mLayer (type)                   \u001b[0m\u001b[1m \u001b[0m┃\u001b[1m \u001b[0m\u001b[1mOutput Shape          \u001b[0m\u001b[1m \u001b[0m┃\u001b[1m \u001b[0m\u001b[1m      Param #\u001b[0m\u001b[1m \u001b[0m┃\n",
       "┡━━━━━━━━━━━━━━━━━━━━━━━━━━━━━━━━━╇━━━━━━━━━━━━━━━━━━━━━━━━╇━━━━━━━━━━━━━━━┩\n",
       "│ conv1d (\u001b[38;5;33mConv1D\u001b[0m)                 │ (\u001b[38;5;45mNone\u001b[0m, \u001b[38;5;34m380\u001b[0m, \u001b[38;5;34m32\u001b[0m)        │           \u001b[38;5;34m832\u001b[0m │\n",
       "├─────────────────────────────────┼────────────────────────┼───────────────┤\n",
       "│ max_pooling1d (\u001b[38;5;33mMaxPooling1D\u001b[0m)    │ (\u001b[38;5;45mNone\u001b[0m, \u001b[38;5;34m190\u001b[0m, \u001b[38;5;34m32\u001b[0m)        │             \u001b[38;5;34m0\u001b[0m │\n",
       "├─────────────────────────────────┼────────────────────────┼───────────────┤\n",
       "│ conv1d_1 (\u001b[38;5;33mConv1D\u001b[0m)               │ (\u001b[38;5;45mNone\u001b[0m, \u001b[38;5;34m188\u001b[0m, \u001b[38;5;34m64\u001b[0m)        │         \u001b[38;5;34m6,208\u001b[0m │\n",
       "├─────────────────────────────────┼────────────────────────┼───────────────┤\n",
       "│ max_pooling1d_1 (\u001b[38;5;33mMaxPooling1D\u001b[0m)  │ (\u001b[38;5;45mNone\u001b[0m, \u001b[38;5;34m94\u001b[0m, \u001b[38;5;34m64\u001b[0m)         │             \u001b[38;5;34m0\u001b[0m │\n",
       "├─────────────────────────────────┼────────────────────────┼───────────────┤\n",
       "│ flatten (\u001b[38;5;33mFlatten\u001b[0m)               │ (\u001b[38;5;45mNone\u001b[0m, \u001b[38;5;34m6016\u001b[0m)           │             \u001b[38;5;34m0\u001b[0m │\n",
       "├─────────────────────────────────┼────────────────────────┼───────────────┤\n",
       "│ dense (\u001b[38;5;33mDense\u001b[0m)                   │ (\u001b[38;5;45mNone\u001b[0m, \u001b[38;5;34m64\u001b[0m)             │       \u001b[38;5;34m385,088\u001b[0m │\n",
       "├─────────────────────────────────┼────────────────────────┼───────────────┤\n",
       "│ dropout (\u001b[38;5;33mDropout\u001b[0m)               │ (\u001b[38;5;45mNone\u001b[0m, \u001b[38;5;34m64\u001b[0m)             │             \u001b[38;5;34m0\u001b[0m │\n",
       "├─────────────────────────────────┼────────────────────────┼───────────────┤\n",
       "│ dense_1 (\u001b[38;5;33mDense\u001b[0m)                 │ (\u001b[38;5;45mNone\u001b[0m, \u001b[38;5;34m1\u001b[0m)              │            \u001b[38;5;34m65\u001b[0m │\n",
       "└─────────────────────────────────┴────────────────────────┴───────────────┘\n"
      ]
     },
     "metadata": {},
     "output_type": "display_data"
    },
    {
     "data": {
      "text/html": [
       "<pre style=\"white-space:pre;overflow-x:auto;line-height:normal;font-family:Menlo,'DejaVu Sans Mono',consolas,'Courier New',monospace\"><span style=\"font-weight: bold\"> Total params: </span><span style=\"color: #00af00; text-decoration-color: #00af00\">392,193</span> (1.50 MB)\n",
       "</pre>\n"
      ],
      "text/plain": [
       "\u001b[1m Total params: \u001b[0m\u001b[38;5;34m392,193\u001b[0m (1.50 MB)\n"
      ]
     },
     "metadata": {},
     "output_type": "display_data"
    },
    {
     "data": {
      "text/html": [
       "<pre style=\"white-space:pre;overflow-x:auto;line-height:normal;font-family:Menlo,'DejaVu Sans Mono',consolas,'Courier New',monospace\"><span style=\"font-weight: bold\"> Trainable params: </span><span style=\"color: #00af00; text-decoration-color: #00af00\">392,193</span> (1.50 MB)\n",
       "</pre>\n"
      ],
      "text/plain": [
       "\u001b[1m Trainable params: \u001b[0m\u001b[38;5;34m392,193\u001b[0m (1.50 MB)\n"
      ]
     },
     "metadata": {},
     "output_type": "display_data"
    },
    {
     "data": {
      "text/html": [
       "<pre style=\"white-space:pre;overflow-x:auto;line-height:normal;font-family:Menlo,'DejaVu Sans Mono',consolas,'Courier New',monospace\"><span style=\"font-weight: bold\"> Non-trainable params: </span><span style=\"color: #00af00; text-decoration-color: #00af00\">0</span> (0.00 B)\n",
       "</pre>\n"
      ],
      "text/plain": [
       "\u001b[1m Non-trainable params: \u001b[0m\u001b[38;5;34m0\u001b[0m (0.00 B)\n"
      ]
     },
     "metadata": {},
     "output_type": "display_data"
    }
   ],
   "source": [
    "import tensorflow as tf\n",
    "from tensorflow.keras import layers, models\n",
    "\n",
    "model = models.Sequential([\n",
    "    layers.Conv1D(32, kernel_size=5, activation='relu', input_shape=(384, 5)),\n",
    "    layers.MaxPooling1D(pool_size=2),\n",
    "    layers.Conv1D(64, kernel_size=3, activation='relu'),\n",
    "    layers.MaxPooling1D(pool_size=2),\n",
    "    layers.Flatten(),\n",
    "    layers.Dense(64, activation='relu'),\n",
    "    layers.Dropout(0.3),\n",
    "    layers.Dense(1, activation='sigmoid')  # binary classification\n",
    "])\n",
    "\n",
    "model.compile(optimizer='adam', loss='binary_crossentropy', metrics=['accuracy'])\n",
    "model.summary()\n"
   ]
  },
  {
   "cell_type": "code",
   "execution_count": 21,
   "id": "8ba0f728",
   "metadata": {
    "execution": {
     "iopub.execute_input": "2025-09-18T13:28:09.734211Z",
     "iopub.status.busy": "2025-09-18T13:28:09.733623Z",
     "iopub.status.idle": "2025-09-18T13:28:21.052710Z",
     "shell.execute_reply": "2025-09-18T13:28:21.051678Z"
    },
    "papermill": {
     "duration": 11.331817,
     "end_time": "2025-09-18T13:28:21.054673",
     "exception": false,
     "start_time": "2025-09-18T13:28:09.722856",
     "status": "completed"
    },
    "tags": []
   },
   "outputs": [
    {
     "name": "stdout",
     "output_type": "stream",
     "text": [
      "Epoch 1/50\n",
      "\u001b[1m5/5\u001b[0m \u001b[32m━━━━━━━━━━━━━━━━━━━━\u001b[0m\u001b[37m\u001b[0m \u001b[1m3s\u001b[0m 120ms/step - accuracy: 0.6386 - loss: 11.6377 - val_accuracy: 0.5405 - val_loss: 4.5126\n",
      "Epoch 2/50\n",
      "\u001b[1m5/5\u001b[0m \u001b[32m━━━━━━━━━━━━━━━━━━━━\u001b[0m\u001b[37m\u001b[0m \u001b[1m0s\u001b[0m 32ms/step - accuracy: 0.5466 - loss: 4.5610 - val_accuracy: 0.5946 - val_loss: 2.1345\n",
      "Epoch 3/50\n",
      "\u001b[1m5/5\u001b[0m \u001b[32m━━━━━━━━━━━━━━━━━━━━\u001b[0m\u001b[37m\u001b[0m \u001b[1m0s\u001b[0m 31ms/step - accuracy: 0.7387 - loss: 1.9464 - val_accuracy: 0.8108 - val_loss: 0.7105\n",
      "Epoch 4/50\n",
      "\u001b[1m5/5\u001b[0m \u001b[32m━━━━━━━━━━━━━━━━━━━━\u001b[0m\u001b[37m\u001b[0m \u001b[1m0s\u001b[0m 31ms/step - accuracy: 0.8155 - loss: 0.5982 - val_accuracy: 0.7027 - val_loss: 1.1015\n",
      "Epoch 5/50\n",
      "\u001b[1m5/5\u001b[0m \u001b[32m━━━━━━━━━━━━━━━━━━━━\u001b[0m\u001b[37m\u001b[0m \u001b[1m0s\u001b[0m 30ms/step - accuracy: 0.8280 - loss: 0.4154 - val_accuracy: 0.8108 - val_loss: 0.5681\n",
      "Epoch 6/50\n",
      "\u001b[1m5/5\u001b[0m \u001b[32m━━━━━━━━━━━━━━━━━━━━\u001b[0m\u001b[37m\u001b[0m \u001b[1m0s\u001b[0m 29ms/step - accuracy: 0.8893 - loss: 0.2696 - val_accuracy: 0.8108 - val_loss: 0.5126\n",
      "Epoch 7/50\n",
      "\u001b[1m5/5\u001b[0m \u001b[32m━━━━━━━━━━━━━━━━━━━━\u001b[0m\u001b[37m\u001b[0m \u001b[1m0s\u001b[0m 29ms/step - accuracy: 0.8429 - loss: 0.3258 - val_accuracy: 0.7838 - val_loss: 0.6046\n",
      "Epoch 8/50\n",
      "\u001b[1m5/5\u001b[0m \u001b[32m━━━━━━━━━━━━━━━━━━━━\u001b[0m\u001b[37m\u001b[0m \u001b[1m0s\u001b[0m 30ms/step - accuracy: 0.8874 - loss: 0.2712 - val_accuracy: 0.8108 - val_loss: 0.6532\n",
      "Epoch 9/50\n",
      "\u001b[1m5/5\u001b[0m \u001b[32m━━━━━━━━━━━━━━━━━━━━\u001b[0m\u001b[37m\u001b[0m \u001b[1m0s\u001b[0m 30ms/step - accuracy: 0.8602 - loss: 0.2621 - val_accuracy: 0.7838 - val_loss: 0.6770\n",
      "Epoch 10/50\n",
      "\u001b[1m5/5\u001b[0m \u001b[32m━━━━━━━━━━━━━━━━━━━━\u001b[0m\u001b[37m\u001b[0m \u001b[1m0s\u001b[0m 30ms/step - accuracy: 0.9016 - loss: 0.2306 - val_accuracy: 0.7838 - val_loss: 0.7029\n",
      "Epoch 11/50\n",
      "\u001b[1m5/5\u001b[0m \u001b[32m━━━━━━━━━━━━━━━━━━━━\u001b[0m\u001b[37m\u001b[0m \u001b[1m0s\u001b[0m 29ms/step - accuracy: 0.8576 - loss: 0.2731 - val_accuracy: 0.7838 - val_loss: 0.7409\n",
      "Epoch 12/50\n",
      "\u001b[1m5/5\u001b[0m \u001b[32m━━━━━━━━━━━━━━━━━━━━\u001b[0m\u001b[37m\u001b[0m \u001b[1m0s\u001b[0m 29ms/step - accuracy: 0.9031 - loss: 0.1850 - val_accuracy: 0.8108 - val_loss: 0.7699\n",
      "Epoch 13/50\n",
      "\u001b[1m5/5\u001b[0m \u001b[32m━━━━━━━━━━━━━━━━━━━━\u001b[0m\u001b[37m\u001b[0m \u001b[1m0s\u001b[0m 30ms/step - accuracy: 0.9130 - loss: 0.1718 - val_accuracy: 0.8378 - val_loss: 0.7906\n",
      "Epoch 14/50\n",
      "\u001b[1m5/5\u001b[0m \u001b[32m━━━━━━━━━━━━━━━━━━━━\u001b[0m\u001b[37m\u001b[0m \u001b[1m0s\u001b[0m 30ms/step - accuracy: 0.9378 - loss: 0.1609 - val_accuracy: 0.8378 - val_loss: 0.8193\n",
      "Epoch 15/50\n",
      "\u001b[1m5/5\u001b[0m \u001b[32m━━━━━━━━━━━━━━━━━━━━\u001b[0m\u001b[37m\u001b[0m \u001b[1m0s\u001b[0m 30ms/step - accuracy: 0.9104 - loss: 0.1717 - val_accuracy: 0.8378 - val_loss: 0.8522\n",
      "Epoch 16/50\n",
      "\u001b[1m5/5\u001b[0m \u001b[32m━━━━━━━━━━━━━━━━━━━━\u001b[0m\u001b[37m\u001b[0m \u001b[1m0s\u001b[0m 30ms/step - accuracy: 0.9245 - loss: 0.1724 - val_accuracy: 0.8378 - val_loss: 0.8757\n",
      "Epoch 17/50\n",
      "\u001b[1m5/5\u001b[0m \u001b[32m━━━━━━━━━━━━━━━━━━━━\u001b[0m\u001b[37m\u001b[0m \u001b[1m0s\u001b[0m 29ms/step - accuracy: 0.8937 - loss: 0.1966 - val_accuracy: 0.8108 - val_loss: 0.8706\n",
      "Epoch 18/50\n",
      "\u001b[1m5/5\u001b[0m \u001b[32m━━━━━━━━━━━━━━━━━━━━\u001b[0m\u001b[37m\u001b[0m \u001b[1m0s\u001b[0m 30ms/step - accuracy: 0.9488 - loss: 0.1143 - val_accuracy: 0.8108 - val_loss: 0.8247\n",
      "Epoch 19/50\n",
      "\u001b[1m5/5\u001b[0m \u001b[32m━━━━━━━━━━━━━━━━━━━━\u001b[0m\u001b[37m\u001b[0m \u001b[1m0s\u001b[0m 30ms/step - accuracy: 0.8990 - loss: 0.1355 - val_accuracy: 0.8378 - val_loss: 0.8056\n",
      "Epoch 20/50\n",
      "\u001b[1m5/5\u001b[0m \u001b[32m━━━━━━━━━━━━━━━━━━━━\u001b[0m\u001b[37m\u001b[0m \u001b[1m0s\u001b[0m 31ms/step - accuracy: 0.9337 - loss: 0.1277 - val_accuracy: 0.8378 - val_loss: 0.7862\n",
      "Epoch 21/50\n",
      "\u001b[1m5/5\u001b[0m \u001b[32m━━━━━━━━━━━━━━━━━━━━\u001b[0m\u001b[37m\u001b[0m \u001b[1m0s\u001b[0m 30ms/step - accuracy: 0.9106 - loss: 0.1356 - val_accuracy: 0.8378 - val_loss: 0.7889\n",
      "Epoch 22/50\n",
      "\u001b[1m5/5\u001b[0m \u001b[32m━━━━━━━━━━━━━━━━━━━━\u001b[0m\u001b[37m\u001b[0m \u001b[1m0s\u001b[0m 29ms/step - accuracy: 0.9457 - loss: 0.1361 - val_accuracy: 0.8108 - val_loss: 0.8148\n",
      "Epoch 23/50\n",
      "\u001b[1m5/5\u001b[0m \u001b[32m━━━━━━━━━━━━━━━━━━━━\u001b[0m\u001b[37m\u001b[0m \u001b[1m0s\u001b[0m 30ms/step - accuracy: 0.9605 - loss: 0.1454 - val_accuracy: 0.8378 - val_loss: 0.8339\n",
      "Epoch 24/50\n",
      "\u001b[1m5/5\u001b[0m \u001b[32m━━━━━━━━━━━━━━━━━━━━\u001b[0m\u001b[37m\u001b[0m \u001b[1m0s\u001b[0m 29ms/step - accuracy: 0.9115 - loss: 0.1644 - val_accuracy: 0.8378 - val_loss: 0.8653\n",
      "Epoch 25/50\n",
      "\u001b[1m5/5\u001b[0m \u001b[32m━━━━━━━━━━━━━━━━━━━━\u001b[0m\u001b[37m\u001b[0m \u001b[1m0s\u001b[0m 30ms/step - accuracy: 0.8837 - loss: 0.1584 - val_accuracy: 0.8108 - val_loss: 0.8987\n",
      "Epoch 26/50\n",
      "\u001b[1m5/5\u001b[0m \u001b[32m━━━━━━━━━━━━━━━━━━━━\u001b[0m\u001b[37m\u001b[0m \u001b[1m0s\u001b[0m 29ms/step - accuracy: 0.9382 - loss: 0.1503 - val_accuracy: 0.8378 - val_loss: 0.9326\n",
      "Epoch 27/50\n",
      "\u001b[1m5/5\u001b[0m \u001b[32m━━━━━━━━━━━━━━━━━━━━\u001b[0m\u001b[37m\u001b[0m \u001b[1m0s\u001b[0m 30ms/step - accuracy: 0.9418 - loss: 0.1049 - val_accuracy: 0.8378 - val_loss: 1.1093\n",
      "Epoch 28/50\n",
      "\u001b[1m5/5\u001b[0m \u001b[32m━━━━━━━━━━━━━━━━━━━━\u001b[0m\u001b[37m\u001b[0m \u001b[1m0s\u001b[0m 30ms/step - accuracy: 0.9178 - loss: 0.1781 - val_accuracy: 0.8108 - val_loss: 1.0102\n",
      "Epoch 29/50\n",
      "\u001b[1m5/5\u001b[0m \u001b[32m━━━━━━━━━━━━━━━━━━━━\u001b[0m\u001b[37m\u001b[0m \u001b[1m0s\u001b[0m 31ms/step - accuracy: 0.9336 - loss: 0.1120 - val_accuracy: 0.8378 - val_loss: 0.9264\n",
      "Epoch 30/50\n",
      "\u001b[1m5/5\u001b[0m \u001b[32m━━━━━━━━━━━━━━━━━━━━\u001b[0m\u001b[37m\u001b[0m \u001b[1m0s\u001b[0m 29ms/step - accuracy: 0.9442 - loss: 0.1190 - val_accuracy: 0.8378 - val_loss: 0.9043\n",
      "Epoch 31/50\n",
      "\u001b[1m5/5\u001b[0m \u001b[32m━━━━━━━━━━━━━━━━━━━━\u001b[0m\u001b[37m\u001b[0m \u001b[1m0s\u001b[0m 31ms/step - accuracy: 0.9582 - loss: 0.1285 - val_accuracy: 0.8378 - val_loss: 0.8939\n",
      "Epoch 32/50\n",
      "\u001b[1m5/5\u001b[0m \u001b[32m━━━━━━━━━━━━━━━━━━━━\u001b[0m\u001b[37m\u001b[0m \u001b[1m0s\u001b[0m 30ms/step - accuracy: 0.9511 - loss: 0.0986 - val_accuracy: 0.8378 - val_loss: 0.9301\n",
      "Epoch 33/50\n",
      "\u001b[1m5/5\u001b[0m \u001b[32m━━━━━━━━━━━━━━━━━━━━\u001b[0m\u001b[37m\u001b[0m \u001b[1m0s\u001b[0m 30ms/step - accuracy: 0.9188 - loss: 0.1372 - val_accuracy: 0.8108 - val_loss: 0.9849\n",
      "Epoch 34/50\n",
      "\u001b[1m5/5\u001b[0m \u001b[32m━━━━━━━━━━━━━━━━━━━━\u001b[0m\u001b[37m\u001b[0m \u001b[1m0s\u001b[0m 31ms/step - accuracy: 0.9524 - loss: 0.1039 - val_accuracy: 0.8108 - val_loss: 1.0786\n",
      "Epoch 35/50\n",
      "\u001b[1m5/5\u001b[0m \u001b[32m━━━━━━━━━━━━━━━━━━━━\u001b[0m\u001b[37m\u001b[0m \u001b[1m0s\u001b[0m 30ms/step - accuracy: 0.9485 - loss: 0.1051 - val_accuracy: 0.8108 - val_loss: 1.1896\n",
      "Epoch 36/50\n",
      "\u001b[1m5/5\u001b[0m \u001b[32m━━━━━━━━━━━━━━━━━━━━\u001b[0m\u001b[37m\u001b[0m \u001b[1m0s\u001b[0m 30ms/step - accuracy: 0.9298 - loss: 0.1144 - val_accuracy: 0.8378 - val_loss: 1.2539\n",
      "Epoch 37/50\n",
      "\u001b[1m5/5\u001b[0m \u001b[32m━━━━━━━━━━━━━━━━━━━━\u001b[0m\u001b[37m\u001b[0m \u001b[1m0s\u001b[0m 30ms/step - accuracy: 0.9504 - loss: 0.0983 - val_accuracy: 0.8378 - val_loss: 1.0148\n",
      "Epoch 38/50\n",
      "\u001b[1m5/5\u001b[0m \u001b[32m━━━━━━━━━━━━━━━━━━━━\u001b[0m\u001b[37m\u001b[0m \u001b[1m0s\u001b[0m 30ms/step - accuracy: 0.9614 - loss: 0.1039 - val_accuracy: 0.8378 - val_loss: 0.9615\n",
      "Epoch 39/50\n",
      "\u001b[1m5/5\u001b[0m \u001b[32m━━━━━━━━━━━━━━━━━━━━\u001b[0m\u001b[37m\u001b[0m \u001b[1m0s\u001b[0m 31ms/step - accuracy: 0.9319 - loss: 0.0985 - val_accuracy: 0.8919 - val_loss: 0.9641\n",
      "Epoch 40/50\n",
      "\u001b[1m5/5\u001b[0m \u001b[32m━━━━━━━━━━━━━━━━━━━━\u001b[0m\u001b[37m\u001b[0m \u001b[1m0s\u001b[0m 31ms/step - accuracy: 0.9599 - loss: 0.0734 - val_accuracy: 0.8919 - val_loss: 0.9895\n",
      "Epoch 41/50\n",
      "\u001b[1m5/5\u001b[0m \u001b[32m━━━━━━━━━━━━━━━━━━━━\u001b[0m\u001b[37m\u001b[0m \u001b[1m0s\u001b[0m 30ms/step - accuracy: 0.9570 - loss: 0.0856 - val_accuracy: 0.8649 - val_loss: 1.0436\n",
      "Epoch 42/50\n",
      "\u001b[1m5/5\u001b[0m \u001b[32m━━━━━━━━━━━━━━━━━━━━\u001b[0m\u001b[37m\u001b[0m \u001b[1m0s\u001b[0m 30ms/step - accuracy: 0.9559 - loss: 0.0992 - val_accuracy: 0.8649 - val_loss: 1.1194\n",
      "Epoch 43/50\n",
      "\u001b[1m5/5\u001b[0m \u001b[32m━━━━━━━━━━━━━━━━━━━━\u001b[0m\u001b[37m\u001b[0m \u001b[1m0s\u001b[0m 31ms/step - accuracy: 0.9424 - loss: 0.1058 - val_accuracy: 0.8108 - val_loss: 1.2049\n",
      "Epoch 44/50\n",
      "\u001b[1m5/5\u001b[0m \u001b[32m━━━━━━━━━━━━━━━━━━━━\u001b[0m\u001b[37m\u001b[0m \u001b[1m0s\u001b[0m 31ms/step - accuracy: 0.9702 - loss: 0.0768 - val_accuracy: 0.8378 - val_loss: 1.1017\n",
      "Epoch 45/50\n",
      "\u001b[1m5/5\u001b[0m \u001b[32m━━━━━━━━━━━━━━━━━━━━\u001b[0m\u001b[37m\u001b[0m \u001b[1m0s\u001b[0m 29ms/step - accuracy: 0.9792 - loss: 0.0539 - val_accuracy: 0.8378 - val_loss: 1.1179\n",
      "Epoch 46/50\n",
      "\u001b[1m5/5\u001b[0m \u001b[32m━━━━━━━━━━━━━━━━━━━━\u001b[0m\u001b[37m\u001b[0m \u001b[1m0s\u001b[0m 30ms/step - accuracy: 0.9751 - loss: 0.0769 - val_accuracy: 0.8378 - val_loss: 1.0730\n",
      "Epoch 47/50\n",
      "\u001b[1m5/5\u001b[0m \u001b[32m━━━━━━━━━━━━━━━━━━━━\u001b[0m\u001b[37m\u001b[0m \u001b[1m0s\u001b[0m 31ms/step - accuracy: 0.9753 - loss: 0.0739 - val_accuracy: 0.8378 - val_loss: 1.0369\n",
      "Epoch 48/50\n",
      "\u001b[1m5/5\u001b[0m \u001b[32m━━━━━━━━━━━━━━━━━━━━\u001b[0m\u001b[37m\u001b[0m \u001b[1m0s\u001b[0m 31ms/step - accuracy: 0.9729 - loss: 0.0704 - val_accuracy: 0.8378 - val_loss: 1.0597\n",
      "Epoch 49/50\n",
      "\u001b[1m5/5\u001b[0m \u001b[32m━━━━━━━━━━━━━━━━━━━━\u001b[0m\u001b[37m\u001b[0m \u001b[1m0s\u001b[0m 29ms/step - accuracy: 0.9514 - loss: 0.0689 - val_accuracy: 0.8378 - val_loss: 1.0072\n",
      "Epoch 50/50\n",
      "\u001b[1m5/5\u001b[0m \u001b[32m━━━━━━━━━━━━━━━━━━━━\u001b[0m\u001b[37m\u001b[0m \u001b[1m0s\u001b[0m 30ms/step - accuracy: 0.9578 - loss: 0.0820 - val_accuracy: 0.8378 - val_loss: 1.0921\n"
     ]
    },
    {
     "data": {
      "text/plain": [
       "<keras.src.callbacks.history.History at 0x786fb9f904d0>"
      ]
     },
     "execution_count": 21,
     "metadata": {},
     "output_type": "execute_result"
    }
   ],
   "source": [
    "model.fit(X_train, y_train, epochs=50, batch_size=32, validation_split=0.2)\n"
   ]
  },
  {
   "cell_type": "code",
   "execution_count": 22,
   "id": "60b93fd5",
   "metadata": {
    "execution": {
     "iopub.execute_input": "2025-09-18T13:28:21.092538Z",
     "iopub.status.busy": "2025-09-18T13:28:21.092146Z",
     "iopub.status.idle": "2025-09-18T13:28:21.166770Z",
     "shell.execute_reply": "2025-09-18T13:28:21.165775Z"
    },
    "papermill": {
     "duration": 0.095002,
     "end_time": "2025-09-18T13:28:21.168564",
     "exception": false,
     "start_time": "2025-09-18T13:28:21.073562",
     "status": "completed"
    },
    "tags": []
   },
   "outputs": [],
   "source": [
    "model.save(\"/kaggle/working/cnn_model.keras\")\n"
   ]
  },
  {
   "cell_type": "code",
   "execution_count": 23,
   "id": "7e2c38ed",
   "metadata": {
    "execution": {
     "iopub.execute_input": "2025-09-18T13:28:21.206123Z",
     "iopub.status.busy": "2025-09-18T13:28:21.205814Z",
     "iopub.status.idle": "2025-09-18T13:28:21.579647Z",
     "shell.execute_reply": "2025-09-18T13:28:21.578317Z"
    },
    "papermill": {
     "duration": 0.395093,
     "end_time": "2025-09-18T13:28:21.581505",
     "exception": false,
     "start_time": "2025-09-18T13:28:21.186412",
     "status": "completed"
    },
    "tags": []
   },
   "outputs": [
    {
     "name": "stdout",
     "output_type": "stream",
     "text": [
      "\u001b[1m1/1\u001b[0m \u001b[32m━━━━━━━━━━━━━━━━━━━━\u001b[0m\u001b[37m\u001b[0m \u001b[1m0s\u001b[0m 137ms/step\n",
      "[[2.9994512e-10]\n",
      " [7.3111337e-01]\n",
      " [6.4576751e-01]\n",
      " [1.5744533e-09]\n",
      " [9.7461118e-08]]\n"
     ]
    }
   ],
   "source": [
    "from tensorflow.keras.models import load_model\n",
    "\n",
    "# Laden (egal ob .keras oder .h5)\n",
    "cnn_loaded = load_model(\"/kaggle/working/cnn_model.keras\")\n",
    "\n",
    "# Test\n",
    "print(cnn_loaded.predict(X_test[:5]))\n"
   ]
  },
  {
   "cell_type": "code",
   "execution_count": 24,
   "id": "753dfa44",
   "metadata": {
    "execution": {
     "iopub.execute_input": "2025-09-18T13:28:21.619891Z",
     "iopub.status.busy": "2025-09-18T13:28:21.619173Z",
     "iopub.status.idle": "2025-09-18T13:28:21.626140Z",
     "shell.execute_reply": "2025-09-18T13:28:21.625200Z"
    },
    "papermill": {
     "duration": 0.027735,
     "end_time": "2025-09-18T13:28:21.627715",
     "exception": false,
     "start_time": "2025-09-18T13:28:21.599980",
     "status": "completed"
    },
    "tags": []
   },
   "outputs": [
    {
     "data": {
      "text/html": [
       "<a href='/kaggle/working/svm_clf_stress_model.pkl' target='_blank'>/kaggle/working/svm_clf_stress_model.pkl</a><br>"
      ],
      "text/plain": [
       "/kaggle/working/svm_clf_stress_model.pkl"
      ]
     },
     "execution_count": 24,
     "metadata": {},
     "output_type": "execute_result"
    }
   ],
   "source": [
    "## Download der Daten\n",
    "from IPython.display import FileLink\n",
    "\n",
    "FileLink('/kaggle/working/cnn_model.keras')\n",
    "FileLink('/kaggle/working/svm_clf_stress_model.pkl')\n"
   ]
  },
  {
   "cell_type": "code",
   "execution_count": 25,
   "id": "f2a1e070",
   "metadata": {
    "execution": {
     "iopub.execute_input": "2025-09-18T13:28:21.664878Z",
     "iopub.status.busy": "2025-09-18T13:28:21.664567Z",
     "iopub.status.idle": "2025-09-18T13:28:21.692041Z",
     "shell.execute_reply": "2025-09-18T13:28:21.690786Z"
    },
    "papermill": {
     "duration": 0.048043,
     "end_time": "2025-09-18T13:28:21.693771",
     "exception": false,
     "start_time": "2025-09-18T13:28:21.645728",
     "status": "completed"
    },
    "tags": []
   },
   "outputs": [
    {
     "name": "stdout",
     "output_type": "stream",
     "text": [
      "Alle Dateien vorhanden.\n",
      "xgb_stress_model.pkl: 167.1 KB\n",
      "svm_clf_stress_model.pkl: 9.8 KB\n",
      "cnn_model.keras: 4634.6 KB\n",
      "random_forest_model.pkl: 316.2 KB\n",
      "__notebook__.ipynb: 131.7 KB\n",
      "models.zip: 4960.9 KB\n",
      "\n",
      "FERTIG: models.zip liegt in /kaggle/working und erscheint im Output-Tab.\n"
     ]
    }
   ],
   "source": [
    "import os, zipfile, shutil\n",
    "\n",
    "# 1) Sicherstellen, dass die Modelle da sind\n",
    "files_to_zip = [\n",
    "    \"/kaggle/working/cnn_model.keras\",\n",
    "    \"/kaggle/working/random_forest_model.pkl\",\n",
    "    \"/kaggle/working/svm_clf_stress_model.pkl\",\n",
    "]\n",
    "\n",
    "missing = [p for p in files_to_zip if not os.path.exists(p)]\n",
    "if missing:\n",
    "    print(\"Fehlende Dateien:\", missing)\n",
    "else:\n",
    "    print(\"Alle Dateien vorhanden.\")\n",
    "\n",
    "# 2) Sauberen Export-Ordner anlegen\n",
    "export_dir = \"/kaggle/working/export\"\n",
    "os.makedirs(export_dir, exist_ok=True)\n",
    "\n",
    "# 3) Dateien in den Export-Ordner kopieren (optional, hält’s übersichtlich)\n",
    "for p in files_to_zip:\n",
    "    if os.path.exists(p):\n",
    "        shutil.copy(p, os.path.join(export_dir, os.path.basename(p)))\n",
    "\n",
    "# 4) Zip nur mit diesen Dateien bauen\n",
    "zip_path = \"/kaggle/working/models.zip\"\n",
    "with zipfile.ZipFile(zip_path, \"w\") as zf:\n",
    "    for name in os.listdir(export_dir):\n",
    "        zf.write(os.path.join(export_dir, name), arcname=name)\n",
    "\n",
    "# 5) Kontrolle: auflisten und Größen anzeigen\n",
    "for name in os.listdir(\"/kaggle/working\"):\n",
    "    full = os.path.join(\"/kaggle/working\", name)\n",
    "    if os.path.isfile(full):\n",
    "        print(f\"{name}: {os.path.getsize(full)/1024:.1f} KB\")\n",
    "\n",
    "print(\"\\nFERTIG: models.zip liegt in /kaggle/working und erscheint im Output-Tab.\")\n"
   ]
  },
  {
   "cell_type": "markdown",
   "id": "dd6ed8c6",
   "metadata": {
    "papermill": {
     "duration": 0.018389,
     "end_time": "2025-09-18T13:28:21.730643",
     "exception": false,
     "start_time": "2025-09-18T13:28:21.712254",
     "status": "completed"
    },
    "tags": []
   },
   "source": [
    "## Ausprobieren CNN für \"gelernte Daten\" "
   ]
  },
  {
   "cell_type": "code",
   "execution_count": 26,
   "id": "d4e5dd8a",
   "metadata": {
    "execution": {
     "iopub.execute_input": "2025-09-18T13:28:21.767819Z",
     "iopub.status.busy": "2025-09-18T13:28:21.766969Z",
     "iopub.status.idle": "2025-09-18T13:28:22.076992Z",
     "shell.execute_reply": "2025-09-18T13:28:22.076008Z"
    },
    "papermill": {
     "duration": 0.330394,
     "end_time": "2025-09-18T13:28:22.078637",
     "exception": false,
     "start_time": "2025-09-18T13:28:21.748243",
     "status": "completed"
    },
    "tags": []
   },
   "outputs": [
    {
     "name": "stdout",
     "output_type": "stream",
     "text": [
      "\u001b[1m2/2\u001b[0m \u001b[32m━━━━━━━━━━━━━━━━━━━━\u001b[0m\u001b[37m\u001b[0m \u001b[1m0s\u001b[0m 114ms/step\n",
      "              precision    recall  f1-score   support\n",
      "\n",
      "           0      0.958     0.767     0.852        30\n",
      "           1      0.682     0.938     0.789        16\n",
      "\n",
      "    accuracy                          0.826        46\n",
      "   macro avg      0.820     0.852     0.821        46\n",
      "weighted avg      0.862     0.826     0.830        46\n",
      "\n"
     ]
    }
   ],
   "source": [
    "from sklearn.metrics import classification_report\n",
    "\n",
    "y_pred_prob = model.predict(X_test).flatten()\n",
    "y_pred = (y_pred_prob > 0.5).astype(int)\n",
    "\n",
    "print(classification_report(y_test, y_pred, digits=3))\n"
   ]
  },
  {
   "cell_type": "markdown",
   "id": "cb3c5d02",
   "metadata": {
    "papermill": {
     "duration": 0.018062,
     "end_time": "2025-09-18T13:28:22.115146",
     "exception": false,
     "start_time": "2025-09-18T13:28:22.097084",
     "status": "completed"
    },
    "tags": []
   },
   "source": [
    "## Ausprobieren CNN für \"NEUE Daten\" -> 8\n",
    "\n",
    "-> Variablen ändern für S12 bzw. S8 \n",
    "-> Ausführen\n",
    "-> "
   ]
  },
  {
   "cell_type": "code",
   "execution_count": 27,
   "id": "047381df",
   "metadata": {
    "execution": {
     "iopub.execute_input": "2025-09-18T13:28:22.153354Z",
     "iopub.status.busy": "2025-09-18T13:28:22.152975Z",
     "iopub.status.idle": "2025-09-18T13:28:31.191204Z",
     "shell.execute_reply": "2025-09-18T13:28:31.190138Z"
    },
    "papermill": {
     "duration": 9.059034,
     "end_time": "2025-09-18T13:28:31.192754",
     "exception": false,
     "start_time": "2025-09-18T13:28:22.133720",
     "status": "completed"
    },
    "tags": []
   },
   "outputs": [
    {
     "name": "stdout",
     "output_type": "stream",
     "text": [
      "Datensätze: (17, 384, 5), Klassenverteilung: [11  6]\n"
     ]
    }
   ],
   "source": [
    "import pandas as pd\n",
    "import numpy as np\n",
    "from scipy.signal import resample\n",
    "from sklearn.model_selection import train_test_split\n",
    "from sklearn.metrics import classification_report\n",
    "\n",
    "file_paths = [\n",
    "    '/kaggle/input/wesad-wearable-stress-affect-detection-dataset/WESAD/S8/S8.pkl'\n",
    "]\n",
    "\n",
    "X_all_list_S8 = []\n",
    "y_all_list_S8 = []\n",
    "\n",
    "for file in file_paths:\n",
    "    with open(file, 'rb') as f:\n",
    "        data = pd.read_pickle(f)\n",
    "\n",
    "    wrist = data['signal']['wrist']\n",
    "    eda = wrist['EDA']\n",
    "    temp = wrist['TEMP']\n",
    "    acc = wrist['ACC']\n",
    "    labels = data['label']\n",
    "\n",
    "    # Resample Labels auf EDA-Länge\n",
    "    labels_resampled = resample(labels.astype(float), len(eda))\n",
    "    labels_resampled = np.round(labels_resampled).astype(int)\n",
    "\n",
    "    # ACC resamplen und alle Kanäle kombinieren\n",
    "    acc_resampled = resample(acc, len(eda))\n",
    "    X_raw = np.hstack([eda, temp, acc_resampled])  # shape: (n_samples, 5)\n",
    "\n",
    "    # Sliding Window\n",
    "    window_size = 384\n",
    "    step_size = 384\n",
    "\n",
    "    for start in range(0, len(X_raw) - window_size, step_size):\n",
    "        end = start + window_size\n",
    "        window = X_raw[start:end]\n",
    "        label_window = labels_resampled[start:end]\n",
    "\n",
    "        if set(np.unique(label_window)).issubset({1, 2}):\n",
    "            X_all_list_S8.append(window)\n",
    "            majority_label_S8 = np.bincount(label_window).argmax()\n",
    "            y_all_list_S8.append(majority_label_S8)\n",
    "\n",
    "# In Arrays umwandeln\n",
    "X_S8 = np.array(X_all_list_S8)                   # shape: (n_windows_total, 384, 5)\n",
    "y_S8 = (np.array(y_all_list_S8) - 1).astype(int) # [1,2] → [0,1]\n",
    "\n",
    "print(f\"Datensätze: {X_S8.shape}, Klassenverteilung: {np.bincount(y_S8)}\")\n"
   ]
  },
  {
   "cell_type": "code",
   "execution_count": 28,
   "id": "f1ea0c3a",
   "metadata": {
    "execution": {
     "iopub.execute_input": "2025-09-18T13:28:31.230430Z",
     "iopub.status.busy": "2025-09-18T13:28:31.230082Z",
     "iopub.status.idle": "2025-09-18T13:28:31.340083Z",
     "shell.execute_reply": "2025-09-18T13:28:31.339035Z"
    },
    "papermill": {
     "duration": 0.130668,
     "end_time": "2025-09-18T13:28:31.341588",
     "exception": false,
     "start_time": "2025-09-18T13:28:31.210920",
     "status": "completed"
    },
    "tags": []
   },
   "outputs": [
    {
     "name": "stdout",
     "output_type": "stream",
     "text": [
      "\u001b[1m1/1\u001b[0m \u001b[32m━━━━━━━━━━━━━━━━━━━━\u001b[0m\u001b[37m\u001b[0m \u001b[1m0s\u001b[0m 40ms/step\n",
      "              precision    recall  f1-score   support\n",
      "\n",
      "           0      0.429     0.273     0.333        11\n",
      "           1      0.200     0.333     0.250         6\n",
      "\n",
      "    accuracy                          0.294        17\n",
      "   macro avg      0.314     0.303     0.292        17\n",
      "weighted avg      0.348     0.294     0.304        17\n",
      "\n"
     ]
    }
   ],
   "source": [
    "y_cnn = (y_S8 - 1).astype(int)  # [1, 2] → [0, 1]\n",
    "\n",
    "#model.fit(X_train, y_train, epochs=20, batch_size=32, validation_split=0.2)\n",
    "\n",
    "\n",
    "from sklearn.metrics import classification_report\n",
    "\n",
    "y_pred_prob = model.predict(X_S8).flatten()\n",
    "y_pred = (y_pred_prob > 0.5).astype(int)\n",
    "\n",
    "print(classification_report(y_S8, y_pred, digits=3))\n"
   ]
  },
  {
   "cell_type": "code",
   "execution_count": 29,
   "id": "a32c6e90",
   "metadata": {
    "execution": {
     "iopub.execute_input": "2025-09-18T13:28:31.380859Z",
     "iopub.status.busy": "2025-09-18T13:28:31.380557Z",
     "iopub.status.idle": "2025-09-18T13:28:37.849173Z",
     "shell.execute_reply": "2025-09-18T13:28:37.847864Z"
    },
    "papermill": {
     "duration": 6.489785,
     "end_time": "2025-09-18T13:28:37.850878",
     "exception": false,
     "start_time": "2025-09-18T13:28:31.361093",
     "status": "completed"
    },
    "tags": []
   },
   "outputs": [
    {
     "name": "stdout",
     "output_type": "stream",
     "text": [
      "Top-Level Keys: dict_keys(['signal', 'label', 'subject'])\n"
     ]
    }
   ],
   "source": [
    "file='/kaggle/input/wesad-wearable-stress-affect-detection-dataset/WESAD/S8/S8.pkl'\n",
    "\n",
    "with open(file, 'rb') as f:\n",
    "    data = pd.read_pickle(f)\n",
    "print(\"Top-Level Keys:\", data.keys())\n"
   ]
  },
  {
   "cell_type": "markdown",
   "id": "ad6a787c",
   "metadata": {
    "papermill": {
     "duration": 0.018206,
     "end_time": "2025-09-18T13:28:37.887604",
     "exception": false,
     "start_time": "2025-09-18T13:28:37.869398",
     "status": "completed"
    },
    "tags": []
   },
   "source": []
  },
  {
   "cell_type": "code",
   "execution_count": 30,
   "id": "d0cba0f3",
   "metadata": {
    "execution": {
     "iopub.execute_input": "2025-09-18T13:28:37.927899Z",
     "iopub.status.busy": "2025-09-18T13:28:37.927590Z",
     "iopub.status.idle": "2025-09-18T13:28:37.932256Z",
     "shell.execute_reply": "2025-09-18T13:28:37.931183Z"
    },
    "papermill": {
     "duration": 0.026547,
     "end_time": "2025-09-18T13:28:37.933811",
     "exception": false,
     "start_time": "2025-09-18T13:28:37.907264",
     "status": "completed"
    },
    "tags": []
   },
   "outputs": [
    {
     "name": "stdout",
     "output_type": "stream",
     "text": [
      "dict_keys(['ACC', 'ECG', 'EMG', 'EDA', 'Temp', 'Resp'])\n"
     ]
    }
   ],
   "source": [
    "print(data['signal']['chest'].keys())\n",
    "\n"
   ]
  },
  {
   "cell_type": "code",
   "execution_count": null,
   "id": "9c7ab96b",
   "metadata": {
    "papermill": {
     "duration": 0.018009,
     "end_time": "2025-09-18T13:28:37.970274",
     "exception": false,
     "start_time": "2025-09-18T13:28:37.952265",
     "status": "completed"
    },
    "tags": []
   },
   "outputs": [],
   "source": []
  }
 ],
 "metadata": {
  "kaggle": {
   "accelerator": "none",
   "dataSources": [
    {
     "datasetId": 7192727,
     "sourceId": 11476463,
     "sourceType": "datasetVersion"
    },
    {
     "datasetId": 8067774,
     "sourceId": 12762224,
     "sourceType": "datasetVersion"
    },
    {
     "datasetId": 8068181,
     "sourceId": 12762826,
     "sourceType": "datasetVersion"
    }
   ],
   "dockerImageVersionId": 31089,
   "isGpuEnabled": false,
   "isInternetEnabled": false,
   "language": "python",
   "sourceType": "notebook"
  },
  "kernelspec": {
   "display_name": "Python 3",
   "language": "python",
   "name": "python3"
  },
  "language_info": {
   "codemirror_mode": {
    "name": "ipython",
    "version": 3
   },
   "file_extension": ".py",
   "mimetype": "text/x-python",
   "name": "python",
   "nbconvert_exporter": "python",
   "pygments_lexer": "ipython3",
   "version": "3.11.13"
  },
  "papermill": {
   "default_parameters": {},
   "duration": 402.11855,
   "end_time": "2025-09-18T13:28:41.304565",
   "environment_variables": {},
   "exception": null,
   "input_path": "__notebook__.ipynb",
   "output_path": "__notebook__.ipynb",
   "parameters": {},
   "start_time": "2025-09-18T13:21:59.186015",
   "version": "2.6.0"
  }
 },
 "nbformat": 4,
 "nbformat_minor": 5
}
