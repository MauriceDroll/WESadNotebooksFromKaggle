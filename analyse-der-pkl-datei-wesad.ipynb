{
 "cells": [
  {
   "cell_type": "code",
   "execution_count": 1,
   "id": "a24fd3f6",
   "metadata": {
    "_cell_guid": "b1076dfc-b9ad-4769-8c92-a6c4dae69d19",
    "_uuid": "8f2839f25d086af736a60e9eeb907d3b93b6e0e5",
    "execution": {
     "iopub.execute_input": "2025-09-19T11:00:23.841506Z",
     "iopub.status.busy": "2025-09-19T11:00:23.841113Z",
     "iopub.status.idle": "2025-09-19T11:00:25.949868Z",
     "shell.execute_reply": "2025-09-19T11:00:25.948799Z"
    },
    "papermill": {
     "duration": 2.121386,
     "end_time": "2025-09-19T11:00:25.951467",
     "exception": false,
     "start_time": "2025-09-19T11:00:23.830081",
     "status": "completed"
    },
    "tags": []
   },
   "outputs": [
    {
     "name": "stdout",
     "output_type": "stream",
     "text": [
      "/kaggle/input/wesad-wearable-stress-affect-detection-dataset/WESAD/S14/S14.pkl\n",
      "/kaggle/input/wesad-wearable-stress-affect-detection-dataset/WESAD/S11/S11.pkl\n",
      "/kaggle/input/wesad-wearable-stress-affect-detection-dataset/WESAD/S13/S13.pkl\n",
      "/kaggle/input/wesad-wearable-stress-affect-detection-dataset/WESAD/S10/S10.pkl\n",
      "/kaggle/input/wesad-wearable-stress-affect-detection-dataset/WESAD/S8/S8.pkl\n",
      "/kaggle/input/wesad-wearable-stress-affect-detection-dataset/WESAD/S5/S5.pkl\n",
      "/kaggle/input/wesad-wearable-stress-affect-detection-dataset/WESAD/S7/S7.pkl\n",
      "/kaggle/input/wesad-wearable-stress-affect-detection-dataset/WESAD/S9/S9.pkl\n",
      "/kaggle/input/wesad-wearable-stress-affect-detection-dataset/WESAD/S15/S15.pkl\n",
      "/kaggle/input/wesad-wearable-stress-affect-detection-dataset/WESAD/S2/S2.pkl\n",
      "/kaggle/input/wesad-wearable-stress-affect-detection-dataset/WESAD/S6/S6.pkl\n",
      "/kaggle/input/wesad-wearable-stress-affect-detection-dataset/WESAD/S3/S3.pkl\n",
      "/kaggle/input/wesad-wearable-stress-affect-detection-dataset/WESAD/S4/S4.pkl\n",
      "/kaggle/input/wesad-wearable-stress-affect-detection-dataset/WESAD/S16/S16.pkl\n",
      "/kaggle/input/wesad-wearable-stress-affect-detection-dataset/WESAD/S17/S17.pkl\n"
     ]
    }
   ],
   "source": [
    "# This Python 3 environment comes with many helpful analytics libraries installed\n",
    "# It is defined by the kaggle/python Docker image: https://github.com/kaggle/docker-python\n",
    "# For example, here's several helpful packages to load\n",
    "\n",
    "import numpy as np # linear algebra\n",
    "import pandas as pd # data processing, CSV file I/O (e.g. pd.read_csv)\n",
    "\n",
    "# Input data files are available in the read-only \"../input/\" directory\n",
    "# For example, running this (by clicking run or pressing Shift+Enter) will list all files under the input directory\n",
    "\n",
    "import os\n",
    "for dirname, _, filenames in os.walk('/kaggle/input'):\n",
    "    for filename in filenames:\n",
    "        if \".pkl\" in filename:\n",
    "            print(os.path.join(dirname, filename))\n",
    "\n",
    "# You can write up to 20GB to the current directory (/kaggle/working/) that gets preserved as output when you create a version using \"Save & Run All\" \n",
    "# You can also write temporary files to /kaggle/temp/, but they won't be saved outside of the current session"
   ]
  },
  {
   "cell_type": "code",
   "execution_count": 2,
   "id": "1221bb64",
   "metadata": {
    "execution": {
     "iopub.execute_input": "2025-09-19T11:00:25.971306Z",
     "iopub.status.busy": "2025-09-19T11:00:25.970863Z",
     "iopub.status.idle": "2025-09-19T11:00:39.674490Z",
     "shell.execute_reply": "2025-09-19T11:00:39.673294Z"
    },
    "papermill": {
     "duration": 13.715816,
     "end_time": "2025-09-19T11:00:39.676174",
     "exception": false,
     "start_time": "2025-09-19T11:00:25.960358",
     "status": "completed"
    },
    "tags": []
   },
   "outputs": [
    {
     "name": "stdout",
     "output_type": "stream",
     "text": [
      "<class 'dict'>\n",
      "dict_keys(['signal', 'label', 'subject'])\n"
     ]
    }
   ],
   "source": [
    "# /kaggle/input/wesad-wearable-stress-affect-detection-dataset/WESAD/S14/S14.pkl\n",
    "import pandas as pd\n",
    "\n",
    "# Pfad zur Datei\n",
    "file_path = '/kaggle/input/wesad-wearable-stress-affect-detection-dataset/WESAD/S14/S14.pkl'\n",
    "\n",
    "# Einlesen der Pickle-Datei\n",
    "with open(file_path, 'rb') as file:\n",
    "    data = pd.read_pickle(file)\n",
    "\n",
    "# Anzeigen der Struktur (z. B. Keys, falls es ein Dictionary ist)\n",
    "print(type(data))\n",
    "print(data.keys())\n"
   ]
  },
  {
   "cell_type": "code",
   "execution_count": 3,
   "id": "9f295747",
   "metadata": {
    "execution": {
     "iopub.execute_input": "2025-09-19T11:00:39.694582Z",
     "iopub.status.busy": "2025-09-19T11:00:39.694221Z",
     "iopub.status.idle": "2025-09-19T11:00:40.298811Z",
     "shell.execute_reply": "2025-09-19T11:00:40.297773Z"
    },
    "papermill": {
     "duration": 0.615463,
     "end_time": "2025-09-19T11:00:40.300194",
     "exception": false,
     "start_time": "2025-09-19T11:00:39.684731",
     "status": "completed"
    },
    "tags": []
   },
   "outputs": [
    {
     "name": "stdout",
     "output_type": "stream",
     "text": [
      "dict_keys(['chest', 'wrist'])\n",
      "Label 0: 1648499 Einträge – Keine Annotation / Übergang\n",
      "Label 1: 826000 Einträge – Baseline (Ruhe)\n",
      "Label 2: 472500 Einträge – Stressphase (z. B. Rechenaufgabe)\n",
      "Label 3: 260401 Einträge – Amusement (z. B. lustiges Video)\n",
      "Label 4: 555800 Einträge – Entspannung / Meditation (optional)\n",
      "Label 5: 44100 Einträge – Fragebogen / Pause (optional)\n",
      "Label 6: 38500 Einträge – Vorbereitung / Setup (optional)\n",
      "Label 7: 37800 Einträge – Technischer Übergang / unbekannt (optional)\n",
      "S14\n"
     ]
    }
   ],
   "source": [
    "import numpy as np\n",
    "import collections\n",
    "\n",
    "# Sensorsignale und Labels extrahieren\n",
    "signals = data['signal']  # dict mit 'eda', 'ecg', etc.\n",
    "labels = data['label']    # NumPy-Array (z. B. [1 1 1 2 2 2 ...])\n",
    "\n",
    "print(signals.keys())\n",
    "# Beispiel: EDA-Signal\n",
    "\n",
    "\n",
    "# Filter: nur Zeilen mit label == 2\n",
    "#type(data[labels == 2])\n",
    "#cells_with_stress = data[labels == 2]\n",
    "#type(cells_with_stress)\n",
    "# Sortieren: z. B. nach EDA-Werten (aufsteigend)\n",
    "#cells_with_stress_sorted = np.sort(cells_with_stress, axis=0)\n",
    "\n",
    "#print(\"EDA-Signale mit Label=2, sortiert:\\n\", cells_with_stress_sorted)\n",
    "\n",
    "import collections\n",
    "\n",
    "# Häufigkeiten zählen\n",
    "label_counts = dict(collections.Counter(labels))\n",
    "\n",
    "# Label-Bedeutungen laut WESAD (inkl. erweiterter Interpretation)\n",
    "label_meanings = {\n",
    "    0: \"Keine Annotation / Übergang\",\n",
    "    1: \"Baseline (Ruhe)\",\n",
    "    2: \"Stressphase (z. B. Rechenaufgabe)\",\n",
    "    3: \"Amusement (z. B. lustiges Video)\",\n",
    "    4: \"Entspannung / Meditation (optional)\",\n",
    "    5: \"Fragebogen / Pause (optional)\",\n",
    "    6: \"Vorbereitung / Setup (optional)\",\n",
    "    7: \"Technischer Übergang / unbekannt (optional)\"\n",
    "}\n",
    "\n",
    "# Übersicht ausgeben\n",
    "for label, count in sorted(label_counts.items()):\n",
    "    meaning = label_meanings.get(label, \"Unbekannt\")\n",
    "    print(f\"Label {label}: {count} Einträge – {meaning}\")\n",
    "\n",
    "print(data['subject'])"
   ]
  },
  {
   "cell_type": "code",
   "execution_count": 4,
   "id": "4f38eed0",
   "metadata": {
    "execution": {
     "iopub.execute_input": "2025-09-19T11:00:40.319410Z",
     "iopub.status.busy": "2025-09-19T11:00:40.319081Z",
     "iopub.status.idle": "2025-09-19T11:00:40.327283Z",
     "shell.execute_reply": "2025-09-19T11:00:40.326374Z"
    },
    "papermill": {
     "duration": 0.018976,
     "end_time": "2025-09-19T11:00:40.328620",
     "exception": false,
     "start_time": "2025-09-19T11:00:40.309644",
     "status": "completed"
    },
    "tags": []
   },
   "outputs": [
    {
     "data": {
      "text/plain": [
       "{'ACC': array([[ -23.,   31.,  127.],\n",
       "        [-128.,  -31.,   62.],\n",
       "        [ -54.,  -58.,   26.],\n",
       "        ...,\n",
       "        [ -47.,  -45.,    6.],\n",
       "        [ -47.,  -44.,    8.],\n",
       "        [ -47.,  -45.,    8.]]),\n",
       " 'BVP': array([[  -8.27],\n",
       "        [  -9.52],\n",
       "        [ -10.68],\n",
       "        ...,\n",
       "        [-123.97],\n",
       "        [-160.08],\n",
       "        [-195.94]]),\n",
       " 'EDA': array([[0.277864],\n",
       "        [0.266351],\n",
       "        [0.195992],\n",
       "        ...,\n",
       "        [0.080859],\n",
       "        [0.060391],\n",
       "        [0.175257]]),\n",
       " 'TEMP': array([[31.97],\n",
       "        [31.97],\n",
       "        [31.97],\n",
       "        ...,\n",
       "        [31.21],\n",
       "        [31.21],\n",
       "        [31.21]])}"
      ]
     },
     "execution_count": 4,
     "metadata": {},
     "output_type": "execute_result"
    }
   ],
   "source": [
    "data['signal']['wrist']"
   ]
  },
  {
   "cell_type": "markdown",
   "id": "b4be3306",
   "metadata": {
    "papermill": {
     "duration": 0.00814,
     "end_time": "2025-09-19T11:00:40.345300",
     "exception": false,
     "start_time": "2025-09-19T11:00:40.337160",
     "status": "completed"
    },
    "tags": []
   },
   "source": [
    "## Daten sortieren wo nur Stress = 2 ist"
   ]
  },
  {
   "cell_type": "markdown",
   "id": "44102278",
   "metadata": {
    "papermill": {
     "duration": 0.008006,
     "end_time": "2025-09-19T11:00:40.361634",
     "exception": false,
     "start_time": "2025-09-19T11:00:40.353628",
     "status": "completed"
    },
    "tags": []
   },
   "source": [
    "Es sind viel zu wenige Daten für Stress. Oben sind es nich 470 Tsd unten nur noch 2700?!"
   ]
  },
  {
   "cell_type": "code",
   "execution_count": 5,
   "id": "02e38393",
   "metadata": {
    "execution": {
     "iopub.execute_input": "2025-09-19T11:00:40.379494Z",
     "iopub.status.busy": "2025-09-19T11:00:40.379185Z",
     "iopub.status.idle": "2025-09-19T11:00:42.163440Z",
     "shell.execute_reply": "2025-09-19T11:00:42.162384Z"
    },
    "papermill": {
     "duration": 1.795435,
     "end_time": "2025-09-19T11:00:42.165393",
     "exception": false,
     "start_time": "2025-09-19T11:00:40.369958",
     "status": "completed"
    },
    "tags": []
   },
   "outputs": [
    {
     "name": "stdout",
     "output_type": "stream",
     "text": [
      "Label length: 3883600 | EDA length: 22192\n",
      "           EDA  Label\n",
      "0     0.339268      2\n",
      "1     0.337989      2\n",
      "2     0.336710      2\n",
      "3     0.337989      2\n",
      "4     0.337989      2\n",
      "...        ...    ...\n",
      "2697  0.336710      2\n",
      "2698  0.335430      2\n",
      "2699  0.316242      2\n",
      "2700  0.314962      2\n",
      "2701  0.286819      2\n",
      "\n",
      "[2702 rows x 2 columns]\n"
     ]
    }
   ],
   "source": [
    "from scipy.signal import resample\n",
    "\n",
    "\n",
    "labels = data['label']  # Länge z. B. 3883600\n",
    "eda = data['signal']['wrist']['EDA']  # Länge z. B. 22192\n",
    "\n",
    "print(f\"Label length: {len(labels)} | EDA length: {len(eda)}\")\n",
    "\n",
    "# Labels auf die Länge der EDA-Daten bringen\n",
    "labels_resampled = resample(labels.astype(float), len(eda))\n",
    "labels_resampled = np.round(labels_resampled).astype(int)\n",
    "\n",
    "# Maske anwenden\n",
    "mask = labels_resampled == 2\n",
    "eda_label2 = eda[mask]\n",
    "\n",
    "# In DataFrame\n",
    "df_eda_label2 = pd.DataFrame({\n",
    "    'EDA': eda_label2[:, 0],\n",
    "    'Label': [2] * len(eda_label2)\n",
    "})\n",
    "\n",
    "print(df_eda_label2)\n"
   ]
  },
  {
   "cell_type": "markdown",
   "id": "78bae5d7",
   "metadata": {
    "papermill": {
     "duration": 0.0139,
     "end_time": "2025-09-19T11:00:42.190227",
     "exception": false,
     "start_time": "2025-09-19T11:00:42.176327",
     "status": "completed"
    },
    "tags": []
   },
   "source": [
    "### Baseline"
   ]
  },
  {
   "cell_type": "code",
   "execution_count": 6,
   "id": "e9a7d21e",
   "metadata": {
    "execution": {
     "iopub.execute_input": "2025-09-19T11:00:42.211563Z",
     "iopub.status.busy": "2025-09-19T11:00:42.210774Z",
     "iopub.status.idle": "2025-09-19T11:00:42.473767Z",
     "shell.execute_reply": "2025-09-19T11:00:42.472761Z"
    },
    "papermill": {
     "duration": 0.27408,
     "end_time": "2025-09-19T11:00:42.475345",
     "exception": false,
     "start_time": "2025-09-19T11:00:42.201265",
     "status": "completed"
    },
    "tags": []
   },
   "outputs": [
    {
     "name": "stdout",
     "output_type": "stream",
     "text": [
      "Label length: 3883600 | EDA length: 22192\n",
      "           EDA  Label\n",
      "0     0.303449      1\n",
      "1     0.295773      1\n",
      "2     0.291936      1\n",
      "3     0.293215      1\n",
      "4     0.285539      1\n",
      "...        ...    ...\n",
      "4721  0.339268      1\n",
      "4722  0.335430      1\n",
      "4723  0.321359      1\n",
      "4724  0.313683      1\n",
      "4725  0.321359      1\n",
      "\n",
      "[4726 rows x 2 columns]\n"
     ]
    }
   ],
   "source": [
    "from scipy.signal import resample\n",
    "\n",
    "\n",
    "labels = data['label']  # Länge z. B. 3883600\n",
    "eda = data['signal']['wrist']['EDA']  # Länge z. B. 22192\n",
    "\n",
    "print(f\"Label length: {len(labels)} | EDA length: {len(eda)}\")\n",
    "\n",
    "# Labels auf die Länge der EDA-Daten bringen\n",
    "labels_resampled = resample(labels.astype(float), len(eda))\n",
    "labels_resampled = np.round(labels_resampled).astype(int)\n",
    "\n",
    "# Maske anwenden\n",
    "mask = labels_resampled == 1\n",
    "eda_label2 = eda[mask]\n",
    "\n",
    "# In DataFrame\n",
    "df_eda_label2 = pd.DataFrame({\n",
    "    'EDA': eda_label2[:, 0],\n",
    "    'Label': [1] * len(eda_label2)\n",
    "})\n",
    "\n",
    "print(df_eda_label2)\n"
   ]
  },
  {
   "cell_type": "markdown",
   "id": "ae89b0cb",
   "metadata": {
    "execution": {
     "iopub.execute_input": "2025-07-31T08:55:46.550112Z",
     "iopub.status.busy": "2025-07-31T08:55:46.549763Z",
     "iopub.status.idle": "2025-07-31T08:55:46.554196Z",
     "shell.execute_reply": "2025-07-31T08:55:46.553293Z",
     "shell.execute_reply.started": "2025-07-31T08:55:46.550085Z"
    },
    "papermill": {
     "duration": 0.008664,
     "end_time": "2025-09-19T11:00:42.492909",
     "exception": false,
     "start_time": "2025-09-19T11:00:42.484245",
     "status": "completed"
    },
    "tags": []
   },
   "source": [
    "### Amusement"
   ]
  },
  {
   "cell_type": "markdown",
   "id": "b66cd903",
   "metadata": {
    "papermill": {
     "duration": 0.008347,
     "end_time": "2025-09-19T11:00:42.510014",
     "exception": false,
     "start_time": "2025-09-19T11:00:42.501667",
     "status": "completed"
    },
    "tags": []
   },
   "source": []
  },
  {
   "cell_type": "code",
   "execution_count": 7,
   "id": "a72ed70e",
   "metadata": {
    "execution": {
     "iopub.execute_input": "2025-09-19T11:00:42.528806Z",
     "iopub.status.busy": "2025-09-19T11:00:42.528026Z",
     "iopub.status.idle": "2025-09-19T11:00:42.791695Z",
     "shell.execute_reply": "2025-09-19T11:00:42.790723Z"
    },
    "papermill": {
     "duration": 0.27468,
     "end_time": "2025-09-19T11:00:42.793197",
     "exception": false,
     "start_time": "2025-09-19T11:00:42.518517",
     "status": "completed"
    },
    "tags": []
   },
   "outputs": [
    {
     "name": "stdout",
     "output_type": "stream",
     "text": [
      "Label length: 3883600 | EDA length: 22192\n",
      "           EDA  Label\n",
      "0     0.303449      3\n",
      "1     0.314962      3\n",
      "2     0.316242      3\n",
      "3     0.317521      3\n",
      "4     0.316242      3\n",
      "...        ...    ...\n",
      "1484  0.313683      3\n",
      "1485  0.313683      3\n",
      "1486  0.312404      3\n",
      "1487  0.307287      3\n",
      "1488  0.306008      3\n",
      "\n",
      "[1489 rows x 2 columns]\n"
     ]
    }
   ],
   "source": [
    "from scipy.signal import resample\n",
    "\n",
    "\n",
    "labels = data['label']  # Länge z. B. 3883600\n",
    "eda = data['signal']['wrist']['EDA']  # Länge z. B. 22192\n",
    "\n",
    "print(f\"Label length: {len(labels)} | EDA length: {len(eda)}\")\n",
    "\n",
    "# Labels auf die Länge der EDA-Daten bringen\n",
    "labels_resampled = resample(labels.astype(float), len(eda))\n",
    "labels_resampled = np.round(labels_resampled).astype(int)\n",
    "\n",
    "# Maske anwenden\n",
    "mask = labels_resampled == 3\n",
    "eda_label2 = eda[mask]\n",
    "\n",
    "# In DataFrame\n",
    "df_eda_label2 = pd.DataFrame({\n",
    "    'EDA': eda_label2[:, 0],\n",
    "    'Label': [3] * len(eda_label2)\n",
    "})\n",
    "\n",
    "print(df_eda_label2)\n"
   ]
  },
  {
   "cell_type": "code",
   "execution_count": null,
   "id": "40060605",
   "metadata": {
    "papermill": {
     "duration": 0.008816,
     "end_time": "2025-09-19T11:00:42.810962",
     "exception": false,
     "start_time": "2025-09-19T11:00:42.802146",
     "status": "completed"
    },
    "tags": []
   },
   "outputs": [],
   "source": []
  },
  {
   "cell_type": "markdown",
   "id": "ad508778",
   "metadata": {
    "papermill": {
     "duration": 0.008464,
     "end_time": "2025-09-19T11:00:42.828072",
     "exception": false,
     "start_time": "2025-09-19T11:00:42.819608",
     "status": "completed"
    },
    "tags": []
   },
   "source": [
    "# Random Forest"
   ]
  },
  {
   "cell_type": "code",
   "execution_count": 8,
   "id": "b5e51395",
   "metadata": {
    "execution": {
     "iopub.execute_input": "2025-09-19T11:00:42.846876Z",
     "iopub.status.busy": "2025-09-19T11:00:42.846567Z",
     "iopub.status.idle": "2025-09-19T11:03:55.078003Z",
     "shell.execute_reply": "2025-09-19T11:03:55.076698Z"
    },
    "papermill": {
     "duration": 192.367536,
     "end_time": "2025-09-19T11:03:55.204245",
     "exception": false,
     "start_time": "2025-09-19T11:00:42.836709",
     "status": "completed"
    },
    "tags": []
   },
   "outputs": [
    {
     "name": "stdout",
     "output_type": "stream",
     "text": [
      "Datensätze: (227, 10), Klassenverteilung: [  0 149  78]\n"
     ]
    }
   ],
   "source": [
    "import pandas as pd\n",
    "import numpy as np\n",
    "from scipy.signal import resample\n",
    "from sklearn.ensemble import RandomForestClassifier\n",
    "from sklearn.model_selection import train_test_split\n",
    "from sklearn.metrics import classification_report\n",
    "\n",
    "# Pfad zur Datei\n",
    "file_path = ['/kaggle/input/wesad-wearable-stress-affect-detection-dataset/WESAD/S14/S14.pkl',\n",
    "             '/kaggle/input/wesad-wearable-stress-affect-detection-dataset/WESAD/S13/S13.pkl',\n",
    "            '/kaggle/input/wesad-wearable-stress-affect-detection-dataset/WESAD/S10/S10.pkl',\n",
    "            '/kaggle/input/wesad-wearable-stress-affect-detection-dataset/WESAD/S5/S5.pkl',\n",
    "            '/kaggle/input/wesad-wearable-stress-affect-detection-dataset/WESAD/S7/S7.pkl',\n",
    "            '/kaggle/input/wesad-wearable-stress-affect-detection-dataset/WESAD/S9/S9.pkl',\n",
    "            '/kaggle/input/wesad-wearable-stress-affect-detection-dataset/WESAD/S15/S15.pkl',\n",
    "            '/kaggle/input/wesad-wearable-stress-affect-detection-dataset/WESAD/S2/S2.pkl',\n",
    "            '/kaggle/input/wesad-wearable-stress-affect-detection-dataset/WESAD/S6/S6.pkl',\n",
    "            '/kaggle/input/wesad-wearable-stress-affect-detection-dataset/WESAD/S3/S3.pkl',\n",
    "            '/kaggle/input/wesad-wearable-stress-affect-detection-dataset/WESAD/S4/S4.pkl',\n",
    "            '/kaggle/input/wesad-wearable-stress-affect-detection-dataset/WESAD/S16/S16.pkl',\n",
    "            '/kaggle/input/wesad-wearable-stress-affect-detection-dataset/WESAD/S17/S17.pkl'\n",
    "            ]\n",
    "\n",
    "features = []\n",
    "window_labels = []\n",
    "\n",
    "for file in file_path:\n",
    "# Laden\n",
    "    with open(file, 'rb') as f:\n",
    "        data = pd.read_pickle(f)\n",
    "    \n",
    "    # Zugriff auf Wrist-Daten\n",
    "    wrist = data['signal']['wrist']\n",
    "    eda = wrist['EDA']      # shape (n_samples, 1)\n",
    "    temp = wrist['TEMP']    # shape (n_samples, 1)\n",
    "    acc = wrist['ACC']      # shape (n_samples, 3)\n",
    "    \n",
    "    # Label (ursprünglich 700 Hz, z. B. 3.8 Mio lang)\n",
    "    labels = data['label']\n",
    "    \n",
    "    # Resampling der Labels auf Länge von EDA (64 Hz)\n",
    "    labels_resampled = resample(labels.astype(float), len(eda))\n",
    "    labels_resampled = np.round(labels_resampled).astype(int)\n",
    "    \n",
    "    # Features kombinieren (z. B. EDA, TEMP, ACC)\n",
    "    from scipy.signal import resample\n",
    "    \n",
    "    # Resample ACC auf Länge von EDA (z. B. 22192 Zeilen)\n",
    "    acc_resampled = resample(acc, len(eda))\n",
    "    \n",
    "    X_raw = np.hstack([eda, temp, acc_resampled])  # shape: (n_samples, 6)\n",
    "\n",
    "    X_raw\n",
    "    \n",
    "    # Sliding Window-Feature-Bildung (z. B. 60s bei 64 Hz = 384 Samples)\n",
    "    window_size = 384  # 60s Fenster\n",
    "    step_size = 384    # ohne Überschneidung\n",
    "\n",
    "    \n",
    "    for start in range(0, len(X_raw) - window_size, step_size):\n",
    "        end = start + window_size\n",
    "        window = X_raw[start:end]\n",
    "        label_window = labels_resampled[start:end]\n",
    "        \n",
    "        # Nur Fenster mit sinnvollen Labels behalten (z. B. 1 = Ruhe, 2 = Stress)\n",
    "        if np.all(np.isin(label_window, [1, 2])):\n",
    "            # Feature-Vektor: Mittelwert + Std jeder Sensor-Spalte\n",
    "            feature_vector = np.concatenate([window.mean(axis=0), window.std(axis=0)])\n",
    "            features.append(feature_vector)\n",
    "            \n",
    "            # Mehrheits-Label als Klassenlabel\n",
    "            majority_label = np.bincount(label_window).argmax()\n",
    "            window_labels.append(majority_label)\n",
    "\n",
    "# In Arrays umwandeln\n",
    "X = np.array(features)\n",
    "y = np.array(window_labels)\n",
    "\n",
    "print(f\"Datensätze: {X.shape}, Klassenverteilung: {np.bincount(y)}\")\n",
    "\n",
    "\n"
   ]
  },
  {
   "cell_type": "code",
   "execution_count": 9,
   "id": "64c384eb",
   "metadata": {
    "execution": {
     "iopub.execute_input": "2025-09-19T11:03:55.224383Z",
     "iopub.status.busy": "2025-09-19T11:03:55.224046Z",
     "iopub.status.idle": "2025-09-19T11:03:55.231896Z",
     "shell.execute_reply": "2025-09-19T11:03:55.230889Z"
    },
    "papermill": {
     "duration": 0.01998,
     "end_time": "2025-09-19T11:03:55.233438",
     "exception": false,
     "start_time": "2025-09-19T11:03:55.213458",
     "status": "completed"
    },
    "tags": []
   },
   "outputs": [
    {
     "data": {
      "text/plain": [
       "array([  1.968359  ,  33.34      , -49.9914787 , -38.16717886,\n",
       "         5.37479379])"
      ]
     },
     "execution_count": 9,
     "metadata": {},
     "output_type": "execute_result"
    }
   ],
   "source": [
    "X_raw[8]"
   ]
  },
  {
   "cell_type": "code",
   "execution_count": 10,
   "id": "1e0777a9",
   "metadata": {
    "execution": {
     "iopub.execute_input": "2025-09-19T11:03:55.253037Z",
     "iopub.status.busy": "2025-09-19T11:03:55.252743Z",
     "iopub.status.idle": "2025-09-19T11:04:26.450510Z",
     "shell.execute_reply": "2025-09-19T11:04:26.449590Z"
    },
    "papermill": {
     "duration": 31.218804,
     "end_time": "2025-09-19T11:04:26.461439",
     "exception": false,
     "start_time": "2025-09-19T11:03:55.242635",
     "status": "completed"
    },
    "tags": []
   },
   "outputs": [
    {
     "name": "stdout",
     "output_type": "stream",
     "text": [
      "              precision    recall  f1-score   support\n",
      "\n",
      "           1      0.853     1.000     0.921        29\n",
      "           2      1.000     0.706     0.828        17\n",
      "\n",
      "    accuracy                          0.891        46\n",
      "   macro avg      0.926     0.853     0.874        46\n",
      "weighted avg      0.907     0.891     0.886        46\n",
      "\n",
      "\n",
      "➡️ Bestes n_estimators: 15 mit Accuracy=0.913, F1=0.910\n"
     ]
    },
    {
     "data": {
      "text/plain": [
       "['/kaggle/working/random_forest_model.pkl']"
      ]
     },
     "execution_count": 10,
     "metadata": {},
     "output_type": "execute_result"
    }
   ],
   "source": [
    "# Modell trainieren auf 80:20 Split\n",
    "X_train, X_test, y_train, y_test = train_test_split(\n",
    "    X, y, \n",
    "    test_size=0.2,     # 20% Testdaten\n",
    "    random_state=42,   # Reproduzierbarkeit\n",
    ")\n",
    "clf_testdaten = RandomForestClassifier(n_estimators=105, random_state=42)\n",
    "clf_testdaten.fit(X_train, y_train)\n",
    "\n",
    "\n",
    "# Test auf 80:20 Split\n",
    "y_pred_test = clf_testdaten.predict(X_test)\n",
    "print(classification_report(y_test, y_pred_test, digits=3))\n",
    "\n",
    "from sklearn.ensemble import RandomForestClassifier\n",
    "from sklearn.metrics import accuracy_score\n",
    "from sklearn.metrics import accuracy_score, f1_score\n",
    "import numpy as np\n",
    "\n",
    "from sklearn.ensemble import RandomForestClassifier\n",
    "from sklearn.metrics import accuracy_score, f1_score\n",
    "\n",
    "def finde_bestes_n_estimators(X_train, X_test, y_train, y_test, \n",
    "                              n_min=10, n_max=200, step=10, average=\"weighted\"):\n",
    "    ergebnisse = {}\n",
    "    \n",
    "    for n in range(n_min, n_max+1, step):\n",
    "        clf = RandomForestClassifier(n_estimators=n, random_state=42)\n",
    "        clf.fit(X_train, y_train)\n",
    "        y_pred = clf.predict(X_test)\n",
    "        \n",
    "        acc = accuracy_score(y_test, y_pred)\n",
    "        f1  = f1_score(y_test, y_pred, average=average)\n",
    "        \n",
    "        ergebnisse[n] = {\"accuracy\": acc, \"f1_score\": f1}\n",
    "        #print(f\"n_estimators={n}: Accuracy={acc:.3f}, F1={f1:.3f}\")\n",
    "    \n",
    "    # Auswahl nach bestem F1-Score\n",
    "    best_n = max(ergebnisse, key=lambda k: ergebnisse[k][\"f1_score\"])\n",
    "    best_vals = ergebnisse[best_n]\n",
    "    \n",
    "    print(f\"\\n➡️ Bestes n_estimators: {best_n} \"\n",
    "          f\"mit Accuracy={best_vals['accuracy']:.3f}, F1={best_vals['f1_score']:.3f}\")\n",
    "    \n",
    "    return best_n, ergebnisse\n",
    "\n",
    "\n",
    "finde_bestes_n_estimators(X_train, X_test, y_train, y_test, n_min=10, n_max=200, step=1)\n",
    "\n",
    "\n",
    "import joblib  # für Speichern/Laden\n",
    "\n",
    "# Modell trainieren auf kombinierten Trainingsdaten\n",
    "clf = RandomForestClassifier(n_estimators=100, random_state=42)\n",
    "clf.fit(X, y)\n",
    "# ✅ Speichern des gesamten Modells ohne Testdatensplit\n",
    "joblib.dump(clf, \"/kaggle/working/random_forest_model.pkl\")\n"
   ]
  },
  {
   "cell_type": "markdown",
   "id": "1b2e5fbc",
   "metadata": {
    "papermill": {
     "duration": 0.009022,
     "end_time": "2025-09-19T11:04:26.479836",
     "exception": false,
     "start_time": "2025-09-19T11:04:26.470814",
     "status": "completed"
    },
    "tags": []
   },
   "source": [
    "## Daten der S8 ziehen und einsetzen!"
   ]
  },
  {
   "cell_type": "code",
   "execution_count": 11,
   "id": "9503ca5f",
   "metadata": {
    "execution": {
     "iopub.execute_input": "2025-09-19T11:04:26.499529Z",
     "iopub.status.busy": "2025-09-19T11:04:26.499242Z",
     "iopub.status.idle": "2025-09-19T11:04:39.501305Z",
     "shell.execute_reply": "2025-09-19T11:04:39.500205Z"
    },
    "papermill": {
     "duration": 13.013926,
     "end_time": "2025-09-19T11:04:39.502956",
     "exception": false,
     "start_time": "2025-09-19T11:04:26.489030",
     "status": "completed"
    },
    "tags": []
   },
   "outputs": [
    {
     "name": "stdout",
     "output_type": "stream",
     "text": [
      "Datensätze: (17, 10), Klassenverteilung: [ 0 11  6]\n"
     ]
    }
   ],
   "source": [
    "import pandas as pd\n",
    "import numpy as np\n",
    "from scipy.signal import resample\n",
    "from sklearn.ensemble import RandomForestClassifier\n",
    "from sklearn.model_selection import train_test_split\n",
    "from sklearn.metrics import classification_report\n",
    "\n",
    "# 📁 Pfad zur Datei (S12)\n",
    "file_path_S12 = '/kaggle/input/wesad-wearable-stress-affect-detection-dataset/WESAD/S8/S8.pkl'\n",
    "\n",
    "# 🔄 Daten laden\n",
    "with open(file_path_S12, 'rb') as f:\n",
    "    data_S12 = pd.read_pickle(f)\n",
    "\n",
    "# 📦 Zugriff auf Wrist-Signale\n",
    "wrist_S12 = data_S12['signal']['wrist']\n",
    "eda_S12 = wrist_S12['EDA']\n",
    "temp_S12 = wrist_S12['TEMP']\n",
    "acc_S12 = wrist_S12['ACC']\n",
    "\n",
    "# 🏷️ Labels (ursprünglich 700 Hz)\n",
    "labels_S12 = data_S12['label']\n",
    "\n",
    "# 🔁 Resampling der Labels auf EDA-Länge (64 Hz)\n",
    "labels_resampled_S12 = resample(labels_S12.astype(float), len(eda_S12))\n",
    "labels_resampled_S12 = np.round(labels_resampled_S12).astype(int)\n",
    "\n",
    "# 🔁 Resample ACC auf EDA-Länge\n",
    "acc_resampled_S12 = resample(acc_S12, len(eda_S12))\n",
    "\n",
    "# 🧩 Features kombinieren: EDA, TEMP, ACC → (n_samples, 6)\n",
    "X_raw_S12 = np.hstack([eda_S12, temp_S12, acc_resampled_S12])\n",
    "\n",
    "# 🪟 Sliding-Window Parameter\n",
    "window_size_S12 = 384  # 60s Fenster\n",
    "step_size_S12 = 384\n",
    "\n",
    "features_S12 = []\n",
    "window_labels_S12 = []\n",
    "\n",
    "# 🚶 Sliding-Window-Verarbeitung\n",
    "for start in range(0, len(X_raw_S12) - window_size_S12, step_size_S12):\n",
    "    end = start + window_size_S12\n",
    "    window_S12 = X_raw_S12[start:end]\n",
    "    label_window_S12 = np.round(labels_resampled_S12[start:end]).astype(int)\n",
    "\n",
    "    unique_labels_S12 = np.unique(label_window_S12)\n",
    "    \n",
    "    # ✅ Nur Fenster mit ausschließlich Label 1 oder 2\n",
    "    if set(unique_labels_S12).issubset({1, 2}):\n",
    "        majority_label_S12 = np.bincount(label_window_S12).argmax()\n",
    "        feature_vector_S12 = np.concatenate([window_S12.mean(axis=0), window_S12.std(axis=0)])\n",
    "        features_S12.append(feature_vector_S12)\n",
    "        window_labels_S12.append(majority_label_S12)\n",
    "\n",
    "# 🎯 Nur Label 1 & 2 verwenden\n",
    "mask_S12 = (np.array(window_labels_S12) == 1) | (np.array(window_labels_S12) == 2)\n",
    "X_S12 = np.array(features_S12)[mask_S12]\n",
    "y_S12 = np.array(window_labels_S12)[mask_S12]\n",
    "\n",
    "# ✅ Sicherheits-Check\n",
    "assert len(X_S12) == len(y_S12), \"Unterschiedliche Anzahl von Features und Labels!\"\n",
    "\n",
    "# ℹ️ Ergebnis anzeigen\n",
    "print(f\"Datensätze: {X_S12.shape}, Klassenverteilung: {np.bincount(y_S12)}\")\n"
   ]
  },
  {
   "cell_type": "code",
   "execution_count": 12,
   "id": "ecd505ad",
   "metadata": {
    "execution": {
     "iopub.execute_input": "2025-09-19T11:04:39.523594Z",
     "iopub.status.busy": "2025-09-19T11:04:39.522854Z",
     "iopub.status.idle": "2025-09-19T11:04:39.569629Z",
     "shell.execute_reply": "2025-09-19T11:04:39.568616Z"
    },
    "papermill": {
     "duration": 0.059016,
     "end_time": "2025-09-19T11:04:39.571393",
     "exception": false,
     "start_time": "2025-09-19T11:04:39.512377",
     "status": "completed"
    },
    "tags": []
   },
   "outputs": [
    {
     "name": "stdout",
     "output_type": "stream",
     "text": [
      "(17, 10) (17,)\n",
      "(227, 10) (227,)\n",
      "TEST nach Laden [1 1 1 1 1]\n",
      "              precision    recall  f1-score   support\n",
      "\n",
      "           1      0.733     1.000     0.846        11\n",
      "           2      1.000     0.333     0.500         6\n",
      "\n",
      "    accuracy                          0.765        17\n",
      "   macro avg      0.867     0.667     0.673        17\n",
      "weighted avg      0.827     0.765     0.724        17\n",
      "\n"
     ]
    }
   ],
   "source": [
    "print(X_S12.shape, y_S12.shape)\n",
    "print(X.shape, y.shape)\n",
    "\n",
    "# ⬇️ Laden\n",
    "rf_loaded = joblib.load(\"/kaggle/working/random_forest_model.pkl\")\n",
    "\n",
    "# Testen ob es klappt\n",
    "print(\"TEST nach Laden\", rf_loaded.predict(X_S12[:5]))\n",
    "\n",
    "# Test auf Subject S12\n",
    "y_pred = clf.predict(X_S12)\n",
    "print(classification_report(y_S12, y_pred, digits=3))"
   ]
  },
  {
   "cell_type": "code",
   "execution_count": 13,
   "id": "4597a5b4",
   "metadata": {
    "execution": {
     "iopub.execute_input": "2025-09-19T11:04:39.591719Z",
     "iopub.status.busy": "2025-09-19T11:04:39.591363Z",
     "iopub.status.idle": "2025-09-19T11:05:11.379153Z",
     "shell.execute_reply": "2025-09-19T11:05:11.378093Z"
    },
    "papermill": {
     "duration": 31.809892,
     "end_time": "2025-09-19T11:05:11.390969",
     "exception": false,
     "start_time": "2025-09-19T11:04:39.581077",
     "status": "completed"
    },
    "tags": []
   },
   "outputs": [
    {
     "name": "stdout",
     "output_type": "stream",
     "text": [
      "Übersicht LOSO nur S8 (17, 10) (17,)\n",
      "Übersicht WeSad der Rest(alle) (227, 10) (227,)\n",
      "\n",
      "➡️ Bestes n_estimators: 27 mit Accuracy=0.941, F1=0.940\n"
     ]
    }
   ],
   "source": [
    "from sklearn.ensemble import RandomForestClassifier\n",
    "from sklearn.metrics import accuracy_score, f1_score\n",
    "\n",
    "def finde_bestes_n_estimators(X_train, X_test, y_train, y_test, \n",
    "                              n_min=10, n_max=200, step=10, average=\"weighted\"):\n",
    "    ergebnisse = {}\n",
    "    \n",
    "    for n in range(n_min, n_max+1, step):\n",
    "        clf = RandomForestClassifier(n_estimators=n, random_state=42)\n",
    "        clf.fit(X_train, y_train)\n",
    "        y_pred = clf.predict(X_test)\n",
    "        \n",
    "        acc = accuracy_score(y_test, y_pred)\n",
    "        f1  = f1_score(y_test, y_pred, average=average)\n",
    "        \n",
    "        ergebnisse[n] = {\"accuracy\": acc, \"f1_score\": f1}\n",
    "        #print(f\"n_estimators={n}: Accuracy={acc:.3f}, F1={f1:.3f}\")\n",
    "    \n",
    "    # Auswahl nach bestem F1-Score\n",
    "    best_n = max(ergebnisse, key=lambda k: ergebnisse[k][\"f1_score\"])\n",
    "    best_vals = ergebnisse[best_n]\n",
    "    \n",
    "    print(f\"\\n➡️ Bestes n_estimators: {best_n} \"\n",
    "          f\"mit Accuracy={best_vals['accuracy']:.3f}, F1={best_vals['f1_score']:.3f}\")\n",
    "    \n",
    "    return best_n, ergebnisse\n",
    "\n",
    "print(\"Übersicht LOSO nur S8\", X_S12.shape, y_S12.shape)\n",
    "print(\"Übersicht WeSad der Rest(alle)\",X.shape, y.shape)\n",
    "\n",
    "# Setze X und Y (alle außer S8 ein) und schaue was der beste n_estimator ist\n",
    "best_estimator = finde_bestes_n_estimators(X, X_S12, y, y_S12, n_min=10, n_max=200, step=1,average=\"weighted\")\n",
    "\n",
    "# Bestes n_estimators: 27 mit Accuracy=0.941\n",
    "# Bestes n_estimators: 27 mit Accuracy=0.941, F1=0.940"
   ]
  },
  {
   "cell_type": "markdown",
   "id": "b4f9eb5b",
   "metadata": {
    "papermill": {
     "duration": 0.009592,
     "end_time": "2025-09-19T11:05:11.410339",
     "exception": false,
     "start_time": "2025-09-19T11:05:11.400747",
     "status": "completed"
    },
    "tags": []
   },
   "source": [
    "## Alternative zu Random Forest testen\n",
    "\n",
    "## XGBoost"
   ]
  },
  {
   "cell_type": "code",
   "execution_count": 14,
   "id": "5f5a9199",
   "metadata": {
    "execution": {
     "iopub.execute_input": "2025-09-19T11:05:11.431133Z",
     "iopub.status.busy": "2025-09-19T11:05:11.430814Z",
     "iopub.status.idle": "2025-09-19T11:05:16.748803Z",
     "shell.execute_reply": "2025-09-19T11:05:16.747436Z"
    },
    "papermill": {
     "duration": 5.331225,
     "end_time": "2025-09-19T11:05:16.751295",
     "exception": false,
     "start_time": "2025-09-19T11:05:11.420070",
     "status": "completed"
    },
    "tags": []
   },
   "outputs": [],
   "source": [
    "!pip install xgboost --quiet\n"
   ]
  },
  {
   "cell_type": "code",
   "execution_count": 15,
   "id": "5136b456",
   "metadata": {
    "execution": {
     "iopub.execute_input": "2025-09-19T11:05:16.773821Z",
     "iopub.status.busy": "2025-09-19T11:05:16.773428Z",
     "iopub.status.idle": "2025-09-19T11:05:17.241088Z",
     "shell.execute_reply": "2025-09-19T11:05:17.239028Z"
    },
    "papermill": {
     "duration": 0.481448,
     "end_time": "2025-09-19T11:05:17.242702",
     "exception": false,
     "start_time": "2025-09-19T11:05:16.761254",
     "status": "completed"
    },
    "tags": []
   },
   "outputs": [
    {
     "name": "stdout",
     "output_type": "stream",
     "text": [
      "              precision    recall  f1-score   support\n",
      "\n",
      "           0      0.909     0.909     0.909        11\n",
      "           1      0.833     0.833     0.833         6\n",
      "\n",
      "    accuracy                          0.882        17\n",
      "   macro avg      0.871     0.871     0.871        17\n",
      "weighted avg      0.882     0.882     0.882        17\n",
      "\n"
     ]
    }
   ],
   "source": [
    "import xgboost as xgb\n",
    "from sklearn.metrics import classification_report\n",
    "import xgboost as xgb\n",
    "from sklearn.metrics import classification_report\n",
    "import numpy as np\n",
    "\n",
    "# ✅ Filter: Nur Labels 1 (entspannt) & 2 (gestresst)\n",
    "mask_train = (y == 1) | (y == 2)\n",
    "mask_test = (y_S12 == 1) | (y_S12 == 2)\n",
    "\n",
    "X_train_filtered = X[mask_train]\n",
    "y_train_filtered = y[mask_train]\n",
    "\n",
    "X_test_filtered = X_S12[mask_test]\n",
    "y_test_filtered = y_S12[mask_test]\n",
    "\n",
    "\n",
    "# Optional: Konvertiere in DMatrix (XGBoost-eigenes Format) – ist aber nicht zwingend\n",
    "# dtrain = xgb.DMatrix(X, label=y)\n",
    "# dtest = xgb.DMatrix(X_S12, label=y_S12)\n",
    "\n",
    "# Mapping: 1 → 0 (Entspannt), 2 → 1 (Stress)\n",
    "y_train_remap = (y_train_filtered - 1).astype(int)\n",
    "y_test_remap = (y_test_filtered - 1).astype(int)\n",
    "\n",
    "\n",
    "xgb_clf = xgb.XGBClassifier(\n",
    "    objective='binary:logistic',  # da nur 2 Klassen nach dem Mapping\n",
    "    n_estimators=200,\n",
    "    max_depth=5,\n",
    "    learning_rate=0.27,\n",
    "    subsample=0.8,\n",
    "    colsample_bytree=0.8,\n",
    "    use_label_encoder=False,\n",
    "    eval_metric='auc',\n",
    "    random_state=42\n",
    ")\n",
    "\n",
    "xgb_clf.fit(X_train_filtered, y_train_remap)\n",
    "y_pred = xgb_clf.predict(X_test_filtered)\n",
    "\n",
    "# Evaluation wieder mit Original-Labels:\n",
    "from sklearn.metrics import classification_report\n",
    "print(classification_report(y_test_remap, y_pred, digits=3))\n"
   ]
  },
  {
   "cell_type": "markdown",
   "id": "831c554f",
   "metadata": {
    "papermill": {
     "duration": 0.009266,
     "end_time": "2025-09-19T11:05:17.262742",
     "exception": false,
     "start_time": "2025-09-19T11:05:17.253476",
     "status": "completed"
    },
    "tags": []
   },
   "source": [
    "-> Gutes Ergebnis:\n",
    "Alle Personen außer S8; sonst alle drin:\n",
    "\n",
    "              precision    recall  f1-score   support\n",
    "\n",
    "           0      0.909     0.909     0.909        11\n",
    "           1      0.833     0.833     0.833         6\n",
    "\n",
    "    accuracy                          0.882        17\n",
    "   macro avg      0.871     0.871     0.871        17\n",
    "weighted avg      0.882     0.882     0.882        17\n",
    "\n",
    "-> 5/6 Stressfälle erkannt. \n",
    "Lernrate manuell angepasst -> Automatisiert noch besser.\n",
    "\n",
    "-> Interpretation: XGBoost besser als Random Forest, da Gradiant Boosting: Fehler aus vorherigen Bäumen finden + sich verbessern.\n",
    "\n",
    "Es kann auch komplexere Zusammenhänge modellieren, wo Random Forest eher Mittelwerte bildet.\n",
    "\n",
    "Boosting ist oft besser für kleine, saubere Zeitfenster-Daten als vorher.\n",
    "\n",
    "Settings:\n",
    "xgb_clf = xgb.XGBClassifier(\n",
    "    objective='binary:logistic',  # da nur 2 Klassen nach dem Mapping\n",
    "    n_estimators=200,\n",
    "    max_depth=5,\n",
    "    learning_rate=0.27,\n",
    "    subsample=0.8,\n",
    "    colsample_bytree=0.8,\n",
    "    use_label_encoder=False,\n",
    "    eval_metric='logloss',\n",
    "    random_state=42\n",
    ")\n",
    "\n",
    "\n",
    "\n"
   ]
  },
  {
   "cell_type": "markdown",
   "id": "c801b8bc",
   "metadata": {
    "papermill": {
     "duration": 0.009264,
     "end_time": "2025-09-19T11:05:17.281334",
     "exception": false,
     "start_time": "2025-09-19T11:05:17.272070",
     "status": "completed"
    },
    "tags": []
   },
   "source": [
    "## Modell speichern"
   ]
  },
  {
   "cell_type": "code",
   "execution_count": 16,
   "id": "31a3eb73",
   "metadata": {
    "execution": {
     "iopub.execute_input": "2025-09-19T11:05:17.301535Z",
     "iopub.status.busy": "2025-09-19T11:05:17.301249Z",
     "iopub.status.idle": "2025-09-19T11:05:17.312657Z",
     "shell.execute_reply": "2025-09-19T11:05:17.311942Z"
    },
    "papermill": {
     "duration": 0.023479,
     "end_time": "2025-09-19T11:05:17.314258",
     "exception": false,
     "start_time": "2025-09-19T11:05:17.290779",
     "status": "completed"
    },
    "tags": []
   },
   "outputs": [
    {
     "data": {
      "text/plain": [
       "['/kaggle/working/xgb_stress_model.pkl']"
      ]
     },
     "execution_count": 16,
     "metadata": {},
     "output_type": "execute_result"
    }
   ],
   "source": [
    "import joblib\n",
    "\n",
    "# Modell speichern\n",
    "joblib.dump(xgb_clf, \"/kaggle/working/xgb_stress_model.pkl\")"
   ]
  },
  {
   "cell_type": "markdown",
   "id": "56b70ab7",
   "metadata": {
    "papermill": {
     "duration": 0.009333,
     "end_time": "2025-09-19T11:05:17.335483",
     "exception": false,
     "start_time": "2025-09-19T11:05:17.326150",
     "status": "completed"
    },
    "tags": []
   },
   "source": [
    "## Herausfinden, welche Parameter am besten geeignet sind"
   ]
  },
  {
   "cell_type": "code",
   "execution_count": 17,
   "id": "e013e22f",
   "metadata": {
    "execution": {
     "iopub.execute_input": "2025-09-19T11:05:17.356322Z",
     "iopub.status.busy": "2025-09-19T11:05:17.355998Z",
     "iopub.status.idle": "2025-09-19T11:05:17.363239Z",
     "shell.execute_reply": "2025-09-19T11:05:17.362454Z"
    },
    "papermill": {
     "duration": 0.019709,
     "end_time": "2025-09-19T11:05:17.364713",
     "exception": false,
     "start_time": "2025-09-19T11:05:17.345004",
     "status": "completed"
    },
    "tags": []
   },
   "outputs": [],
   "source": [
    "import xgboost as xgb\n",
    "from sklearn.metrics import accuracy_score, f1_score\n",
    "from sklearn.model_selection import ParameterGrid\n",
    "\n",
    "def finde_beste_xgb_parameter(X_train, X_test, y_train, y_test, param_grid, average=\"weighted\"):\n",
    "    ergebnisse = []\n",
    "    \n",
    "    for params in ParameterGrid(param_grid):\n",
    "        clf = xgb.XGBClassifier(\n",
    "            objective='binary:logistic',\n",
    "            use_label_encoder=False,\n",
    "            eval_metric='auc',\n",
    "            random_state=42,\n",
    "            **params\n",
    "        )\n",
    "        \n",
    "        clf.fit(X_train, y_train)\n",
    "        y_pred = clf.predict(X_test)\n",
    "        \n",
    "        acc = accuracy_score(y_test, y_pred)\n",
    "        f1  = f1_score(y_test, y_pred, average=average)\n",
    "        \n",
    "        ergebnisse.append((params, acc, f1))\n",
    "        #print(f\"Params={params} | Accuracy={acc:.3f}, F1={f1:.3f}\")\n",
    "    \n",
    "    # Sortierung nach F1, dann Accuracy\n",
    "    best_params, best_acc, best_f1 = max(ergebnisse, key=lambda x: (x[2], x[1]))\n",
    "    \n",
    "    print(f\"\\n➡️ Beste Parameter: {best_params}\")\n",
    "    print(f\"   Accuracy={best_acc:.3f}, F1={best_f1:.3f}\")\n",
    "    \n",
    "    return best_params, best_acc, best_f1\n"
   ]
  },
  {
   "cell_type": "code",
   "execution_count": 18,
   "id": "9284e435",
   "metadata": {
    "execution": {
     "iopub.execute_input": "2025-09-19T11:05:17.385398Z",
     "iopub.status.busy": "2025-09-19T11:05:17.385089Z",
     "iopub.status.idle": "2025-09-19T11:05:30.427946Z",
     "shell.execute_reply": "2025-09-19T11:05:30.427226Z"
    },
    "papermill": {
     "duration": 13.055214,
     "end_time": "2025-09-19T11:05:30.429657",
     "exception": false,
     "start_time": "2025-09-19T11:05:17.374443",
     "status": "completed"
    },
    "tags": []
   },
   "outputs": [
    {
     "name": "stdout",
     "output_type": "stream",
     "text": [
      "\n",
      "➡️ Beste Parameter: {'colsample_bytree': 0.8, 'learning_rate': 0.05, 'max_depth': 5, 'n_estimators': 200, 'subsample': 1.0}\n",
      "   Accuracy=0.935, F1=0.933\n"
     ]
    }
   ],
   "source": [
    "X_train_filtered = X[mask_train]\n",
    "y_train_filtered = y[mask_train]\n",
    "\n",
    "X_train_filtered = (X_train_filtered - 1).astype(int)\n",
    "y_train_filtered = (y_train_filtered - 1).astype(int)\n",
    "\n",
    "X_train, X_test, y_train, y_test = train_test_split(\n",
    "    X_train_filtered, y_train_filtered, \n",
    "    test_size=0.2,     # 20% Testdaten\n",
    "    random_state=42,   # Reproduzierbarkeit\n",
    ")\n",
    "param_grid = {\n",
    "    \"n_estimators\": [10, 20, 30, 40, 50, 60,70, 80, 100, 200, 300],\n",
    "    \"max_depth\": [3, 5, 7],\n",
    "    \"learning_rate\": [0.05, 0.1, 0.2],\n",
    "    \"subsample\": [0.8, 1.0],\n",
    "    \"colsample_bytree\": [0.8, 1.0]\n",
    "}\n",
    "\n",
    "beste_params, beste_acc, beste_f1 = finde_beste_xgb_parameter(\n",
    "    X_train, X_test, y_train, y_test, param_grid\n",
    ")\n"
   ]
  },
  {
   "cell_type": "markdown",
   "id": "8816696b",
   "metadata": {
    "papermill": {
     "duration": 0.009443,
     "end_time": "2025-09-19T11:05:30.451123",
     "exception": false,
     "start_time": "2025-09-19T11:05:30.441680",
     "status": "completed"
    },
    "tags": []
   },
   "source": [
    "## Testen mit S8 als LOSO Verfahren"
   ]
  },
  {
   "cell_type": "code",
   "execution_count": 19,
   "id": "2a376255",
   "metadata": {
    "execution": {
     "iopub.execute_input": "2025-09-19T11:05:30.471203Z",
     "iopub.status.busy": "2025-09-19T11:05:30.470929Z",
     "iopub.status.idle": "2025-09-19T11:11:49.282290Z",
     "shell.execute_reply": "2025-09-19T11:11:49.281610Z"
    },
    "papermill": {
     "duration": 378.834521,
     "end_time": "2025-09-19T11:11:49.295170",
     "exception": false,
     "start_time": "2025-09-19T11:05:30.460649",
     "status": "completed"
    },
    "tags": []
   },
   "outputs": [
    {
     "name": "stdout",
     "output_type": "stream",
     "text": [
      "\n",
      "➡️ Beste Parameter: {'colsample_bytree': 0.6, 'learning_rate': 0.1, 'max_depth': 3, 'n_estimators': 200, 'subsample': 0.7}\n",
      "   Accuracy=0.935, F1=0.933\n"
     ]
    }
   ],
   "source": [
    "X_test = X_S12[mask_test]\n",
    "y_test = y_S12[mask_test]\n",
    "\n",
    "X_train, X_test, y_train, y_test = train_test_split(\n",
    "    X_train_filtered, y_train_filtered, \n",
    "    test_size=0.2,     # 20% Testdaten\n",
    "    random_state=42,   # Reproduzierbarkeit\n",
    ")\n",
    "param_grid = {\n",
    "    \"n_estimators\": [10, 20, 30, 40, 50, 60,70, 80, 100, 200, 300],\n",
    "    \"max_depth\": [3, 5, 7, 9, 11, 13, 15],\n",
    "    \"learning_rate\": [0.05, 0.1,0.15,0.2, 0.25, 0.30],\n",
    "    \"subsample\": [0.6,0.7,0.8,0.9, 1.0],\n",
    "    \"colsample_bytree\": [0.6, 0.7,0.8,0.9,1.0]\n",
    "}\n",
    "\n",
    "beste_params, beste_acc, beste_f1 = finde_beste_xgb_parameter(\n",
    "    X_train, X_test, y_train, y_test, param_grid\n",
    ")\n"
   ]
  },
  {
   "cell_type": "markdown",
   "id": "cf99b08f",
   "metadata": {
    "papermill": {
     "duration": 0.009049,
     "end_time": "2025-09-19T11:11:49.313729",
     "exception": false,
     "start_time": "2025-09-19T11:11:49.304680",
     "status": "completed"
    },
    "tags": []
   },
   "source": [
    "## SVM (\"Support Vector Maschines\")\n"
   ]
  },
  {
   "cell_type": "code",
   "execution_count": 20,
   "id": "ed63455e",
   "metadata": {
    "execution": {
     "iopub.execute_input": "2025-09-19T11:11:49.333733Z",
     "iopub.status.busy": "2025-09-19T11:11:49.333329Z",
     "iopub.status.idle": "2025-09-19T11:11:49.517947Z",
     "shell.execute_reply": "2025-09-19T11:11:49.516820Z"
    },
    "papermill": {
     "duration": 0.196519,
     "end_time": "2025-09-19T11:11:49.519491",
     "exception": false,
     "start_time": "2025-09-19T11:11:49.322972",
     "status": "completed"
    },
    "tags": []
   },
   "outputs": [
    {
     "name": "stdout",
     "output_type": "stream",
     "text": [
      "Beste Parameter: {'C': 10, 'gamma': 0.1, 'kernel': 'rbf'}\n",
      "\n",
      "              precision    recall  f1-score   support\n",
      "\n",
      "           0      0.400     0.182     0.250        11\n",
      "           1      0.250     0.500     0.333         6\n",
      "\n",
      "    accuracy                          0.294        17\n",
      "   macro avg      0.325     0.341     0.292        17\n",
      "weighted avg      0.347     0.294     0.279        17\n",
      "\n"
     ]
    }
   ],
   "source": [
    "from sklearn.svm import SVC\n",
    "from sklearn.preprocessing import StandardScaler\n",
    "from sklearn.metrics import classification_report\n",
    "import numpy as np\n",
    "\n",
    "# 🔄 Nur Labels 1 und 2 (wie bei XGBoost)\n",
    "mask_train = (y == 1) | (y == 2)\n",
    "mask_test = (y_S12 == 1) | (y_S12 == 2)\n",
    "\n",
    "X_train_filtered = X[mask_train]\n",
    "y_train_filtered = y[mask_train]\n",
    "X_test_filtered = X_S12[mask_test]\n",
    "y_test_filtered = y_S12[mask_test]\n",
    "\n",
    "# 🔄 Labels ummappen: 1 → 0, 2 → 1\n",
    "y_train_remap = (y_train_filtered - 1).astype(int)\n",
    "y_test_remap = (y_test_filtered - 1).astype(int)\n",
    "\n",
    "# 🔄 Features skalieren (wichtig für SVM!)\n",
    "scaler = StandardScaler()\n",
    "X_train_scaled = scaler.fit_transform(X_train_filtered)\n",
    "X_test_scaled = scaler.transform(X_test_filtered)\n",
    "\n",
    "from sklearn.model_selection import GridSearchCV\n",
    "\n",
    "param_grid = {\n",
    "    'C': [0.1, 1, 10],\n",
    "    'gamma': [0.01, 0.1, 1, 'scale', 'auto'],\n",
    "    'kernel': ['rbf']\n",
    "}\n",
    "\n",
    "grid = GridSearchCV(SVC(), param_grid, cv=3, scoring='f1')\n",
    "grid.fit(X_train_scaled, y_train_remap)\n",
    "\n",
    "print(\"Beste Parameter:\", grid.best_params_)\n",
    "print(\"\")\n",
    "\n",
    "# ✅ SVM mit RBF-Kernel\n",
    "svm_clf = SVC(kernel='rbf', C=10, gamma=0.1, random_state=42)\n",
    "svm_clf.fit(X_train_scaled, y_train_remap)\n",
    "\n",
    "# 🧪 Vorhersage & Bewertung\n",
    "y_pred = svm_clf.predict(X_test_scaled)\n",
    "print(classification_report(y_test_remap, y_pred, digits=3))\n"
   ]
  },
  {
   "cell_type": "code",
   "execution_count": 21,
   "id": "4132ef3c",
   "metadata": {
    "execution": {
     "iopub.execute_input": "2025-09-19T11:11:49.539958Z",
     "iopub.status.busy": "2025-09-19T11:11:49.539657Z",
     "iopub.status.idle": "2025-09-19T11:11:49.547252Z",
     "shell.execute_reply": "2025-09-19T11:11:49.546604Z"
    },
    "papermill": {
     "duration": 0.019262,
     "end_time": "2025-09-19T11:11:49.548628",
     "exception": false,
     "start_time": "2025-09-19T11:11:49.529366",
     "status": "completed"
    },
    "tags": []
   },
   "outputs": [
    {
     "data": {
      "text/plain": [
       "['/kaggle/working/svm_clf_stress_model.pkl']"
      ]
     },
     "execution_count": 21,
     "metadata": {},
     "output_type": "execute_result"
    }
   ],
   "source": [
    "# Modell speichern\n",
    "import joblib\n",
    "\n",
    "# Modell speichern\n",
    "joblib.dump(svm_clf, \"/kaggle/working/svm_clf_stress_model.pkl\")"
   ]
  },
  {
   "cell_type": "markdown",
   "id": "8cbfa3e0",
   "metadata": {
    "execution": {
     "iopub.execute_input": "2025-08-06T21:05:11.086668Z",
     "iopub.status.busy": "2025-08-06T21:05:11.086295Z",
     "iopub.status.idle": "2025-08-06T21:05:11.091091Z",
     "shell.execute_reply": "2025-08-06T21:05:11.090108Z",
     "shell.execute_reply.started": "2025-08-06T21:05:11.086644Z"
    },
    "papermill": {
     "duration": 0.009426,
     "end_time": "2025-09-19T11:11:49.567673",
     "exception": false,
     "start_time": "2025-09-19T11:11:49.558247",
     "status": "completed"
    },
    "tags": []
   },
   "source": [
    "## CNN "
   ]
  },
  {
   "cell_type": "code",
   "execution_count": 22,
   "id": "a38f7473",
   "metadata": {
    "execution": {
     "iopub.execute_input": "2025-09-19T11:11:49.588200Z",
     "iopub.status.busy": "2025-09-19T11:11:49.587895Z",
     "iopub.status.idle": "2025-09-19T11:14:26.567780Z",
     "shell.execute_reply": "2025-09-19T11:14:26.566786Z"
    },
    "papermill": {
     "duration": 157.002246,
     "end_time": "2025-09-19T11:14:26.579361",
     "exception": false,
     "start_time": "2025-09-19T11:11:49.577115",
     "status": "completed"
    },
    "tags": []
   },
   "outputs": [
    {
     "name": "stdout",
     "output_type": "stream",
     "text": [
      "Datensätze: (227, 384, 5), Klassenverteilung: [149  78]\n"
     ]
    }
   ],
   "source": [
    "import pandas as pd\n",
    "import numpy as np\n",
    "from scipy.signal import resample\n",
    "from sklearn.model_selection import train_test_split\n",
    "from sklearn.metrics import classification_report\n",
    "\n",
    "file_paths = [\n",
    "    '/kaggle/input/wesad-wearable-stress-affect-detection-dataset/WESAD/S14/S14.pkl',\n",
    "    '/kaggle/input/wesad-wearable-stress-affect-detection-dataset/WESAD/S13/S13.pkl',\n",
    "    '/kaggle/input/wesad-wearable-stress-affect-detection-dataset/WESAD/S10/S10.pkl',\n",
    "    '/kaggle/input/wesad-wearable-stress-affect-detection-dataset/WESAD/S5/S5.pkl',\n",
    "    '/kaggle/input/wesad-wearable-stress-affect-detection-dataset/WESAD/S7/S7.pkl',\n",
    "    '/kaggle/input/wesad-wearable-stress-affect-detection-dataset/WESAD/S9/S9.pkl',\n",
    "    '/kaggle/input/wesad-wearable-stress-affect-detection-dataset/WESAD/S15/S15.pkl',\n",
    "    '/kaggle/input/wesad-wearable-stress-affect-detection-dataset/WESAD/S2/S2.pkl',\n",
    "    '/kaggle/input/wesad-wearable-stress-affect-detection-dataset/WESAD/S6/S6.pkl',\n",
    "    '/kaggle/input/wesad-wearable-stress-affect-detection-dataset/WESAD/S3/S3.pkl',\n",
    "    '/kaggle/input/wesad-wearable-stress-affect-detection-dataset/WESAD/S4/S4.pkl',\n",
    "    '/kaggle/input/wesad-wearable-stress-affect-detection-dataset/WESAD/S16/S16.pkl',\n",
    "    '/kaggle/input/wesad-wearable-stress-affect-detection-dataset/WESAD/S17/S17.pkl'\n",
    "]\n",
    "\n",
    "X_all_list = []\n",
    "y_all_list = []\n",
    "\n",
    "for file in file_paths:\n",
    "    with open(file, 'rb') as f:\n",
    "        data = pd.read_pickle(f)\n",
    "\n",
    "    wrist = data['signal']['wrist']\n",
    "    eda = wrist['EDA']\n",
    "    temp = wrist['TEMP']\n",
    "    acc = wrist['ACC']\n",
    "    labels = data['label']\n",
    "\n",
    "    # Resample Labels auf EDA-Länge\n",
    "    labels_resampled = resample(labels.astype(float), len(eda))\n",
    "    labels_resampled = np.round(labels_resampled).astype(int)\n",
    "\n",
    "    # ACC resamplen und alle Kanäle kombinieren\n",
    "    acc_resampled = resample(acc, len(eda))\n",
    "    X_raw = np.hstack([eda, temp, acc_resampled])  # shape: (n_samples, 5)\n",
    "\n",
    "    # Sliding Window\n",
    "    window_size = 384\n",
    "    step_size = 384\n",
    "\n",
    "    for start in range(0, len(X_raw) - window_size, step_size):\n",
    "        end = start + window_size\n",
    "        window = X_raw[start:end]\n",
    "        label_window = labels_resampled[start:end]\n",
    "\n",
    "        if set(np.unique(label_window)).issubset({1, 2}):\n",
    "            X_all_list.append(window)\n",
    "            majority_label = np.bincount(label_window).argmax()\n",
    "            y_all_list.append(majority_label)\n",
    "\n",
    "# In Arrays umwandeln\n",
    "X_all = np.array(X_all_list)                   # shape: (n_windows_total, 384, 5)\n",
    "y_all = (np.array(y_all_list) - 1).astype(int) # [1,2] → [0,1]\n",
    "\n",
    "print(f\"Datensätze: {X_all.shape}, Klassenverteilung: {np.bincount(y_all)}\")\n"
   ]
  },
  {
   "cell_type": "code",
   "execution_count": 23,
   "id": "e94b46e6",
   "metadata": {
    "execution": {
     "iopub.execute_input": "2025-09-19T11:14:26.600483Z",
     "iopub.status.busy": "2025-09-19T11:14:26.600157Z",
     "iopub.status.idle": "2025-09-19T11:14:26.615457Z",
     "shell.execute_reply": "2025-09-19T11:14:26.614628Z"
    },
    "papermill": {
     "duration": 0.027765,
     "end_time": "2025-09-19T11:14:26.616907",
     "exception": false,
     "start_time": "2025-09-19T11:14:26.589142",
     "status": "completed"
    },
    "tags": []
   },
   "outputs": [
    {
     "data": {
      "text/plain": [
       "array([[[ 9.22620000e-01,  3.35900000e+01,  5.57359754e+01,\n",
       "         -1.16405106e+01, -2.36790809e+01],\n",
       "        [ 9.02153000e-01,  3.35900000e+01,  5.90941376e+01,\n",
       "         -1.22361185e+01, -2.86766943e+01],\n",
       "        [ 8.98316000e-01,  3.35700000e+01,  5.96143522e+01,\n",
       "         -1.19007638e+01,  1.51951757e+00],\n",
       "        ...,\n",
       "        [ 1.00192900e+00,  3.33400000e+01,  6.20531689e+01,\n",
       "         -1.09214411e+01, -4.47238530e+00],\n",
       "        [ 1.00320800e+00,  3.33400000e+01,  6.21427682e+01,\n",
       "         -1.10735819e+01, -4.67169647e+00],\n",
       "        [ 1.00832500e+00,  3.33400000e+01,  6.18994900e+01,\n",
       "         -1.09335418e+01, -5.03437713e+00]],\n",
       "\n",
       "       [[ 8.87166600e+00,  3.47900000e+01,  2.00651808e+01,\n",
       "          5.46417869e+00,  6.02469766e+01],\n",
       "        [ 8.83968400e+00,  3.47900000e+01,  1.97015015e+01,\n",
       "          4.49243741e+00,  5.91979346e+01],\n",
       "        [ 8.81793800e+00,  3.47900000e+01,  2.02628546e+01,\n",
       "          5.03709956e+00,  5.94010583e+01],\n",
       "        ...,\n",
       "        [ 8.11995000e+00,  3.47100000e+01,  2.34782764e+01,\n",
       "         -3.29924238e+01,  4.52260419e+01],\n",
       "        [ 8.13785900e+00,  3.47300000e+01,  2.58948585e+01,\n",
       "         -3.33220260e+01,  4.77184515e+01],\n",
       "        [ 8.16856100e+00,  3.47300000e+01,  2.38215170e+01,\n",
       "         -3.32984940e+01,  4.59217465e+01]],\n",
       "\n",
       "       [[ 4.88425000e-01,  3.31800000e+01, -5.20746863e+01,\n",
       "         -8.85291751e-02,  3.77203938e+01],\n",
       "        [ 4.88425000e-01,  3.31800000e+01, -5.21544979e+01,\n",
       "         -8.23773835e-04,  3.77102109e+01],\n",
       "        [ 4.88425000e-01,  3.31800000e+01, -5.19777800e+01,\n",
       "          1.51160398e-02,  3.76703291e+01],\n",
       "        ...,\n",
       "        [ 4.06424000e-01,  3.31300000e+01, -4.24991397e+01,\n",
       "         -1.67216609e+00,  4.78970420e+01],\n",
       "        [ 4.05143000e-01,  3.31300000e+01, -4.20388852e+01,\n",
       "         -1.90983512e+00,  4.76983921e+01],\n",
       "        [ 4.06424000e-01,  3.31300000e+01, -4.24396938e+01,\n",
       "         -1.79943419e+00,  4.79169449e+01]],\n",
       "\n",
       "       ...,\n",
       "\n",
       "       [[ 7.50370000e+00,  3.46800000e+01,  3.19955080e+01,\n",
       "         -1.04174056e+01,  5.04844697e+01],\n",
       "        [ 7.51265500e+00,  3.46800000e+01,  4.58986760e+01,\n",
       "         -1.02169331e+01,  3.83837209e+01],\n",
       "        [ 7.53184400e+00,  3.46800000e+01,  6.49761849e+01,\n",
       "         -1.43533795e+01, -8.33806552e+00],\n",
       "        ...,\n",
       "        [ 6.73215000e+00,  3.47500000e+01,  1.95814878e+01,\n",
       "         -3.72249865e+01,  4.63176327e+01],\n",
       "        [ 6.72831200e+00,  3.47700000e+01,  2.24206649e+01,\n",
       "         -3.74960204e+01,  4.34288643e+01],\n",
       "        [ 6.74110500e+00,  3.47700000e+01,  2.83296832e+01,\n",
       "         -3.97592339e+01,  3.99955513e+01]],\n",
       "\n",
       "       [[ 1.14008000e+00,  3.29700000e+01,  5.99493307e+01,\n",
       "         -8.95378576e+00,  1.70198936e+01],\n",
       "        [ 1.13240500e+00,  3.29700000e+01,  6.00507629e+01,\n",
       "         -9.04582865e+00,  1.67373527e+01],\n",
       "        [ 1.13496300e+00,  3.29300000e+01,  5.99491086e+01,\n",
       "         -8.95458455e+00,  1.68190425e+01],\n",
       "        ...,\n",
       "        [ 1.16054700e+00,  3.29300000e+01,  6.00164615e+01,\n",
       "         -1.00236127e+01,  1.59194787e+01],\n",
       "        [ 1.16822200e+00,  3.29500000e+01,  5.99830590e+01,\n",
       "         -1.00399240e+01,  1.60765814e+01],\n",
       "        [ 1.17078000e+00,  3.29500000e+01,  6.00172963e+01,\n",
       "         -1.01389164e+01,  1.59416382e+01]],\n",
       "\n",
       "       [[ 2.04256400e+00,  3.11100000e+01,  5.58061276e+01,\n",
       "         -2.18247102e+01,  1.92503371e+01],\n",
       "        [ 2.08094600e+00,  3.11100000e+01,  5.42594343e+01,\n",
       "         -2.34593531e+01,  1.72933455e+01],\n",
       "        [ 2.10653400e+00,  3.11100000e+01,  5.61058994e+01,\n",
       "         -2.18419882e+01,  1.81915491e+01],\n",
       "        ...,\n",
       "        [ 2.32403300e+00,  3.10700000e+01,  4.02012843e+01,\n",
       "         -4.59164229e+01,  1.28266936e+01],\n",
       "        [ 2.31763600e+00,  3.10700000e+01,  4.03951186e+01,\n",
       "         -4.57506256e+01,  1.45642682e+01],\n",
       "        [ 2.30996000e+00,  3.10700000e+01,  4.00121548e+01,\n",
       "         -4.54984746e+01,  1.47620719e+01]]])"
      ]
     },
     "execution_count": 23,
     "metadata": {},
     "output_type": "execute_result"
    }
   ],
   "source": [
    "y_cnn = (y_all - 1).astype(int)  # [1, 2] → [0, 1]\n",
    "X_train, X_test, y_train, y_test = train_test_split(\n",
    "    X_all, y_all, test_size=0.2, stratify=y_cnn, random_state=42\n",
    ")\n",
    "X_train"
   ]
  },
  {
   "cell_type": "code",
   "execution_count": 24,
   "id": "2df7094d",
   "metadata": {
    "execution": {
     "iopub.execute_input": "2025-09-19T11:14:26.638301Z",
     "iopub.status.busy": "2025-09-19T11:14:26.638030Z",
     "iopub.status.idle": "2025-09-19T11:14:43.354434Z",
     "shell.execute_reply": "2025-09-19T11:14:43.353624Z"
    },
    "papermill": {
     "duration": 16.728529,
     "end_time": "2025-09-19T11:14:43.355733",
     "exception": false,
     "start_time": "2025-09-19T11:14:26.627204",
     "status": "completed"
    },
    "tags": []
   },
   "outputs": [
    {
     "name": "stderr",
     "output_type": "stream",
     "text": [
      "2025-09-19 11:14:28.711479: E external/local_xla/xla/stream_executor/cuda/cuda_fft.cc:477] Unable to register cuFFT factory: Attempting to register factory for plugin cuFFT when one has already been registered\n",
      "WARNING: All log messages before absl::InitializeLog() is called are written to STDERR\n",
      "E0000 00:00:1758280468.937938      13 cuda_dnn.cc:8310] Unable to register cuDNN factory: Attempting to register factory for plugin cuDNN when one has already been registered\n",
      "E0000 00:00:1758280469.004989      13 cuda_blas.cc:1418] Unable to register cuBLAS factory: Attempting to register factory for plugin cuBLAS when one has already been registered\n",
      "/usr/local/lib/python3.11/dist-packages/keras/src/layers/convolutional/base_conv.py:107: UserWarning: Do not pass an `input_shape`/`input_dim` argument to a layer. When using Sequential models, prefer using an `Input(shape)` object as the first layer in the model instead.\n",
      "  super().__init__(activity_regularizer=activity_regularizer, **kwargs)\n",
      "2025-09-19 11:14:43.238656: E external/local_xla/xla/stream_executor/cuda/cuda_driver.cc:152] failed call to cuInit: INTERNAL: CUDA error: Failed call to cuInit: UNKNOWN ERROR (303)\n"
     ]
    },
    {
     "data": {
      "text/html": [
       "<pre style=\"white-space:pre;overflow-x:auto;line-height:normal;font-family:Menlo,'DejaVu Sans Mono',consolas,'Courier New',monospace\"><span style=\"font-weight: bold\">Model: \"sequential\"</span>\n",
       "</pre>\n"
      ],
      "text/plain": [
       "\u001b[1mModel: \"sequential\"\u001b[0m\n"
      ]
     },
     "metadata": {},
     "output_type": "display_data"
    },
    {
     "data": {
      "text/html": [
       "<pre style=\"white-space:pre;overflow-x:auto;line-height:normal;font-family:Menlo,'DejaVu Sans Mono',consolas,'Courier New',monospace\">┏━━━━━━━━━━━━━━━━━━━━━━━━━━━━━━━━━┳━━━━━━━━━━━━━━━━━━━━━━━━┳━━━━━━━━━━━━━━━┓\n",
       "┃<span style=\"font-weight: bold\"> Layer (type)                    </span>┃<span style=\"font-weight: bold\"> Output Shape           </span>┃<span style=\"font-weight: bold\">       Param # </span>┃\n",
       "┡━━━━━━━━━━━━━━━━━━━━━━━━━━━━━━━━━╇━━━━━━━━━━━━━━━━━━━━━━━━╇━━━━━━━━━━━━━━━┩\n",
       "│ conv1d (<span style=\"color: #0087ff; text-decoration-color: #0087ff\">Conv1D</span>)                 │ (<span style=\"color: #00d7ff; text-decoration-color: #00d7ff\">None</span>, <span style=\"color: #00af00; text-decoration-color: #00af00\">380</span>, <span style=\"color: #00af00; text-decoration-color: #00af00\">32</span>)        │           <span style=\"color: #00af00; text-decoration-color: #00af00\">832</span> │\n",
       "├─────────────────────────────────┼────────────────────────┼───────────────┤\n",
       "│ max_pooling1d (<span style=\"color: #0087ff; text-decoration-color: #0087ff\">MaxPooling1D</span>)    │ (<span style=\"color: #00d7ff; text-decoration-color: #00d7ff\">None</span>, <span style=\"color: #00af00; text-decoration-color: #00af00\">190</span>, <span style=\"color: #00af00; text-decoration-color: #00af00\">32</span>)        │             <span style=\"color: #00af00; text-decoration-color: #00af00\">0</span> │\n",
       "├─────────────────────────────────┼────────────────────────┼───────────────┤\n",
       "│ conv1d_1 (<span style=\"color: #0087ff; text-decoration-color: #0087ff\">Conv1D</span>)               │ (<span style=\"color: #00d7ff; text-decoration-color: #00d7ff\">None</span>, <span style=\"color: #00af00; text-decoration-color: #00af00\">188</span>, <span style=\"color: #00af00; text-decoration-color: #00af00\">64</span>)        │         <span style=\"color: #00af00; text-decoration-color: #00af00\">6,208</span> │\n",
       "├─────────────────────────────────┼────────────────────────┼───────────────┤\n",
       "│ max_pooling1d_1 (<span style=\"color: #0087ff; text-decoration-color: #0087ff\">MaxPooling1D</span>)  │ (<span style=\"color: #00d7ff; text-decoration-color: #00d7ff\">None</span>, <span style=\"color: #00af00; text-decoration-color: #00af00\">94</span>, <span style=\"color: #00af00; text-decoration-color: #00af00\">64</span>)         │             <span style=\"color: #00af00; text-decoration-color: #00af00\">0</span> │\n",
       "├─────────────────────────────────┼────────────────────────┼───────────────┤\n",
       "│ flatten (<span style=\"color: #0087ff; text-decoration-color: #0087ff\">Flatten</span>)               │ (<span style=\"color: #00d7ff; text-decoration-color: #00d7ff\">None</span>, <span style=\"color: #00af00; text-decoration-color: #00af00\">6016</span>)           │             <span style=\"color: #00af00; text-decoration-color: #00af00\">0</span> │\n",
       "├─────────────────────────────────┼────────────────────────┼───────────────┤\n",
       "│ dense (<span style=\"color: #0087ff; text-decoration-color: #0087ff\">Dense</span>)                   │ (<span style=\"color: #00d7ff; text-decoration-color: #00d7ff\">None</span>, <span style=\"color: #00af00; text-decoration-color: #00af00\">64</span>)             │       <span style=\"color: #00af00; text-decoration-color: #00af00\">385,088</span> │\n",
       "├─────────────────────────────────┼────────────────────────┼───────────────┤\n",
       "│ dropout (<span style=\"color: #0087ff; text-decoration-color: #0087ff\">Dropout</span>)               │ (<span style=\"color: #00d7ff; text-decoration-color: #00d7ff\">None</span>, <span style=\"color: #00af00; text-decoration-color: #00af00\">64</span>)             │             <span style=\"color: #00af00; text-decoration-color: #00af00\">0</span> │\n",
       "├─────────────────────────────────┼────────────────────────┼───────────────┤\n",
       "│ dense_1 (<span style=\"color: #0087ff; text-decoration-color: #0087ff\">Dense</span>)                 │ (<span style=\"color: #00d7ff; text-decoration-color: #00d7ff\">None</span>, <span style=\"color: #00af00; text-decoration-color: #00af00\">1</span>)              │            <span style=\"color: #00af00; text-decoration-color: #00af00\">65</span> │\n",
       "└─────────────────────────────────┴────────────────────────┴───────────────┘\n",
       "</pre>\n"
      ],
      "text/plain": [
       "┏━━━━━━━━━━━━━━━━━━━━━━━━━━━━━━━━━┳━━━━━━━━━━━━━━━━━━━━━━━━┳━━━━━━━━━━━━━━━┓\n",
       "┃\u001b[1m \u001b[0m\u001b[1mLayer (type)                   \u001b[0m\u001b[1m \u001b[0m┃\u001b[1m \u001b[0m\u001b[1mOutput Shape          \u001b[0m\u001b[1m \u001b[0m┃\u001b[1m \u001b[0m\u001b[1m      Param #\u001b[0m\u001b[1m \u001b[0m┃\n",
       "┡━━━━━━━━━━━━━━━━━━━━━━━━━━━━━━━━━╇━━━━━━━━━━━━━━━━━━━━━━━━╇━━━━━━━━━━━━━━━┩\n",
       "│ conv1d (\u001b[38;5;33mConv1D\u001b[0m)                 │ (\u001b[38;5;45mNone\u001b[0m, \u001b[38;5;34m380\u001b[0m, \u001b[38;5;34m32\u001b[0m)        │           \u001b[38;5;34m832\u001b[0m │\n",
       "├─────────────────────────────────┼────────────────────────┼───────────────┤\n",
       "│ max_pooling1d (\u001b[38;5;33mMaxPooling1D\u001b[0m)    │ (\u001b[38;5;45mNone\u001b[0m, \u001b[38;5;34m190\u001b[0m, \u001b[38;5;34m32\u001b[0m)        │             \u001b[38;5;34m0\u001b[0m │\n",
       "├─────────────────────────────────┼────────────────────────┼───────────────┤\n",
       "│ conv1d_1 (\u001b[38;5;33mConv1D\u001b[0m)               │ (\u001b[38;5;45mNone\u001b[0m, \u001b[38;5;34m188\u001b[0m, \u001b[38;5;34m64\u001b[0m)        │         \u001b[38;5;34m6,208\u001b[0m │\n",
       "├─────────────────────────────────┼────────────────────────┼───────────────┤\n",
       "│ max_pooling1d_1 (\u001b[38;5;33mMaxPooling1D\u001b[0m)  │ (\u001b[38;5;45mNone\u001b[0m, \u001b[38;5;34m94\u001b[0m, \u001b[38;5;34m64\u001b[0m)         │             \u001b[38;5;34m0\u001b[0m │\n",
       "├─────────────────────────────────┼────────────────────────┼───────────────┤\n",
       "│ flatten (\u001b[38;5;33mFlatten\u001b[0m)               │ (\u001b[38;5;45mNone\u001b[0m, \u001b[38;5;34m6016\u001b[0m)           │             \u001b[38;5;34m0\u001b[0m │\n",
       "├─────────────────────────────────┼────────────────────────┼───────────────┤\n",
       "│ dense (\u001b[38;5;33mDense\u001b[0m)                   │ (\u001b[38;5;45mNone\u001b[0m, \u001b[38;5;34m64\u001b[0m)             │       \u001b[38;5;34m385,088\u001b[0m │\n",
       "├─────────────────────────────────┼────────────────────────┼───────────────┤\n",
       "│ dropout (\u001b[38;5;33mDropout\u001b[0m)               │ (\u001b[38;5;45mNone\u001b[0m, \u001b[38;5;34m64\u001b[0m)             │             \u001b[38;5;34m0\u001b[0m │\n",
       "├─────────────────────────────────┼────────────────────────┼───────────────┤\n",
       "│ dense_1 (\u001b[38;5;33mDense\u001b[0m)                 │ (\u001b[38;5;45mNone\u001b[0m, \u001b[38;5;34m1\u001b[0m)              │            \u001b[38;5;34m65\u001b[0m │\n",
       "└─────────────────────────────────┴────────────────────────┴───────────────┘\n"
      ]
     },
     "metadata": {},
     "output_type": "display_data"
    },
    {
     "data": {
      "text/html": [
       "<pre style=\"white-space:pre;overflow-x:auto;line-height:normal;font-family:Menlo,'DejaVu Sans Mono',consolas,'Courier New',monospace\"><span style=\"font-weight: bold\"> Total params: </span><span style=\"color: #00af00; text-decoration-color: #00af00\">392,193</span> (1.50 MB)\n",
       "</pre>\n"
      ],
      "text/plain": [
       "\u001b[1m Total params: \u001b[0m\u001b[38;5;34m392,193\u001b[0m (1.50 MB)\n"
      ]
     },
     "metadata": {},
     "output_type": "display_data"
    },
    {
     "data": {
      "text/html": [
       "<pre style=\"white-space:pre;overflow-x:auto;line-height:normal;font-family:Menlo,'DejaVu Sans Mono',consolas,'Courier New',monospace\"><span style=\"font-weight: bold\"> Trainable params: </span><span style=\"color: #00af00; text-decoration-color: #00af00\">392,193</span> (1.50 MB)\n",
       "</pre>\n"
      ],
      "text/plain": [
       "\u001b[1m Trainable params: \u001b[0m\u001b[38;5;34m392,193\u001b[0m (1.50 MB)\n"
      ]
     },
     "metadata": {},
     "output_type": "display_data"
    },
    {
     "data": {
      "text/html": [
       "<pre style=\"white-space:pre;overflow-x:auto;line-height:normal;font-family:Menlo,'DejaVu Sans Mono',consolas,'Courier New',monospace\"><span style=\"font-weight: bold\"> Non-trainable params: </span><span style=\"color: #00af00; text-decoration-color: #00af00\">0</span> (0.00 B)\n",
       "</pre>\n"
      ],
      "text/plain": [
       "\u001b[1m Non-trainable params: \u001b[0m\u001b[38;5;34m0\u001b[0m (0.00 B)\n"
      ]
     },
     "metadata": {},
     "output_type": "display_data"
    }
   ],
   "source": [
    "import tensorflow as tf\n",
    "from tensorflow.keras import layers, models\n",
    "\n",
    "model = models.Sequential([\n",
    "    layers.Conv1D(32, kernel_size=5, activation='relu', input_shape=(384, 5)),\n",
    "    layers.MaxPooling1D(pool_size=2),\n",
    "    layers.Conv1D(64, kernel_size=3, activation='relu'),\n",
    "    layers.MaxPooling1D(pool_size=2),\n",
    "    layers.Flatten(),\n",
    "    layers.Dense(64, activation='relu'),\n",
    "    layers.Dropout(0.3),\n",
    "    layers.Dense(1, activation='sigmoid')  # binary classification\n",
    "])\n",
    "\n",
    "model.compile(optimizer='adam', loss='binary_crossentropy', metrics=['accuracy'])\n",
    "model.summary()\n"
   ]
  },
  {
   "cell_type": "code",
   "execution_count": 25,
   "id": "19a825e8",
   "metadata": {
    "execution": {
     "iopub.execute_input": "2025-09-19T11:14:43.378385Z",
     "iopub.status.busy": "2025-09-19T11:14:43.377826Z",
     "iopub.status.idle": "2025-09-19T11:14:54.392222Z",
     "shell.execute_reply": "2025-09-19T11:14:54.391231Z"
    },
    "papermill": {
     "duration": 11.027453,
     "end_time": "2025-09-19T11:14:54.393916",
     "exception": false,
     "start_time": "2025-09-19T11:14:43.366463",
     "status": "completed"
    },
    "tags": []
   },
   "outputs": [
    {
     "name": "stdout",
     "output_type": "stream",
     "text": [
      "Epoch 1/50\n",
      "\u001b[1m5/5\u001b[0m \u001b[32m━━━━━━━━━━━━━━━━━━━━\u001b[0m\u001b[37m\u001b[0m \u001b[1m3s\u001b[0m 111ms/step - accuracy: 0.6359 - loss: 5.6820 - val_accuracy: 0.7297 - val_loss: 1.8296\n",
      "Epoch 2/50\n",
      "\u001b[1m5/5\u001b[0m \u001b[32m━━━━━━━━━━━━━━━━━━━━\u001b[0m\u001b[37m\u001b[0m \u001b[1m0s\u001b[0m 31ms/step - accuracy: 0.7843 - loss: 4.1923 - val_accuracy: 0.8649 - val_loss: 1.4169\n",
      "Epoch 3/50\n",
      "\u001b[1m5/5\u001b[0m \u001b[32m━━━━━━━━━━━━━━━━━━━━\u001b[0m\u001b[37m\u001b[0m \u001b[1m0s\u001b[0m 33ms/step - accuracy: 0.7386 - loss: 2.4382 - val_accuracy: 0.7297 - val_loss: 2.0824\n",
      "Epoch 4/50\n",
      "\u001b[1m5/5\u001b[0m \u001b[32m━━━━━━━━━━━━━━━━━━━━\u001b[0m\u001b[37m\u001b[0m \u001b[1m0s\u001b[0m 32ms/step - accuracy: 0.8082 - loss: 1.0423 - val_accuracy: 0.7027 - val_loss: 1.3431\n",
      "Epoch 5/50\n",
      "\u001b[1m5/5\u001b[0m \u001b[32m━━━━━━━━━━━━━━━━━━━━\u001b[0m\u001b[37m\u001b[0m \u001b[1m0s\u001b[0m 31ms/step - accuracy: 0.8464 - loss: 0.3829 - val_accuracy: 0.8108 - val_loss: 0.5932\n",
      "Epoch 6/50\n",
      "\u001b[1m5/5\u001b[0m \u001b[32m━━━━━━━━━━━━━━━━━━━━\u001b[0m\u001b[37m\u001b[0m \u001b[1m0s\u001b[0m 35ms/step - accuracy: 0.8475 - loss: 0.2620 - val_accuracy: 0.8378 - val_loss: 0.4231\n",
      "Epoch 7/50\n",
      "\u001b[1m5/5\u001b[0m \u001b[32m━━━━━━━━━━━━━━━━━━━━\u001b[0m\u001b[37m\u001b[0m \u001b[1m0s\u001b[0m 31ms/step - accuracy: 0.8976 - loss: 0.2526 - val_accuracy: 0.8919 - val_loss: 0.3946\n",
      "Epoch 8/50\n",
      "\u001b[1m5/5\u001b[0m \u001b[32m━━━━━━━━━━━━━━━━━━━━\u001b[0m\u001b[37m\u001b[0m \u001b[1m0s\u001b[0m 31ms/step - accuracy: 0.9029 - loss: 0.2250 - val_accuracy: 0.8649 - val_loss: 0.3987\n",
      "Epoch 9/50\n",
      "\u001b[1m5/5\u001b[0m \u001b[32m━━━━━━━━━━━━━━━━━━━━\u001b[0m\u001b[37m\u001b[0m \u001b[1m0s\u001b[0m 31ms/step - accuracy: 0.8890 - loss: 0.1958 - val_accuracy: 0.8649 - val_loss: 0.4548\n",
      "Epoch 10/50\n",
      "\u001b[1m5/5\u001b[0m \u001b[32m━━━━━━━━━━━━━━━━━━━━\u001b[0m\u001b[37m\u001b[0m \u001b[1m0s\u001b[0m 31ms/step - accuracy: 0.9214 - loss: 0.1829 - val_accuracy: 0.8378 - val_loss: 0.5234\n",
      "Epoch 11/50\n",
      "\u001b[1m5/5\u001b[0m \u001b[32m━━━━━━━━━━━━━━━━━━━━\u001b[0m\u001b[37m\u001b[0m \u001b[1m0s\u001b[0m 31ms/step - accuracy: 0.8854 - loss: 0.1893 - val_accuracy: 0.8378 - val_loss: 0.5358\n",
      "Epoch 12/50\n",
      "\u001b[1m5/5\u001b[0m \u001b[32m━━━━━━━━━━━━━━━━━━━━\u001b[0m\u001b[37m\u001b[0m \u001b[1m0s\u001b[0m 31ms/step - accuracy: 0.9080 - loss: 0.1837 - val_accuracy: 0.8649 - val_loss: 0.5137\n",
      "Epoch 13/50\n",
      "\u001b[1m5/5\u001b[0m \u001b[32m━━━━━━━━━━━━━━━━━━━━\u001b[0m\u001b[37m\u001b[0m \u001b[1m0s\u001b[0m 31ms/step - accuracy: 0.9576 - loss: 0.1206 - val_accuracy: 0.8649 - val_loss: 0.5278\n",
      "Epoch 14/50\n",
      "\u001b[1m5/5\u001b[0m \u001b[32m━━━━━━━━━━━━━━━━━━━━\u001b[0m\u001b[37m\u001b[0m \u001b[1m0s\u001b[0m 31ms/step - accuracy: 0.9282 - loss: 0.1754 - val_accuracy: 0.8378 - val_loss: 0.5746\n",
      "Epoch 15/50\n",
      "\u001b[1m5/5\u001b[0m \u001b[32m━━━━━━━━━━━━━━━━━━━━\u001b[0m\u001b[37m\u001b[0m \u001b[1m0s\u001b[0m 31ms/step - accuracy: 0.8882 - loss: 0.1729 - val_accuracy: 0.8108 - val_loss: 0.6171\n",
      "Epoch 16/50\n",
      "\u001b[1m5/5\u001b[0m \u001b[32m━━━━━━━━━━━━━━━━━━━━\u001b[0m\u001b[37m\u001b[0m \u001b[1m0s\u001b[0m 30ms/step - accuracy: 0.9297 - loss: 0.1404 - val_accuracy: 0.8108 - val_loss: 0.6272\n",
      "Epoch 17/50\n",
      "\u001b[1m5/5\u001b[0m \u001b[32m━━━━━━━━━━━━━━━━━━━━\u001b[0m\u001b[37m\u001b[0m \u001b[1m0s\u001b[0m 30ms/step - accuracy: 0.9488 - loss: 0.1137 - val_accuracy: 0.8649 - val_loss: 0.6537\n",
      "Epoch 18/50\n",
      "\u001b[1m5/5\u001b[0m \u001b[32m━━━━━━━━━━━━━━━━━━━━\u001b[0m\u001b[37m\u001b[0m \u001b[1m0s\u001b[0m 29ms/step - accuracy: 0.9528 - loss: 0.1034 - val_accuracy: 0.8649 - val_loss: 0.7158\n",
      "Epoch 19/50\n",
      "\u001b[1m5/5\u001b[0m \u001b[32m━━━━━━━━━━━━━━━━━━━━\u001b[0m\u001b[37m\u001b[0m \u001b[1m0s\u001b[0m 30ms/step - accuracy: 0.9452 - loss: 0.1282 - val_accuracy: 0.7838 - val_loss: 0.8170\n",
      "Epoch 20/50\n",
      "\u001b[1m5/5\u001b[0m \u001b[32m━━━━━━━━━━━━━━━━━━━━\u001b[0m\u001b[37m\u001b[0m \u001b[1m0s\u001b[0m 30ms/step - accuracy: 0.9408 - loss: 0.1059 - val_accuracy: 0.8108 - val_loss: 0.7664\n",
      "Epoch 21/50\n",
      "\u001b[1m5/5\u001b[0m \u001b[32m━━━━━━━━━━━━━━━━━━━━\u001b[0m\u001b[37m\u001b[0m \u001b[1m0s\u001b[0m 30ms/step - accuracy: 0.9336 - loss: 0.1222 - val_accuracy: 0.8108 - val_loss: 0.6491\n",
      "Epoch 22/50\n",
      "\u001b[1m5/5\u001b[0m \u001b[32m━━━━━━━━━━━━━━━━━━━━\u001b[0m\u001b[37m\u001b[0m \u001b[1m0s\u001b[0m 30ms/step - accuracy: 0.9359 - loss: 0.1176 - val_accuracy: 0.8378 - val_loss: 0.6663\n",
      "Epoch 23/50\n",
      "\u001b[1m5/5\u001b[0m \u001b[32m━━━━━━━━━━━━━━━━━━━━\u001b[0m\u001b[37m\u001b[0m \u001b[1m0s\u001b[0m 29ms/step - accuracy: 0.9294 - loss: 0.1087 - val_accuracy: 0.8108 - val_loss: 0.7021\n",
      "Epoch 24/50\n",
      "\u001b[1m5/5\u001b[0m \u001b[32m━━━━━━━━━━━━━━━━━━━━\u001b[0m\u001b[37m\u001b[0m \u001b[1m0s\u001b[0m 30ms/step - accuracy: 0.9735 - loss: 0.0630 - val_accuracy: 0.8378 - val_loss: 0.7279\n",
      "Epoch 25/50\n",
      "\u001b[1m5/5\u001b[0m \u001b[32m━━━━━━━━━━━━━━━━━━━━\u001b[0m\u001b[37m\u001b[0m \u001b[1m0s\u001b[0m 30ms/step - accuracy: 0.9821 - loss: 0.0683 - val_accuracy: 0.8378 - val_loss: 0.7260\n",
      "Epoch 26/50\n",
      "\u001b[1m5/5\u001b[0m \u001b[32m━━━━━━━━━━━━━━━━━━━━\u001b[0m\u001b[37m\u001b[0m \u001b[1m0s\u001b[0m 30ms/step - accuracy: 0.9470 - loss: 0.0762 - val_accuracy: 0.8378 - val_loss: 0.7041\n",
      "Epoch 27/50\n",
      "\u001b[1m5/5\u001b[0m \u001b[32m━━━━━━━━━━━━━━━━━━━━\u001b[0m\u001b[37m\u001b[0m \u001b[1m0s\u001b[0m 30ms/step - accuracy: 0.9620 - loss: 0.0905 - val_accuracy: 0.8108 - val_loss: 0.6417\n",
      "Epoch 28/50\n",
      "\u001b[1m5/5\u001b[0m \u001b[32m━━━━━━━━━━━━━━━━━━━━\u001b[0m\u001b[37m\u001b[0m \u001b[1m0s\u001b[0m 30ms/step - accuracy: 0.9541 - loss: 0.0758 - val_accuracy: 0.8108 - val_loss: 0.6801\n",
      "Epoch 29/50\n",
      "\u001b[1m5/5\u001b[0m \u001b[32m━━━━━━━━━━━━━━━━━━━━\u001b[0m\u001b[37m\u001b[0m \u001b[1m0s\u001b[0m 30ms/step - accuracy: 0.9622 - loss: 0.0659 - val_accuracy: 0.8378 - val_loss: 0.7743\n",
      "Epoch 30/50\n",
      "\u001b[1m5/5\u001b[0m \u001b[32m━━━━━━━━━━━━━━━━━━━━\u001b[0m\u001b[37m\u001b[0m \u001b[1m0s\u001b[0m 30ms/step - accuracy: 0.9813 - loss: 0.0544 - val_accuracy: 0.8108 - val_loss: 0.7559\n",
      "Epoch 31/50\n",
      "\u001b[1m5/5\u001b[0m \u001b[32m━━━━━━━━━━━━━━━━━━━━\u001b[0m\u001b[37m\u001b[0m \u001b[1m0s\u001b[0m 30ms/step - accuracy: 0.9724 - loss: 0.0582 - val_accuracy: 0.8108 - val_loss: 0.7708\n",
      "Epoch 32/50\n",
      "\u001b[1m5/5\u001b[0m \u001b[32m━━━━━━━━━━━━━━━━━━━━\u001b[0m\u001b[37m\u001b[0m \u001b[1m0s\u001b[0m 30ms/step - accuracy: 0.9659 - loss: 0.0469 - val_accuracy: 0.8108 - val_loss: 0.7585\n",
      "Epoch 33/50\n",
      "\u001b[1m5/5\u001b[0m \u001b[32m━━━━━━━━━━━━━━━━━━━━\u001b[0m\u001b[37m\u001b[0m \u001b[1m0s\u001b[0m 31ms/step - accuracy: 0.9630 - loss: 0.0528 - val_accuracy: 0.8108 - val_loss: 0.7204\n",
      "Epoch 34/50\n",
      "\u001b[1m5/5\u001b[0m \u001b[32m━━━━━━━━━━━━━━━━━━━━\u001b[0m\u001b[37m\u001b[0m \u001b[1m0s\u001b[0m 30ms/step - accuracy: 0.9832 - loss: 0.0597 - val_accuracy: 0.8108 - val_loss: 0.6982\n",
      "Epoch 35/50\n",
      "\u001b[1m5/5\u001b[0m \u001b[32m━━━━━━━━━━━━━━━━━━━━\u001b[0m\u001b[37m\u001b[0m \u001b[1m0s\u001b[0m 31ms/step - accuracy: 0.9656 - loss: 0.0884 - val_accuracy: 0.8108 - val_loss: 0.7452\n",
      "Epoch 36/50\n",
      "\u001b[1m5/5\u001b[0m \u001b[32m━━━━━━━━━━━━━━━━━━━━\u001b[0m\u001b[37m\u001b[0m \u001b[1m0s\u001b[0m 32ms/step - accuracy: 0.9742 - loss: 0.0490 - val_accuracy: 0.8108 - val_loss: 0.7540\n",
      "Epoch 37/50\n",
      "\u001b[1m5/5\u001b[0m \u001b[32m━━━━━━━━━━━━━━━━━━━━\u001b[0m\u001b[37m\u001b[0m \u001b[1m0s\u001b[0m 33ms/step - accuracy: 0.9831 - loss: 0.0453 - val_accuracy: 0.8108 - val_loss: 0.7054\n",
      "Epoch 38/50\n",
      "\u001b[1m5/5\u001b[0m \u001b[32m━━━━━━━━━━━━━━━━━━━━\u001b[0m\u001b[37m\u001b[0m \u001b[1m0s\u001b[0m 30ms/step - accuracy: 0.9722 - loss: 0.0460 - val_accuracy: 0.8108 - val_loss: 0.7692\n",
      "Epoch 39/50\n",
      "\u001b[1m5/5\u001b[0m \u001b[32m━━━━━━━━━━━━━━━━━━━━\u001b[0m\u001b[37m\u001b[0m \u001b[1m0s\u001b[0m 30ms/step - accuracy: 0.9779 - loss: 0.0458 - val_accuracy: 0.8108 - val_loss: 0.8354\n",
      "Epoch 40/50\n",
      "\u001b[1m5/5\u001b[0m \u001b[32m━━━━━━━━━━━━━━━━━━━━\u001b[0m\u001b[37m\u001b[0m \u001b[1m0s\u001b[0m 30ms/step - accuracy: 0.9766 - loss: 0.0515 - val_accuracy: 0.8108 - val_loss: 0.8384\n",
      "Epoch 41/50\n",
      "\u001b[1m5/5\u001b[0m \u001b[32m━━━━━━━━━━━━━━━━━━━━\u001b[0m\u001b[37m\u001b[0m \u001b[1m0s\u001b[0m 30ms/step - accuracy: 0.9677 - loss: 0.0455 - val_accuracy: 0.8108 - val_loss: 0.8403\n",
      "Epoch 42/50\n",
      "\u001b[1m5/5\u001b[0m \u001b[32m━━━━━━━━━━━━━━━━━━━━\u001b[0m\u001b[37m\u001b[0m \u001b[1m0s\u001b[0m 30ms/step - accuracy: 0.9761 - loss: 0.0327 - val_accuracy: 0.8108 - val_loss: 0.8994\n",
      "Epoch 43/50\n",
      "\u001b[1m5/5\u001b[0m \u001b[32m━━━━━━━━━━━━━━━━━━━━\u001b[0m\u001b[37m\u001b[0m \u001b[1m0s\u001b[0m 30ms/step - accuracy: 0.9460 - loss: 0.0646 - val_accuracy: 0.8378 - val_loss: 0.9491\n",
      "Epoch 44/50\n",
      "\u001b[1m5/5\u001b[0m \u001b[32m━━━━━━━━━━━━━━━━━━━━\u001b[0m\u001b[37m\u001b[0m \u001b[1m0s\u001b[0m 30ms/step - accuracy: 1.0000 - loss: 0.0349 - val_accuracy: 0.8108 - val_loss: 0.8003\n",
      "Epoch 45/50\n",
      "\u001b[1m5/5\u001b[0m \u001b[32m━━━━━━━━━━━━━━━━━━━━\u001b[0m\u001b[37m\u001b[0m \u001b[1m0s\u001b[0m 30ms/step - accuracy: 0.9831 - loss: 0.0490 - val_accuracy: 0.8108 - val_loss: 0.7588\n",
      "Epoch 46/50\n",
      "\u001b[1m5/5\u001b[0m \u001b[32m━━━━━━━━━━━━━━━━━━━━\u001b[0m\u001b[37m\u001b[0m \u001b[1m0s\u001b[0m 30ms/step - accuracy: 0.9656 - loss: 0.0499 - val_accuracy: 0.8108 - val_loss: 0.9352\n",
      "Epoch 47/50\n",
      "\u001b[1m5/5\u001b[0m \u001b[32m━━━━━━━━━━━━━━━━━━━━\u001b[0m\u001b[37m\u001b[0m \u001b[1m0s\u001b[0m 30ms/step - accuracy: 0.9946 - loss: 0.0277 - val_accuracy: 0.8108 - val_loss: 1.0163\n",
      "Epoch 48/50\n",
      "\u001b[1m5/5\u001b[0m \u001b[32m━━━━━━━━━━━━━━━━━━━━\u001b[0m\u001b[37m\u001b[0m \u001b[1m0s\u001b[0m 30ms/step - accuracy: 0.9946 - loss: 0.0349 - val_accuracy: 0.8378 - val_loss: 0.9878\n",
      "Epoch 49/50\n",
      "\u001b[1m5/5\u001b[0m \u001b[32m━━━━━━━━━━━━━━━━━━━━\u001b[0m\u001b[37m\u001b[0m \u001b[1m0s\u001b[0m 30ms/step - accuracy: 0.9808 - loss: 0.0420 - val_accuracy: 0.8108 - val_loss: 0.8907\n",
      "Epoch 50/50\n",
      "\u001b[1m5/5\u001b[0m \u001b[32m━━━━━━━━━━━━━━━━━━━━\u001b[0m\u001b[37m\u001b[0m \u001b[1m0s\u001b[0m 30ms/step - accuracy: 0.9624 - loss: 0.0471 - val_accuracy: 0.8108 - val_loss: 0.9098\n"
     ]
    },
    {
     "data": {
      "text/plain": [
       "<keras.src.callbacks.history.History at 0x7bc391767f90>"
      ]
     },
     "execution_count": 25,
     "metadata": {},
     "output_type": "execute_result"
    }
   ],
   "source": [
    "model.fit(X_train, y_train, epochs=50, batch_size=32, validation_split=0.2)\n"
   ]
  },
  {
   "cell_type": "code",
   "execution_count": 26,
   "id": "42337b04",
   "metadata": {
    "execution": {
     "iopub.execute_input": "2025-09-19T11:14:54.437517Z",
     "iopub.status.busy": "2025-09-19T11:14:54.437176Z",
     "iopub.status.idle": "2025-09-19T11:14:54.505455Z",
     "shell.execute_reply": "2025-09-19T11:14:54.504611Z"
    },
    "papermill": {
     "duration": 0.092061,
     "end_time": "2025-09-19T11:14:54.507155",
     "exception": false,
     "start_time": "2025-09-19T11:14:54.415094",
     "status": "completed"
    },
    "tags": []
   },
   "outputs": [],
   "source": [
    "model.save(\"/kaggle/working/cnn_model.keras\")\n"
   ]
  },
  {
   "cell_type": "code",
   "execution_count": 27,
   "id": "b8073d6c",
   "metadata": {
    "execution": {
     "iopub.execute_input": "2025-09-19T11:14:54.550665Z",
     "iopub.status.busy": "2025-09-19T11:14:54.550295Z",
     "iopub.status.idle": "2025-09-19T11:14:54.903476Z",
     "shell.execute_reply": "2025-09-19T11:14:54.902330Z"
    },
    "papermill": {
     "duration": 0.37674,
     "end_time": "2025-09-19T11:14:54.905022",
     "exception": false,
     "start_time": "2025-09-19T11:14:54.528282",
     "status": "completed"
    },
    "tags": []
   },
   "outputs": [
    {
     "name": "stdout",
     "output_type": "stream",
     "text": [
      "\u001b[1m1/1\u001b[0m \u001b[32m━━━━━━━━━━━━━━━━━━━━\u001b[0m\u001b[37m\u001b[0m \u001b[1m0s\u001b[0m 138ms/step\n",
      "[[1.8849039e-03]\n",
      " [7.2859526e-01]\n",
      " [1.8299589e-01]\n",
      " [1.2828547e-16]\n",
      " [5.0316366e-23]]\n"
     ]
    }
   ],
   "source": [
    "from tensorflow.keras.models import load_model\n",
    "\n",
    "# Laden (egal ob .keras oder .h5)\n",
    "cnn_loaded = load_model(\"/kaggle/working/cnn_model.keras\")\n",
    "\n",
    "# Test\n",
    "print(cnn_loaded.predict(X_test[:5]))\n"
   ]
  },
  {
   "cell_type": "code",
   "execution_count": 28,
   "id": "76842b56",
   "metadata": {
    "execution": {
     "iopub.execute_input": "2025-09-19T11:14:54.948165Z",
     "iopub.status.busy": "2025-09-19T11:14:54.947872Z",
     "iopub.status.idle": "2025-09-19T11:14:54.953998Z",
     "shell.execute_reply": "2025-09-19T11:14:54.953139Z"
    },
    "papermill": {
     "duration": 0.029154,
     "end_time": "2025-09-19T11:14:54.955381",
     "exception": false,
     "start_time": "2025-09-19T11:14:54.926227",
     "status": "completed"
    },
    "tags": []
   },
   "outputs": [
    {
     "data": {
      "text/html": [
       "<a href='/kaggle/working/svm_clf_stress_model.pkl' target='_blank'>/kaggle/working/svm_clf_stress_model.pkl</a><br>"
      ],
      "text/plain": [
       "/kaggle/working/svm_clf_stress_model.pkl"
      ]
     },
     "execution_count": 28,
     "metadata": {},
     "output_type": "execute_result"
    }
   ],
   "source": [
    "## Download der Daten\n",
    "from IPython.display import FileLink\n",
    "\n",
    "FileLink('/kaggle/working/cnn_model.keras')\n",
    "FileLink('/kaggle/working/svm_clf_stress_model.pkl')\n"
   ]
  },
  {
   "cell_type": "code",
   "execution_count": 29,
   "id": "2b486d58",
   "metadata": {
    "execution": {
     "iopub.execute_input": "2025-09-19T11:14:54.998777Z",
     "iopub.status.busy": "2025-09-19T11:14:54.998433Z",
     "iopub.status.idle": "2025-09-19T11:14:55.028577Z",
     "shell.execute_reply": "2025-09-19T11:14:55.027374Z"
    },
    "papermill": {
     "duration": 0.053803,
     "end_time": "2025-09-19T11:14:55.030375",
     "exception": false,
     "start_time": "2025-09-19T11:14:54.976572",
     "status": "completed"
    },
    "tags": []
   },
   "outputs": [
    {
     "name": "stdout",
     "output_type": "stream",
     "text": [
      "Alle Dateien vorhanden.\n",
      "xgb_stress_model.pkl: 167.1 KB\n",
      "__notebook__.ipynb: 157.4 KB\n",
      "random_forest_model.pkl: 316.2 KB\n",
      "svm_clf_stress_model.pkl: 9.8 KB\n",
      "cnn_model.keras: 4634.6 KB\n",
      "models.zip: 4960.9 KB\n",
      "\n",
      "FERTIG: models.zip liegt in /kaggle/working und erscheint im Output-Tab.\n"
     ]
    }
   ],
   "source": [
    "import os, zipfile, shutil\n",
    "\n",
    "# 1) Sicherstellen, dass die Modelle da sind\n",
    "files_to_zip = [\n",
    "    \"/kaggle/working/cnn_model.keras\",\n",
    "    \"/kaggle/working/random_forest_model.pkl\",\n",
    "    \"/kaggle/working/svm_clf_stress_model.pkl\",\n",
    "]\n",
    "\n",
    "missing = [p for p in files_to_zip if not os.path.exists(p)]\n",
    "if missing:\n",
    "    print(\"Fehlende Dateien:\", missing)\n",
    "else:\n",
    "    print(\"Alle Dateien vorhanden.\")\n",
    "\n",
    "# 2) Sauberen Export-Ordner anlegen\n",
    "export_dir = \"/kaggle/working/export\"\n",
    "os.makedirs(export_dir, exist_ok=True)\n",
    "\n",
    "# 3) Dateien in den Export-Ordner kopieren (optional, hält’s übersichtlich)\n",
    "for p in files_to_zip:\n",
    "    if os.path.exists(p):\n",
    "        shutil.copy(p, os.path.join(export_dir, os.path.basename(p)))\n",
    "\n",
    "# 4) Zip nur mit diesen Dateien bauen\n",
    "zip_path = \"/kaggle/working/models.zip\"\n",
    "with zipfile.ZipFile(zip_path, \"w\") as zf:\n",
    "    for name in os.listdir(export_dir):\n",
    "        zf.write(os.path.join(export_dir, name), arcname=name)\n",
    "\n",
    "# 5) Kontrolle: auflisten und Größen anzeigen\n",
    "for name in os.listdir(\"/kaggle/working\"):\n",
    "    full = os.path.join(\"/kaggle/working\", name)\n",
    "    if os.path.isfile(full):\n",
    "        print(f\"{name}: {os.path.getsize(full)/1024:.1f} KB\")\n",
    "\n",
    "print(\"\\nFERTIG: models.zip liegt in /kaggle/working und erscheint im Output-Tab.\")\n"
   ]
  },
  {
   "cell_type": "markdown",
   "id": "df1e5ac9",
   "metadata": {
    "papermill": {
     "duration": 0.020532,
     "end_time": "2025-09-19T11:14:55.072229",
     "exception": false,
     "start_time": "2025-09-19T11:14:55.051697",
     "status": "completed"
    },
    "tags": []
   },
   "source": [
    "## Ausprobieren CNN für \"gelernte Daten\" "
   ]
  },
  {
   "cell_type": "code",
   "execution_count": 30,
   "id": "4429054b",
   "metadata": {
    "execution": {
     "iopub.execute_input": "2025-09-19T11:14:55.115469Z",
     "iopub.status.busy": "2025-09-19T11:14:55.115156Z",
     "iopub.status.idle": "2025-09-19T11:14:55.731160Z",
     "shell.execute_reply": "2025-09-19T11:14:55.730064Z"
    },
    "papermill": {
     "duration": 0.639514,
     "end_time": "2025-09-19T11:14:55.732787",
     "exception": false,
     "start_time": "2025-09-19T11:14:55.093273",
     "status": "completed"
    },
    "tags": []
   },
   "outputs": [
    {
     "name": "stdout",
     "output_type": "stream",
     "text": [
      "\u001b[1m2/2\u001b[0m \u001b[32m━━━━━━━━━━━━━━━━━━━━\u001b[0m\u001b[37m\u001b[0m \u001b[1m1s\u001b[0m 114ms/step\n",
      "              precision    recall  f1-score   support\n",
      "\n",
      "           0      0.962     0.833     0.893        30\n",
      "           1      0.750     0.938     0.833        16\n",
      "\n",
      "    accuracy                          0.870        46\n",
      "   macro avg      0.856     0.885     0.863        46\n",
      "weighted avg      0.888     0.870     0.872        46\n",
      "\n"
     ]
    }
   ],
   "source": [
    "from sklearn.metrics import classification_report\n",
    "\n",
    "y_pred_prob = model.predict(X_test).flatten()\n",
    "y_pred = (y_pred_prob > 0.5).astype(int)\n",
    "\n",
    "print(classification_report(y_test, y_pred, digits=3))\n"
   ]
  },
  {
   "cell_type": "markdown",
   "id": "c4e42b30",
   "metadata": {
    "papermill": {
     "duration": 0.021966,
     "end_time": "2025-09-19T11:14:55.776504",
     "exception": false,
     "start_time": "2025-09-19T11:14:55.754538",
     "status": "completed"
    },
    "tags": []
   },
   "source": [
    "## Ausprobieren CNN für \"NEUE Daten\" -> 8\n",
    "\n",
    "-> Variablen ändern für S12 bzw. S8 \n",
    "-> Ausführen\n",
    "-> "
   ]
  },
  {
   "cell_type": "code",
   "execution_count": 31,
   "id": "7bd221d7",
   "metadata": {
    "execution": {
     "iopub.execute_input": "2025-09-19T11:14:55.823145Z",
     "iopub.status.busy": "2025-09-19T11:14:55.822135Z",
     "iopub.status.idle": "2025-09-19T11:15:04.338411Z",
     "shell.execute_reply": "2025-09-19T11:15:04.337154Z"
    },
    "papermill": {
     "duration": 8.542267,
     "end_time": "2025-09-19T11:15:04.339930",
     "exception": false,
     "start_time": "2025-09-19T11:14:55.797663",
     "status": "completed"
    },
    "tags": []
   },
   "outputs": [
    {
     "name": "stdout",
     "output_type": "stream",
     "text": [
      "Datensätze: (17, 384, 5), Klassenverteilung: [11  6]\n"
     ]
    }
   ],
   "source": [
    "import pandas as pd\n",
    "import numpy as np\n",
    "from scipy.signal import resample\n",
    "from sklearn.model_selection import train_test_split\n",
    "from sklearn.metrics import classification_report\n",
    "\n",
    "file_paths = [\n",
    "    '/kaggle/input/wesad-wearable-stress-affect-detection-dataset/WESAD/S8/S8.pkl'\n",
    "]\n",
    "\n",
    "X_all_list_S8 = []\n",
    "y_all_list_S8 = []\n",
    "\n",
    "for file in file_paths:\n",
    "    with open(file, 'rb') as f:\n",
    "        data = pd.read_pickle(f)\n",
    "\n",
    "    wrist = data['signal']['wrist']\n",
    "    eda = wrist['EDA']\n",
    "    temp = wrist['TEMP']\n",
    "    acc = wrist['ACC']\n",
    "    labels = data['label']\n",
    "\n",
    "    # Resample Labels auf EDA-Länge\n",
    "    labels_resampled = resample(labels.astype(float), len(eda))\n",
    "    labels_resampled = np.round(labels_resampled).astype(int)\n",
    "\n",
    "    # ACC resamplen und alle Kanäle kombinieren\n",
    "    acc_resampled = resample(acc, len(eda))\n",
    "    X_raw = np.hstack([eda, temp, acc_resampled])  # shape: (n_samples, 5)\n",
    "\n",
    "    # Sliding Window\n",
    "    window_size = 384\n",
    "    step_size = 384\n",
    "\n",
    "    for start in range(0, len(X_raw) - window_size, step_size):\n",
    "        end = start + window_size\n",
    "        window = X_raw[start:end]\n",
    "        label_window = labels_resampled[start:end]\n",
    "\n",
    "        if set(np.unique(label_window)).issubset({1, 2}):\n",
    "            X_all_list_S8.append(window)\n",
    "            majority_label_S8 = np.bincount(label_window).argmax()\n",
    "            y_all_list_S8.append(majority_label_S8)\n",
    "\n",
    "# In Arrays umwandeln\n",
    "X_S8 = np.array(X_all_list_S8)                   # shape: (n_windows_total, 384, 5)\n",
    "y_S8 = (np.array(y_all_list_S8) - 1).astype(int) # [1,2] → [0,1]\n",
    "\n",
    "print(f\"Datensätze: {X_S8.shape}, Klassenverteilung: {np.bincount(y_S8)}\")\n"
   ]
  },
  {
   "cell_type": "code",
   "execution_count": 32,
   "id": "c4dbbc1b",
   "metadata": {
    "execution": {
     "iopub.execute_input": "2025-09-19T11:15:04.384813Z",
     "iopub.status.busy": "2025-09-19T11:15:04.384019Z",
     "iopub.status.idle": "2025-09-19T11:15:04.493580Z",
     "shell.execute_reply": "2025-09-19T11:15:04.492621Z"
    },
    "papermill": {
     "duration": 0.133609,
     "end_time": "2025-09-19T11:15:04.495090",
     "exception": false,
     "start_time": "2025-09-19T11:15:04.361481",
     "status": "completed"
    },
    "tags": []
   },
   "outputs": [
    {
     "name": "stdout",
     "output_type": "stream",
     "text": [
      "\u001b[1m1/1\u001b[0m \u001b[32m━━━━━━━━━━━━━━━━━━━━\u001b[0m\u001b[37m\u001b[0m \u001b[1m0s\u001b[0m 39ms/step\n",
      "              precision    recall  f1-score   support\n",
      "\n",
      "           0      0.333     0.273     0.300        11\n",
      "           1      0.000     0.000     0.000         6\n",
      "\n",
      "    accuracy                          0.176        17\n",
      "   macro avg      0.167     0.136     0.150        17\n",
      "weighted avg      0.216     0.176     0.194        17\n",
      "\n"
     ]
    }
   ],
   "source": [
    "y_cnn = (y_S8 - 1).astype(int)  # [1, 2] → [0, 1]\n",
    "\n",
    "#model.fit(X_train, y_train, epochs=20, batch_size=32, validation_split=0.2)\n",
    "\n",
    "\n",
    "from sklearn.metrics import classification_report\n",
    "\n",
    "y_pred_prob = model.predict(X_S8).flatten()\n",
    "y_pred = (y_pred_prob > 0.5).astype(int)\n",
    "\n",
    "print(classification_report(y_S8, y_pred, digits=3))\n"
   ]
  },
  {
   "cell_type": "code",
   "execution_count": 33,
   "id": "ddbc3769",
   "metadata": {
    "execution": {
     "iopub.execute_input": "2025-09-19T11:15:04.541591Z",
     "iopub.status.busy": "2025-09-19T11:15:04.541239Z",
     "iopub.status.idle": "2025-09-19T11:15:11.128390Z",
     "shell.execute_reply": "2025-09-19T11:15:11.127315Z"
    },
    "papermill": {
     "duration": 6.612264,
     "end_time": "2025-09-19T11:15:11.129975",
     "exception": false,
     "start_time": "2025-09-19T11:15:04.517711",
     "status": "completed"
    },
    "tags": []
   },
   "outputs": [
    {
     "name": "stdout",
     "output_type": "stream",
     "text": [
      "Top-Level Keys: dict_keys(['signal', 'label', 'subject'])\n"
     ]
    }
   ],
   "source": [
    "file='/kaggle/input/wesad-wearable-stress-affect-detection-dataset/WESAD/S8/S8.pkl'\n",
    "\n",
    "with open(file, 'rb') as f:\n",
    "    data = pd.read_pickle(f)\n",
    "print(\"Top-Level Keys:\", data.keys())\n"
   ]
  },
  {
   "cell_type": "markdown",
   "id": "44227a91",
   "metadata": {
    "papermill": {
     "duration": 0.02167,
     "end_time": "2025-09-19T11:15:11.174352",
     "exception": false,
     "start_time": "2025-09-19T11:15:11.152682",
     "status": "completed"
    },
    "tags": []
   },
   "source": []
  },
  {
   "cell_type": "code",
   "execution_count": 34,
   "id": "9cd80ff9",
   "metadata": {
    "execution": {
     "iopub.execute_input": "2025-09-19T11:15:11.220470Z",
     "iopub.status.busy": "2025-09-19T11:15:11.220134Z",
     "iopub.status.idle": "2025-09-19T11:15:11.225163Z",
     "shell.execute_reply": "2025-09-19T11:15:11.224097Z"
    },
    "papermill": {
     "duration": 0.030565,
     "end_time": "2025-09-19T11:15:11.226680",
     "exception": false,
     "start_time": "2025-09-19T11:15:11.196115",
     "status": "completed"
    },
    "tags": []
   },
   "outputs": [
    {
     "name": "stdout",
     "output_type": "stream",
     "text": [
      "dict_keys(['ACC', 'ECG', 'EMG', 'EDA', 'Temp', 'Resp'])\n"
     ]
    }
   ],
   "source": [
    "print(data['signal']['chest'].keys())\n",
    "\n"
   ]
  },
  {
   "cell_type": "code",
   "execution_count": null,
   "id": "0cb6520a",
   "metadata": {
    "papermill": {
     "duration": 0.023162,
     "end_time": "2025-09-19T11:15:11.272353",
     "exception": false,
     "start_time": "2025-09-19T11:15:11.249191",
     "status": "completed"
    },
    "tags": []
   },
   "outputs": [],
   "source": []
  }
 ],
 "metadata": {
  "kaggle": {
   "accelerator": "none",
   "dataSources": [
    {
     "datasetId": 7192727,
     "sourceId": 11476463,
     "sourceType": "datasetVersion"
    },
    {
     "datasetId": 8067774,
     "sourceId": 12762224,
     "sourceType": "datasetVersion"
    },
    {
     "datasetId": 8068181,
     "sourceId": 12762826,
     "sourceType": "datasetVersion"
    }
   ],
   "dockerImageVersionId": 31089,
   "isGpuEnabled": false,
   "isInternetEnabled": false,
   "language": "python",
   "sourceType": "notebook"
  },
  "kernelspec": {
   "display_name": "Python 3",
   "language": "python",
   "name": "python3"
  },
  "language_info": {
   "codemirror_mode": {
    "name": "ipython",
    "version": 3
   },
   "file_extension": ".py",
   "mimetype": "text/x-python",
   "name": "python",
   "nbconvert_exporter": "python",
   "pygments_lexer": "ipython3",
   "version": "3.11.13"
  },
  "papermill": {
   "default_parameters": {},
   "duration": 896.453458,
   "end_time": "2025-09-19T11:15:14.737772",
   "environment_variables": {},
   "exception": null,
   "input_path": "__notebook__.ipynb",
   "output_path": "__notebook__.ipynb",
   "parameters": {},
   "start_time": "2025-09-19T11:00:18.284314",
   "version": "2.6.0"
  }
 },
 "nbformat": 4,
 "nbformat_minor": 5
}
